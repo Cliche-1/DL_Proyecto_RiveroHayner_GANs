{
 "cells": [
  {
   "cell_type": "code",
   "execution_count": 1,
   "metadata": {},
   "outputs": [],
   "source": [
    "#%pip install -r ../requeriments.txt --quiet"
   ]
  },
  {
   "cell_type": "markdown",
   "metadata": {},
   "source": [
    "# **Pix2Pix Loss Function Comparison - Notebook Outline**"
   ]
  },
  {
   "cell_type": "markdown",
   "metadata": {},
   "source": [
    "## **1. Introduction and Setup**"
   ]
  },
  {
   "cell_type": "code",
   "execution_count": 1,
   "metadata": {},
   "outputs": [],
   "source": [
    "import torch\n",
    "import torch.nn as nn\n",
    "import torch.optim as optim\n",
    "from torch.utils.data import Dataset, DataLoader\n",
    "import torchvision.transforms as transforms\n",
    "from torchvision.utils import save_image, make_grid\n",
    "import torchvision.models as models\n",
    "\n",
    "import os\n",
    "import numpy as np\n",
    "import matplotlib.pyplot as plt\n",
    "from PIL import Image\n",
    "import random\n",
    "from tqdm import tqdm\n",
    "import time\n",
    "import csv\n",
    "from collections import defaultdict\n",
    "import warnings\n",
    "warnings.filterwarnings('ignore')"
   ]
  },
  {
   "cell_type": "code",
   "execution_count": 2,
   "metadata": {},
   "outputs": [
    {
     "name": "stdout",
     "output_type": "stream",
     "text": [
      "Using device: cuda\n",
      "GPU: NVIDIA L4\n",
      "CUDA Version: 12.8\n",
      "Created project directories\n",
      "============================================================\n",
      "PIX2PIX LOSS FUNCTION COMPARISON\n",
      "Anime Sketch Colorization Pair Dataset\n",
      "============================================================\n",
      "Configuration:\n",
      "- Image Size: 192x192\n",
      "- Batch Size: 16\n",
      "- Max Dataset Size: 10000\n",
      "- Training Epochs: 60\n",
      "- Device: cuda\n",
      "============================================================\n"
     ]
    }
   ],
   "source": [
    "device = torch.device('cuda' if torch.cuda.is_available() else 'cpu')\n",
    "print(f\"Using device: {device}\")\n",
    "if torch.cuda.is_available():\n",
    "    print(f\"GPU: {torch.cuda.get_device_name()}\")\n",
    "    print(f\"CUDA Version: {torch.version.cuda}\")\n",
    "\n",
    "# Project configuration\n",
    "class Config:\n",
    "    # Dataset paths\n",
    "    DATA_DIR = \"../data\"\n",
    "    TRAIN_DIR = os.path.join(DATA_DIR, \"train\")\n",
    "    VAL_DIR = os.path.join(DATA_DIR, \"val\")\n",
    "    \n",
    "    # Training parameters\n",
    "    BATCH_SIZE = 16\n",
    "    NUM_WORKERS = 2\n",
    "    IMAGE_SIZE = 192 \n",
    "    CHANNELS_IMG = 3\n",
    "    LEARNING_RATE = 2e-4\n",
    "    BETA1 = 0.5\n",
    "    BETA2 = 0.999\n",
    "    \n",
    "    # Loss function parameters\n",
    "    L1_LAMBDA = 100\n",
    "    PERCEPTUAL_LAMBDA = 10\n",
    "    TV_LAMBDA = 0.1\n",
    "    \n",
    "    # Training settings\n",
    "    NUM_EPOCHS = 60\n",
    "    SAMPLE_INTERVAL = 10\n",
    "    CHECKPOINT_INTERVAL = 10\n",
    "    MAX_DATASET_SIZE = 10000 \n",
    "    \n",
    "    # Results directories\n",
    "    RESULTS_DIR = \"results\"\n",
    "    GENERATED_SAMPLES_DIR = os.path.join(RESULTS_DIR, \"generated_samples\")\n",
    "    SUMMARY_IMG_DIR = os.path.join(RESULTS_DIR, \"summary\", \"img_reports\")\n",
    "    SUMMARY_CSV_DIR = os.path.join(RESULTS_DIR, \"summary\", \"csv\")\n",
    "    \n",
    "    # Model checkpoints\n",
    "    CHECKPOINT_DIR = \"checkpoints\"\n",
    "    \n",
    "    # Device\n",
    "    DEVICE = device\n",
    "\n",
    "# Create folders\n",
    "def create_directories():\n",
    "    \"\"\"Create all necessary directories for the project\"\"\"\n",
    "    dirs = [\n",
    "        Config.RESULTS_DIR,\n",
    "        Config.GENERATED_SAMPLES_DIR,\n",
    "        Config.SUMMARY_IMG_DIR,\n",
    "        Config.SUMMARY_CSV_DIR,\n",
    "        Config.CHECKPOINT_DIR\n",
    "    ]\n",
    "    \n",
    "    for dir_path in dirs:\n",
    "        os.makedirs(dir_path, exist_ok=True)\n",
    "    print(\"Created project directories\")\n",
    "\n",
    "create_directories()\n",
    "\n",
    "# Set seeds\n",
    "def set_seed(seed=42):\n",
    "    \"\"\"Set random seeds for reproducible results\"\"\"\n",
    "    random.seed(seed)\n",
    "    np.random.seed(seed)\n",
    "    torch.manual_seed(seed)\n",
    "    torch.cuda.manual_seed(seed)\n",
    "    torch.cuda.manual_seed_all(seed)\n",
    "    torch.backends.cudnn.deterministic = True\n",
    "    torch.backends.cudnn.benchmark = False\n",
    "\n",
    "set_seed(30082025)\n",
    "\n",
    "# Data transformations\n",
    "transform_both = transforms.Compose([\n",
    "    transforms.Resize((Config.IMAGE_SIZE, Config.IMAGE_SIZE)),\n",
    "])\n",
    "\n",
    "transform_input = transforms.Compose([\n",
    "    transforms.RandomHorizontalFlip(p=0.5),\n",
    "    transforms.ColorJitter(brightness=0.2, contrast=0.2, saturation=0.2, hue=0.1),\n",
    "    transforms.ToTensor(),\n",
    "    transforms.Normalize(mean=[0.5, 0.5, 0.5], std=[0.5, 0.5, 0.5])\n",
    "])\n",
    "\n",
    "transform_target = transforms.Compose([\n",
    "    transforms.ToTensor(),\n",
    "    transforms.Normalize(mean=[0.5, 0.5, 0.5], std=[0.5, 0.5, 0.5])\n",
    "])\n",
    "\n",
    "transform_val = transforms.Compose([\n",
    "    transforms.ToTensor(),\n",
    "    transforms.Normalize(mean=[0.5, 0.5, 0.5], std=[0.5, 0.5, 0.5])\n",
    "])\n",
    "\n",
    "# Utility functions\n",
    "def denormalize(tensor):\n",
    "    \"\"\"[-1, 1] to [0, 1]\"\"\"\n",
    "    return tensor * 0.5 + 0.5\n",
    "\n",
    "def save_sample_images(generator, val_loader, epoch, folder, num_samples=4):\n",
    "    generator.eval()\n",
    "    with torch.no_grad():\n",
    "        batch_sketch, batch_real = next(iter(val_loader))\n",
    "        batch_sketch = batch_sketch[:num_samples].to(Config.DEVICE)\n",
    "        batch_real = batch_real[:num_samples].to(Config.DEVICE)\n",
    "        \n",
    "        generated = generator(batch_sketch)\n",
    "        \n",
    "        # Denormalize\n",
    "        sketch_imgs = denormalize(batch_sketch)\n",
    "        real_imgs = denormalize(batch_real)\n",
    "        gen_imgs = denormalize(generated)\n",
    "        \n",
    "        # Comparison grid\n",
    "        comparison = torch.cat([sketch_imgs, real_imgs, gen_imgs], dim=0)\n",
    "        save_image(comparison, \n",
    "                  os.path.join(folder, f\"epoch_{epoch:03d}.png\"), \n",
    "                  nrow=num_samples, normalize=False)\n",
    "    \n",
    "    generator.train()\n",
    "\n",
    "def get_gpu_memory():\n",
    "    \"\"\"Get current GPU memory usage\"\"\"\n",
    "    if torch.cuda.is_available():\n",
    "        return torch.cuda.memory_allocated() / 1024**3  # GB\n",
    "    return 0\n",
    "\n",
    "def log_metrics(metrics_dict, csv_path):\n",
    "    \"\"\"Log metrics to CSV file\"\"\"\n",
    "    file_exists = os.path.isfile(csv_path)\n",
    "    with open(csv_path, 'a', newline='') as csvfile:\n",
    "        writer = csv.DictWriter(csvfile, fieldnames=metrics_dict.keys())\n",
    "        if not file_exists:\n",
    "            writer.writeheader()\n",
    "        writer.writerow(metrics_dict)\n",
    "\n",
    "print(\"=\" * 60)\n",
    "print(\"PIX2PIX LOSS FUNCTION COMPARISON\")\n",
    "print(\"Anime Sketch Colorization Pair Dataset\")\n",
    "print(\"=\" * 60)\n",
    "print(f\"Configuration:\")\n",
    "print(f\"- Image Size: {Config.IMAGE_SIZE}x{Config.IMAGE_SIZE}\")\n",
    "print(f\"- Batch Size: {Config.BATCH_SIZE}\")\n",
    "print(f\"- Max Dataset Size: {Config.MAX_DATASET_SIZE}\")\n",
    "print(f\"- Training Epochs: {Config.NUM_EPOCHS}\")\n",
    "print(f\"- Device: {Config.DEVICE}\")\n",
    "print(\"=\" * 60)"
   ]
  },
  {
   "cell_type": "markdown",
   "metadata": {},
   "source": [
    "## **2. Dataset Loading and Preprocessing**"
   ]
  },
  {
   "cell_type": "code",
   "execution_count": 3,
   "metadata": {},
   "outputs": [
    {
     "name": "stdout",
     "output_type": "stream",
     "text": [
      "Creating datasets with 8000 train and 2000 val images\n",
      "Found 8000 images in ../data/train\n",
      "Found 2000 images in ../data/val\n",
      "Train loader: 500 batches\n",
      "Val loader: 125 batches\n",
      "Dataset samples saved to results/summary/img_reports/dataset_samples.png\n"
     ]
    },
    {
     "data": {
      "image/png": "[encoded data removed]",
      "text/plain": [
       "<Figure size 1200x600 with 8 Axes>"
      ]
     },
     "metadata": {},
     "output_type": "display_data"
    },
    {
     "name": "stdout",
     "output_type": "stream",
     "text": [
      "Dataset statistics:\n",
      "- Training batches: 500\n",
      "- Validation batches: 125\n",
      "- Image resolution: 192x192\n",
      "- Batch size: 16\n"
     ]
    }
   ],
   "source": [
    "import glob\n",
    "\n",
    "class AnimeSketchDataset(Dataset):\n",
    "    def __init__(self, root_dir, max_size=None, is_train=True):\n",
    "        self.root_dir = root_dir\n",
    "        self.is_train = is_train\n",
    "        self.image_files = []\n",
    "\n",
    "        # Get img\n",
    "        for ext in ['*.png', '*.jpg', '*.jpeg']:\n",
    "            self.image_files.extend(glob.glob(os.path.join(root_dir, ext)))\n",
    "        \n",
    "        # Limit dataset size\n",
    "        if max_size and len(self.image_files) > max_size:\n",
    "            self.image_files = random.sample(self.image_files, max_size)\n",
    "        \n",
    "        print(f\"Found {len(self.image_files)} images in {root_dir}\")\n",
    "    \n",
    "    def __len__(self):\n",
    "        return len(self.image_files)\n",
    "    \n",
    "    def __getitem__(self, idx):\n",
    "        img_path = self.image_files[idx]\n",
    "        \n",
    "        # Load the combined image\n",
    "        image = Image.open(img_path).convert('RGB')\n",
    "        w, h = image.size\n",
    "        \n",
    "        # Split the image (Left/right)\n",
    "        color_img = image.crop((0, 0, w // 2, h))\n",
    "        sketch_img = image.crop((w // 2, 0, w, h))\n",
    "        \n",
    "        # Size transformations\n",
    "        color_img = transform_both(color_img)\n",
    "        sketch_img = transform_both(sketch_img)\n",
    "        \n",
    "        if self.is_train:\n",
    "            seed = random.randint(0, 2**32)\n",
    "            \n",
    "            # Transform sketch (input)\n",
    "            random.seed(seed)\n",
    "            torch.manual_seed(seed)\n",
    "            sketch_tensor = transform_input(sketch_img)\n",
    "            \n",
    "            # Transform color (target) - no augmentation\n",
    "            color_tensor = transform_target(color_img)\n",
    "        else:\n",
    "            # No augmentation for validation\n",
    "            sketch_tensor = transform_val(sketch_img)\n",
    "            color_tensor = transform_val(color_img)\n",
    "        \n",
    "        return sketch_tensor, color_tensor\n",
    "\n",
    "def create_data_loaders():\n",
    "    \"\"\"Create train and validation data loaders\"\"\"\n",
    "    \n",
    "    train_size = int(Config.MAX_DATASET_SIZE * 0.8)  # 80% for training\n",
    "    val_size = Config.MAX_DATASET_SIZE - train_size   # 20% for validation\n",
    "    \n",
    "    print(f\"Creating datasets with {train_size} train and {val_size} val images\")\n",
    "    \n",
    "    # Create datasets\n",
    "    train_dataset = AnimeSketchDataset(\n",
    "        Config.TRAIN_DIR, \n",
    "        max_size=train_size, \n",
    "        is_train=True\n",
    "    )\n",
    "    \n",
    "    val_dataset = AnimeSketchDataset(\n",
    "        Config.VAL_DIR, \n",
    "        max_size=val_size, \n",
    "        is_train=False\n",
    "    )\n",
    "    \n",
    "    # Create data loaders\n",
    "    train_loader = DataLoader(\n",
    "        train_dataset,\n",
    "        batch_size=Config.BATCH_SIZE,\n",
    "        shuffle=True,\n",
    "        num_workers=Config.NUM_WORKERS,\n",
    "        pin_memory=True if Config.DEVICE.type == 'cuda' else False\n",
    "    )\n",
    "    \n",
    "    val_loader = DataLoader(\n",
    "        val_dataset,\n",
    "        batch_size=Config.BATCH_SIZE,\n",
    "        shuffle=False,\n",
    "        num_workers=Config.NUM_WORKERS,\n",
    "        pin_memory=True if Config.DEVICE.type == 'cuda' else False\n",
    "    )\n",
    "    \n",
    "    print(f\"Train loader: {len(train_loader)} batches\")\n",
    "    print(f\"Val loader: {len(val_loader)} batches\")\n",
    "    \n",
    "    return train_loader, val_loader\n",
    "\n",
    "def visualize_dataset_samples(data_loader, num_samples=4, save_path=None):\n",
    "    \"\"\"Visualize dataset samples\"\"\"\n",
    "    data_iter = iter(data_loader)\n",
    "    sketch_batch, color_batch = next(data_iter)\n",
    "    \n",
    "    # Few samples\n",
    "    sketches = sketch_batch[:num_samples]\n",
    "    colors = color_batch[:num_samples]\n",
    "    \n",
    "    # Den for visualization\n",
    "    sketches = denormalize(sketches)\n",
    "    colors = denormalize(colors)\n",
    "    \n",
    "    # Visualization\n",
    "    fig, axes = plt.subplots(2, num_samples, figsize=(num_samples * 3, 6))\n",
    "    \n",
    "    for i in range(num_samples):\n",
    "        # Top\n",
    "        sketch_np = sketches[i].permute(1, 2, 0).cpu().numpy()\n",
    "        axes[0, i].imshow(sketch_np)\n",
    "        axes[0, i].set_title(f'Sketch {i+1}')\n",
    "        axes[0, i].axis('off')\n",
    "        \n",
    "        # Bottom\n",
    "        color_np = colors[i].permute(1, 2, 0).cpu().numpy()\n",
    "        axes[1, i].imshow(color_np)\n",
    "        axes[1, i].set_title(f'Color {i+1}')\n",
    "        axes[1, i].axis('off')\n",
    "    \n",
    "    plt.tight_layout()\n",
    "    \n",
    "    if save_path:\n",
    "        plt.savefig(save_path, dpi=150, bbox_inches='tight')\n",
    "        print(f\"Dataset samples saved to {save_path}\")\n",
    "    \n",
    "    plt.show()\n",
    "\n",
    "# Create the data loaders\n",
    "train_loader, val_loader = create_data_loaders()\n",
    "\n",
    "# Some samples\n",
    "sample_viz_path = os.path.join(Config.SUMMARY_IMG_DIR, \"dataset_samples.png\")\n",
    "visualize_dataset_samples(val_loader, num_samples=4, save_path=sample_viz_path)\n",
    "\n",
    "print(f\"Dataset statistics:\")\n",
    "print(f\"- Training batches: {len(train_loader)}\")\n",
    "print(f\"- Validation batches: {len(val_loader)}\")\n",
    "print(f\"- Image resolution: {Config.IMAGE_SIZE}x{Config.IMAGE_SIZE}\")\n",
    "print(f\"- Batch size: {Config.BATCH_SIZE}\")"
   ]
  },
  {
   "cell_type": "markdown",
   "metadata": {},
   "source": [
    "## **3. Model Architecture Implementation**"
   ]
  },
  {
   "cell_type": "code",
   "execution_count": 4,
   "metadata": {},
   "outputs": [
    {
     "name": "stdout",
     "output_type": "stream",
     "text": [
      "Generator parameters: 41,829,571\n",
      "Discriminator parameters: 2,768,705\n",
      "Total parameters: 44,598,276\n",
      "Generator input shape: torch.Size([2, 3, 192, 192])\n",
      "Generator output shape: torch.Size([2, 3, 192, 192])\n",
      "Discriminator inputs shape: torch.Size([2, 3, 192, 192]), torch.Size([2, 3, 192, 192])\n",
      "Discriminator output shape: torch.Size([2, 1, 22, 22])\n",
      "Models created and moved to cuda\n"
     ]
    }
   ],
   "source": [
    "class ConvBlock(nn.Module):\n",
    "    \"\"\"Convolutional block for encoder\"\"\"\n",
    "    def __init__(self, in_channels, out_channels, down=True, use_bn=True, use_dropout=False):\n",
    "        super().__init__()\n",
    "        self.conv = nn.Conv2d(in_channels, out_channels, 4, 2, 1, bias=False) if down else \\\n",
    "                   nn.ConvTranspose2d(in_channels, out_channels, 4, 2, 1, bias=False)\n",
    "        self.bn = nn.BatchNorm2d(out_channels) if use_bn else None\n",
    "        self.dropout = nn.Dropout(0.5) if use_dropout else None\n",
    "        self.activation = nn.LeakyReLU(0.2) if down else nn.ReLU()\n",
    "    \n",
    "    def forward(self, x):\n",
    "        x = self.conv(x)\n",
    "        if self.bn:\n",
    "            x = self.bn(x)\n",
    "        if self.dropout:\n",
    "            x = self.dropout(x)\n",
    "        return self.activation(x)\n",
    "\n",
    "class Generator(nn.Module):\n",
    "    \"\"\"U-Net Generator\"\"\"\n",
    "    def __init__(self, in_channels=3, out_channels=3, features=64):\n",
    "        super().__init__()\n",
    "        \n",
    "        # Encoder (downsampling)\n",
    "        self.down1 = nn.Sequential(\n",
    "            nn.Conv2d(in_channels, features, 4, 2, 1, padding_mode='reflect'),\n",
    "            nn.LeakyReLU(0.2)\n",
    "        )\n",
    "        self.down2 = ConvBlock(features, features * 2, down=True, use_bn=True)\n",
    "        self.down3 = ConvBlock(features * 2, features * 4, down=True, use_bn=True)\n",
    "        self.down4 = ConvBlock(features * 4, features * 8, down=True, use_bn=True)\n",
    "        self.down5 = ConvBlock(features * 8, features * 8, down=True, use_bn=True)\n",
    "        self.down6 = ConvBlock(features * 8, features * 8, down=True, use_bn=True)\n",
    "        \n",
    "        # Bottleneck\n",
    "        self.bottleneck = nn.Sequential(\n",
    "            nn.Conv2d(features * 8, features * 8, 4, 2, 1, padding_mode='reflect'),\n",
    "            nn.ReLU()\n",
    "        )\n",
    "        \n",
    "        # Decoder (upsampling) with skip connections\n",
    "        self.up1 = ConvBlock(features * 8, features * 8, down=False, use_bn=True, use_dropout=True)\n",
    "        self.up2 = ConvBlock(features * 8 * 2, features * 8, down=False, use_bn=True, use_dropout=True)\n",
    "        self.up3 = ConvBlock(features * 8 * 2, features * 8, down=False, use_bn=True, use_dropout=True)\n",
    "        self.up4 = ConvBlock(features * 8 * 2, features * 4, down=False, use_bn=True)\n",
    "        self.up5 = ConvBlock(features * 4 * 2, features * 2, down=False, use_bn=True)\n",
    "        self.up6 = ConvBlock(features * 2 * 2, features, down=False, use_bn=True)\n",
    "        \n",
    "        # Final layer\n",
    "        self.final = nn.Sequential(\n",
    "            nn.ConvTranspose2d(features * 2, out_channels, 4, 2, 1),\n",
    "            nn.Tanh()\n",
    "        )\n",
    "    \n",
    "    def forward(self, x):\n",
    "        # Encoder with skip connections\n",
    "        d1 = self.down1(x)\n",
    "        d2 = self.down2(d1)\n",
    "        d3 = self.down3(d2)\n",
    "        d4 = self.down4(d3)\n",
    "        d5 = self.down5(d4)\n",
    "        d6 = self.down6(d5)\n",
    "        \n",
    "        # Bottleneck\n",
    "        bottleneck = self.bottleneck(d6)\n",
    "        \n",
    "        # Decoder with skip connections\n",
    "        u1 = self.up1(bottleneck)\n",
    "        # Ensure spatial dimensions match\n",
    "        if u1.shape[2:] != d6.shape[2:]:\n",
    "            u1 = nn.functional.interpolate(u1, size=d6.shape[2:], mode='bilinear', align_corners=False)\n",
    "        u2 = self.up2(torch.cat([u1, d6], dim=1))\n",
    "        \n",
    "        if u2.shape[2:] != d5.shape[2:]:\n",
    "            u2 = nn.functional.interpolate(u2, size=d5.shape[2:], mode='bilinear', align_corners=False)\n",
    "        u3 = self.up3(torch.cat([u2, d5], dim=1))\n",
    "        \n",
    "        if u3.shape[2:] != d4.shape[2:]:\n",
    "            u3 = nn.functional.interpolate(u3, size=d4.shape[2:], mode='bilinear', align_corners=False)\n",
    "        u4 = self.up4(torch.cat([u3, d4], dim=1))\n",
    "        \n",
    "        if u4.shape[2:] != d3.shape[2:]:\n",
    "            u4 = nn.functional.interpolate(u4, size=d3.shape[2:], mode='bilinear', align_corners=False)\n",
    "        u5 = self.up5(torch.cat([u4, d3], dim=1))\n",
    "        \n",
    "        if u5.shape[2:] != d2.shape[2:]:\n",
    "            u5 = nn.functional.interpolate(u5, size=d2.shape[2:], mode='bilinear', align_corners=False)\n",
    "        u6 = self.up6(torch.cat([u5, d2], dim=1))\n",
    "        \n",
    "        if u6.shape[2:] != d1.shape[2:]:\n",
    "            u6 = nn.functional.interpolate(u6, size=d1.shape[2:], mode='bilinear', align_corners=False)\n",
    "        \n",
    "        return self.final(torch.cat([u6, d1], dim=1))\n",
    "\n",
    "class Discriminator(nn.Module):\n",
    "    \"\"\"PatchGAN Discriminator\"\"\"\n",
    "    def __init__(self, in_channels=3, features=64):\n",
    "        super().__init__()\n",
    "        \n",
    "        # Input: concatenated sketch and target/generated\n",
    "        self.initial = nn.Sequential(\n",
    "            nn.Conv2d(in_channels * 2, features, 4, 2, 1, padding_mode='reflect'),\n",
    "            nn.LeakyReLU(0.2)\n",
    "        )\n",
    "        \n",
    "        self.conv1 = nn.Sequential(\n",
    "            nn.Conv2d(features, features * 2, 4, 2, 1, bias=False, padding_mode='reflect'),\n",
    "            nn.BatchNorm2d(features * 2),\n",
    "            nn.LeakyReLU(0.2)\n",
    "        )\n",
    "        \n",
    "        self.conv2 = nn.Sequential(\n",
    "            nn.Conv2d(features * 2, features * 4, 4, 2, 1, bias=False, padding_mode='reflect'),\n",
    "            nn.BatchNorm2d(features * 4),\n",
    "            nn.LeakyReLU(0.2)\n",
    "        )\n",
    "        \n",
    "        self.conv3 = nn.Sequential(\n",
    "            nn.Conv2d(features * 4, features * 8, 4, 1, 1, bias=False, padding_mode='reflect'),\n",
    "            nn.BatchNorm2d(features * 8),\n",
    "            nn.LeakyReLU(0.2)\n",
    "        )\n",
    "        \n",
    "        # Final layer\n",
    "        self.final = nn.Conv2d(features * 8, 1, 4, 1, 1, padding_mode='reflect')\n",
    "    \n",
    "    def forward(self, sketch, target):\n",
    "        x = torch.cat([sketch, target], dim=1)\n",
    "        x = self.initial(x)\n",
    "        x = self.conv1(x)\n",
    "        x = self.conv2(x)\n",
    "        x = self.conv3(x)\n",
    "        return self.final(x)\n",
    "\n",
    "def initialize_weights(model):\n",
    "    for m in model.modules():\n",
    "        if isinstance(m, (nn.Conv2d, nn.ConvTranspose2d)):\n",
    "            nn.init.normal_(m.weight, 0.0, 0.02)\n",
    "        elif isinstance(m, nn.BatchNorm2d):\n",
    "            nn.init.normal_(m.weight, 1.0, 0.02)\n",
    "            nn.init.constant_(m.bias, 0)\n",
    "\n",
    "def create_models():\n",
    "    generator = Generator(\n",
    "        in_channels=Config.CHANNELS_IMG,\n",
    "        out_channels=Config.CHANNELS_IMG,\n",
    "        features=64\n",
    "    ).to(Config.DEVICE)\n",
    "    \n",
    "    discriminator = Discriminator(\n",
    "        in_channels=Config.CHANNELS_IMG,\n",
    "        features=64\n",
    "    ).to(Config.DEVICE)\n",
    "    \n",
    "    # Initialize weights\n",
    "    initialize_weights(generator)\n",
    "    initialize_weights(discriminator)\n",
    "    \n",
    "    # Print model info\n",
    "    def count_parameters(model):\n",
    "        return sum(p.numel() for p in model.parameters() if p.requires_grad)\n",
    "    \n",
    "    gen_params = count_parameters(generator)\n",
    "    disc_params = count_parameters(discriminator)\n",
    "    \n",
    "    print(f\"Generator parameters: {gen_params:,}\")\n",
    "    print(f\"Discriminator parameters: {disc_params:,}\")\n",
    "    print(f\"Total parameters: {gen_params + disc_params:,}\")\n",
    "    \n",
    "    return generator, discriminator\n",
    "\n",
    "def test_models():\n",
    "\n",
    "    batch_size = 2\n",
    "    dummy_sketch = torch.randn(batch_size, 3, Config.IMAGE_SIZE, Config.IMAGE_SIZE).to(Config.DEVICE)\n",
    "    dummy_color = torch.randn(batch_size, 3, Config.IMAGE_SIZE, Config.IMAGE_SIZE).to(Config.DEVICE)\n",
    "    \n",
    "    # Test generator\n",
    "    gen = Generator().to(Config.DEVICE)\n",
    "    gen_output = gen(dummy_sketch)\n",
    "    print(f\"Generator input shape: {dummy_sketch.shape}\")\n",
    "    print(f\"Generator output shape: {gen_output.shape}\")\n",
    "    \n",
    "    # Test discriminator\n",
    "    disc = Discriminator().to(Config.DEVICE)\n",
    "    disc_output = disc(dummy_sketch, dummy_color)\n",
    "    print(f\"Discriminator inputs shape: {dummy_sketch.shape}, {dummy_color.shape}\")\n",
    "    print(f\"Discriminator output shape: {disc_output.shape}\")\n",
    "    \n",
    "    # Cleanup\n",
    "    del gen, disc, dummy_sketch, dummy_color, gen_output, disc_output\n",
    "    torch.cuda.empty_cache() if torch.cuda.is_available() else None\n",
    "    \n",
    "\n",
    "# Create the models\n",
    "generator, discriminator = create_models()\n",
    "\n",
    "# Test model architectures\n",
    "test_models()\n",
    "\n",
    "print(f\"Models created and moved to {Config.DEVICE}\")"
   ]
  },
  {
   "cell_type": "markdown",
   "metadata": {},
   "source": [
    "## **4. Loss Functions Implementation**"
   ]
  },
  {
   "cell_type": "code",
   "execution_count": 5,
   "metadata": {},
   "outputs": [
    {
     "name": "stdout",
     "output_type": "stream",
     "text": [
      "Discriminator loss: 0.7982\n",
      "Standard generator loss: 113.7644\n",
      "  - Adversarial: 0.7976\n",
      "  - L1: 1.1297\n",
      "Perceptual generator loss: 253.8199\n",
      "  - Adversarial: 0.7976\n",
      "  - L1: 1.1297\n",
      "  - Perceptual: 14.0055\n",
      "Regularized generator loss: 113.9903\n",
      "  - Adversarial: 0.7976\n",
      "  - L1: 1.1297\n",
      "  - TV: 2.2591\n",
      "Available loss configurations:\n",
      "1. Standard: BCE + L1 Loss\n",
      "2. Perceptual: BCE + L1 + VGG Perceptual Loss\n",
      "3. Regularized: BCE + L1 + Total Variation Loss\n"
     ]
    }
   ],
   "source": [
    "class VGGPerceptualLoss(nn.Module):\n",
    "    def __init__(self, layer_weights=None):\n",
    "        super().__init__()\n",
    "        # Pre-trained VGG19\n",
    "        vgg = models.vgg19(pretrained=True).features\n",
    "        self.vgg_layers = nn.ModuleList()\n",
    "\n",
    "        layer_indices = [1, 6, 11, 20, 29]\n",
    "        \n",
    "        current_layer = 0\n",
    "        temp_seq = nn.Sequential()\n",
    "        \n",
    "        for i, layer in enumerate(vgg):\n",
    "            temp_seq.add_module(str(i), layer)\n",
    "            if i in layer_indices:\n",
    "                self.vgg_layers.append(temp_seq)\n",
    "                temp_seq = nn.Sequential()\n",
    "        \n",
    "        for param in self.parameters():\n",
    "            param.requires_grad = False\n",
    "        \n",
    "        # Layer weights for combining\n",
    "        self.layer_weights = layer_weights or [1.0, 1.0, 1.0, 1.0, 1.0]\n",
    "    \n",
    "    def forward(self, pred, target):\n",
    "        pred = (pred + 1) / 2\n",
    "        target = (target + 1) / 2\n",
    "        \n",
    "        if pred.shape[1] == 1:\n",
    "            pred = pred.repeat(1, 3, 1, 1)\n",
    "        if target.shape[1] == 1:\n",
    "            target = target.repeat(1, 3, 1, 1)\n",
    "        \n",
    "        loss = 0\n",
    "        pred_features = pred\n",
    "        target_features = target\n",
    "        \n",
    "        for i, layer in enumerate(self.vgg_layers):\n",
    "            pred_features = layer(pred_features)\n",
    "            target_features = layer(target_features)\n",
    "            \n",
    "            # L2 loss between feature maps\n",
    "            layer_loss = nn.functional.mse_loss(pred_features, target_features)\n",
    "            loss += self.layer_weights[i] * layer_loss\n",
    "        \n",
    "        return loss\n",
    "\n",
    "class TotalVariationLoss(nn.Module):\n",
    "    def __init__(self):\n",
    "        super().__init__()\n",
    "    \n",
    "    def forward(self, x):\n",
    "        # Calculate differences in horizontal and vertical directions\n",
    "        diff_h = torch.abs(x[:, :, :-1, :] - x[:, :, 1:, :])\n",
    "        diff_w = torch.abs(x[:, :, :, :-1] - x[:, :, :, 1:])\n",
    "        \n",
    "        # Sum over all dimensions except batch\n",
    "        tv_loss = torch.mean(diff_h) + torch.mean(diff_w)\n",
    "        return tv_loss\n",
    "\n",
    "class LossFunctions:\n",
    "    def __init__(self, device):\n",
    "        self.device = device\n",
    "        \n",
    "        # Basic losses\n",
    "        self.bce_loss = nn.BCEWithLogitsLoss()\n",
    "        self.l1_loss = nn.L1Loss()\n",
    "        self.mse_loss = nn.MSELoss()\n",
    "        \n",
    "        # Other losses\n",
    "        self.perceptual_loss = VGGPerceptualLoss().to(device)\n",
    "        self.tv_loss = TotalVariationLoss()\n",
    "    \n",
    "    def discriminator_loss(self, real_pred, fake_pred):\n",
    "        \"\"\"Standard discriminator loss\"\"\"\n",
    "        real_loss = self.bce_loss(real_pred, torch.ones_like(real_pred))\n",
    "        fake_loss = self.bce_loss(fake_pred, torch.zeros_like(fake_pred))\n",
    "        return (real_loss + fake_loss) / 2\n",
    "    \n",
    "    def generator_loss_standard(self, fake_pred, fake_img, real_img, l1_lambda=100):\n",
    "        \"\"\"Standard Pix2Pix loss: BCE + L1\"\"\"\n",
    "        # Adversarial loss\n",
    "        adv_loss = self.bce_loss(fake_pred, torch.ones_like(fake_pred))\n",
    "        \n",
    "        # L1 reconstruction loss\n",
    "        l1_loss = self.l1_loss(fake_img, real_img)\n",
    "        \n",
    "        return adv_loss + l1_lambda * l1_loss, {\n",
    "            'adv_loss': adv_loss.item(),\n",
    "            'l1_loss': l1_loss.item()\n",
    "        }\n",
    "    \n",
    "    def generator_loss_perceptual(self, fake_pred, fake_img, real_img, \n",
    "                                l1_lambda=100, perceptual_lambda=10):\n",
    "        \"\"\"Perceptual Pix2Pix loss: BCE + L1 + VGG\"\"\"\n",
    "        # Adversarial loss\n",
    "        adv_loss = self.bce_loss(fake_pred, torch.ones_like(fake_pred))\n",
    "        \n",
    "        # L1 reconstruction loss\n",
    "        l1_loss = self.l1_loss(fake_img, real_img)\n",
    "        \n",
    "        # Perceptual loss\n",
    "        perc_loss = self.perceptual_loss(fake_img, real_img)\n",
    "        \n",
    "        total_loss = adv_loss + l1_lambda * l1_loss + perceptual_lambda * perc_loss\n",
    "        \n",
    "        return total_loss, {\n",
    "            'adv_loss': adv_loss.item(),\n",
    "            'l1_loss': l1_loss.item(),\n",
    "            'perceptual_loss': perc_loss.item()\n",
    "        }\n",
    "    \n",
    "    def generator_loss_regularized(self, fake_pred, fake_img, real_img, \n",
    "                                 l1_lambda=100, tv_lambda=0.1):\n",
    "        \"\"\"Regularized Pix2Pix loss: BCE + L1 + Total Variation\"\"\"\n",
    "        # Adversarial loss\n",
    "        adv_loss = self.bce_loss(fake_pred, torch.ones_like(fake_pred))\n",
    "        \n",
    "        # L1 reconstruction loss\n",
    "        l1_loss = self.l1_loss(fake_img, real_img)\n",
    "        \n",
    "        # Total variation loss for smoothness\n",
    "        tv_loss = self.tv_loss(fake_img)\n",
    "        \n",
    "        total_loss = adv_loss + l1_lambda * l1_loss + tv_lambda * tv_loss\n",
    "        \n",
    "        return total_loss, {\n",
    "            'adv_loss': adv_loss.item(),\n",
    "            'l1_loss': l1_loss.item(),\n",
    "            'tv_loss': tv_loss.item()\n",
    "        }\n",
    "\n",
    "def test_loss_functions():\n",
    "    batch_size = 2\n",
    "    dummy_real = torch.randn(batch_size, 3, Config.IMAGE_SIZE, Config.IMAGE_SIZE).to(Config.DEVICE)\n",
    "    dummy_fake = torch.randn(batch_size, 3, Config.IMAGE_SIZE, Config.IMAGE_SIZE).to(Config.DEVICE)\n",
    "    dummy_disc_pred = torch.randn(batch_size, 1, 16, 16).to(Config.DEVICE)  # PatchGAN output\n",
    "    \n",
    "    # Initialize loss functions\n",
    "    loss_fn = LossFunctions(Config.DEVICE)\n",
    "    \n",
    "    # Test discriminator loss\n",
    "    disc_loss = loss_fn.discriminator_loss(dummy_disc_pred, dummy_disc_pred)\n",
    "    print(f\"Discriminator loss: {disc_loss.item():.4f}\")\n",
    "    \n",
    "    # Test standard generator loss\n",
    "    gen_loss_std, metrics_std = loss_fn.generator_loss_standard(\n",
    "        dummy_disc_pred, dummy_fake, dummy_real\n",
    "    )\n",
    "    print(f\"Standard generator loss: {gen_loss_std.item():.4f}\")\n",
    "    print(f\"  - Adversarial: {metrics_std['adv_loss']:.4f}\")\n",
    "    print(f\"  - L1: {metrics_std['l1_loss']:.4f}\")\n",
    "    \n",
    "    # Test perceptual generator loss\n",
    "    gen_loss_perc, metrics_perc = loss_fn.generator_loss_perceptual(\n",
    "        dummy_disc_pred, dummy_fake, dummy_real\n",
    "    )\n",
    "    print(f\"Perceptual generator loss: {gen_loss_perc.item():.4f}\")\n",
    "    print(f\"  - Adversarial: {metrics_perc['adv_loss']:.4f}\")\n",
    "    print(f\"  - L1: {metrics_perc['l1_loss']:.4f}\")\n",
    "    print(f\"  - Perceptual: {metrics_perc['perceptual_loss']:.4f}\")\n",
    "    \n",
    "    # Test regularized generator loss\n",
    "    gen_loss_reg, metrics_reg = loss_fn.generator_loss_regularized(\n",
    "        dummy_disc_pred, dummy_fake, dummy_real\n",
    "    )\n",
    "    print(f\"Regularized generator loss: {gen_loss_reg.item():.4f}\")\n",
    "    print(f\"  - Adversarial: {metrics_reg['adv_loss']:.4f}\")\n",
    "    print(f\"  - L1: {metrics_reg['l1_loss']:.4f}\")\n",
    "    print(f\"  - TV: {metrics_reg['tv_loss']:.4f}\")\n",
    "    \n",
    "    # Cleanup\n",
    "    del dummy_real, dummy_fake, dummy_disc_pred, loss_fn\n",
    "    torch.cuda.empty_cache() if torch.cuda.is_available() else None\n",
    "    \n",
    "# Initialize loss functions\n",
    "loss_functions = LossFunctions(Config.DEVICE)\n",
    "\n",
    "# Test loss functions\n",
    "test_loss_functions()\n",
    "\n",
    "print(\"Available loss configurations:\")\n",
    "print(\"1. Standard: BCE + L1 Loss\")\n",
    "print(\"2. Perceptual: BCE + L1 + VGG Perceptual Loss\") \n",
    "print(\"3. Regularized: BCE + L1 + Total Variation Loss\")"
   ]
  },
  {
   "cell_type": "markdown",
   "metadata": {},
   "source": [
    "## **5. Training Configuration A: Standard Pix2Pix (BCE + L1)**"
   ]
  },
  {
   "cell_type": "code",
   "execution_count": null,
   "metadata": {},
   "outputs": [],
   "source": [
    "class StandardTrainer:    \n",
    "    def __init__(self, generator, discriminator, train_loader, val_loader):\n",
    "        self.generator = generator\n",
    "        self.discriminator = discriminator\n",
    "        self.train_loader = train_loader\n",
    "        self.val_loader = val_loader\n",
    "        \n",
    "        # Optimizers\n",
    "        self.gen_optimizer = optim.Adam(\n",
    "            generator.parameters(), \n",
    "            lr=Config.LEARNING_RATE, \n",
    "            betas=(Config.BETA1, Config.BETA2)\n",
    "        )\n",
    "        self.disc_optimizer = optim.Adam(\n",
    "            discriminator.parameters(), \n",
    "            lr=Config.LEARNING_RATE, \n",
    "            betas=(Config.BETA1, Config.BETA2)\n",
    "        )\n",
    "        \n",
    "        # Loss functions\n",
    "        self.loss_fn = LossFunctions(Config.DEVICE)\n",
    "        \n",
    "        # Training history\n",
    "        self.history = {\n",
    "            'gen_loss': [],\n",
    "            'disc_loss': [],\n",
    "            'adv_loss': [],\n",
    "            'l1_loss': [],\n",
    "            'val_gen_loss': [],\n",
    "            'epoch_times': [],\n",
    "            'gpu_memory': []\n",
    "        }\n",
    "        \n",
    "        # Scalers for mixed precision training\n",
    "        self.gen_scaler = torch.cuda.amp.GradScaler() if torch.cuda.is_available() else None\n",
    "        self.disc_scaler = torch.cuda.amp.GradScaler() if torch.cuda.is_available() else None\n",
    "    \n",
    "    def train_step(self, sketch, real_img):\n",
    "        \"\"\"Single training step\"\"\"\n",
    "        batch_size = sketch.size(0)\n",
    "        \n",
    "        # Train Discriminator\n",
    "        self.disc_optimizer.zero_grad()\n",
    "        \n",
    "        if self.disc_scaler:\n",
    "            with torch.cuda.amp.autocast():\n",
    "                # Real images\n",
    "                real_pred = self.discriminator(sketch, real_img)\n",
    "                \n",
    "                # Fake images\n",
    "                with torch.no_grad():\n",
    "                    fake_img = self.generator(sketch)\n",
    "                fake_pred = self.discriminator(sketch, fake_img.detach())\n",
    "                \n",
    "                disc_loss = self.loss_fn.discriminator_loss(real_pred, fake_pred)\n",
    "            \n",
    "            self.disc_scaler.scale(disc_loss).backward()\n",
    "            self.disc_scaler.step(self.disc_optimizer)\n",
    "            self.disc_scaler.update()\n",
    "        else:\n",
    "            # Real images\n",
    "            real_pred = self.discriminator(sketch, real_img)\n",
    "            \n",
    "            # Fake images\n",
    "            with torch.no_grad():\n",
    "                fake_img = self.generator(sketch)\n",
    "            fake_pred = self.discriminator(sketch, fake_img.detach())\n",
    "            \n",
    "            disc_loss = self.loss_fn.discriminator_loss(real_pred, fake_pred)\n",
    "            disc_loss.backward()\n",
    "            self.disc_optimizer.step()\n",
    "        \n",
    "        # Train Generator\n",
    "        self.gen_optimizer.zero_grad()\n",
    "        \n",
    "        if self.gen_scaler:\n",
    "            with torch.cuda.amp.autocast():\n",
    "                fake_img = self.generator(sketch)\n",
    "                fake_pred = self.discriminator(sketch, fake_img)\n",
    "                \n",
    "                gen_loss, gen_metrics = self.loss_fn.generator_loss_standard(\n",
    "                    fake_pred, fake_img, real_img, Config.L1_LAMBDA\n",
    "                )\n",
    "            \n",
    "            self.gen_scaler.scale(gen_loss).backward()\n",
    "            self.gen_scaler.step(self.gen_optimizer)\n",
    "            self.gen_scaler.update()\n",
    "        else:\n",
    "            fake_img = self.generator(sketch)\n",
    "            fake_pred = self.discriminator(sketch, fake_img)\n",
    "            \n",
    "            gen_loss, gen_metrics = self.loss_fn.generator_loss_standard(\n",
    "                fake_pred, fake_img, real_img, Config.L1_LAMBDA\n",
    "            )\n",
    "            gen_loss.backward()\n",
    "            self.gen_optimizer.step()\n",
    "        \n",
    "        return {\n",
    "            'gen_loss': gen_loss.item(),\n",
    "            'disc_loss': disc_loss.item(),\n",
    "            'adv_loss': gen_metrics['adv_loss'],\n",
    "            'l1_loss': gen_metrics['l1_loss']\n",
    "        }\n",
    "    \n",
    "    def validate(self):\n",
    "        self.generator.eval()\n",
    "        self.discriminator.eval()\n",
    "        \n",
    "        val_losses = []\n",
    "        \n",
    "        with torch.no_grad():\n",
    "            for sketch, real_img in self.val_loader:\n",
    "                sketch = sketch.to(Config.DEVICE)\n",
    "                real_img = real_img.to(Config.DEVICE)\n",
    "                \n",
    "                fake_img = self.generator(sketch)\n",
    "                fake_pred = self.discriminator(sketch, fake_img)\n",
    "                \n",
    "                gen_loss, _ = self.loss_fn.generator_loss_standard(\n",
    "                    fake_pred, fake_img, real_img, Config.L1_LAMBDA\n",
    "                )\n",
    "                val_losses.append(gen_loss.item())\n",
    "        \n",
    "        self.generator.train()\n",
    "        self.discriminator.train()\n",
    "        \n",
    "        return np.mean(val_losses)\n",
    "    \n",
    "    def train(self, num_epochs):\n",
    "        \"\"\"Training loop\"\"\"\n",
    "        print(f\"\\nStandard Pix2Pix training for {num_epochs} epochs\")\n",
    "        print(f\"Configuration: BCE + L1 Loss (λ={Config.L1_LAMBDA})\")\n",
    "        \n",
    "        start_time = time.time()\n",
    "        \n",
    "        for epoch in range(num_epochs):\n",
    "            epoch_start = time.time()\n",
    "            \n",
    "            # Training\n",
    "            train_metrics = {'gen_loss': 0, 'disc_loss': 0, 'adv_loss': 0, 'l1_loss': 0}\n",
    "            \n",
    "            progress_bar = tqdm(self.train_loader, desc=f'Epoch {epoch+1}/{num_epochs}')\n",
    "            for sketch, real_img in progress_bar:\n",
    "                sketch = sketch.to(Config.DEVICE)\n",
    "                real_img = real_img.to(Config.DEVICE)\n",
    "                \n",
    "                # Training step\n",
    "                step_metrics = self.train_step(sketch, real_img)\n",
    "                \n",
    "                # Accumulate metrics\n",
    "                for key in train_metrics:\n",
    "                    train_metrics[key] += step_metrics[key]\n",
    "                \n",
    "                # Update progress bar\n",
    "                progress_bar.set_postfix({\n",
    "                    'G_loss': f\"{step_metrics['gen_loss']:.4f}\",\n",
    "                    'D_loss': f\"{step_metrics['disc_loss']:.4f}\",\n",
    "                    'L1': f\"{step_metrics['l1_loss']:.4f}\"\n",
    "                })\n",
    "            \n",
    "            # Average metrics\n",
    "            for key in train_metrics:\n",
    "                train_metrics[key] /= len(self.train_loader)\n",
    "            \n",
    "            # Validation\n",
    "            val_gen_loss = self.validate()\n",
    "            \n",
    "            # Record epoch time and GPU memory\n",
    "            epoch_time = time.time() - epoch_start\n",
    "            gpu_memory = get_gpu_memory()\n",
    "            \n",
    "            # Store history\n",
    "            self.history['gen_loss'].append(train_metrics['gen_loss'])\n",
    "            self.history['disc_loss'].append(train_metrics['disc_loss'])\n",
    "            self.history['adv_loss'].append(train_metrics['adv_loss'])\n",
    "            self.history['l1_loss'].append(train_metrics['l1_loss'])\n",
    "            self.history['val_gen_loss'].append(val_gen_loss)\n",
    "            self.history['epoch_times'].append(epoch_time)\n",
    "            self.history['gpu_memory'].append(gpu_memory)\n",
    "            \n",
    "            # Print epoch summary\n",
    "            print(f\"Epoch {epoch+1}/{num_epochs} - \"\n",
    "                  f\"G_loss: {train_metrics['gen_loss']:.4f}, \"\n",
    "                  f\"D_loss: {train_metrics['disc_loss']:.4f}, \"\n",
    "                  f\"Val_loss: {val_gen_loss:.4f}, \"\n",
    "                  f\"Time: {epoch_time:.2f}s, \"\n",
    "                  f\"GPU: {gpu_memory:.2f}GB\")\n",
    "            \n",
    "            # Save sample images\n",
    "            if (epoch + 1) % Config.SAMPLE_INTERVAL == 0:\n",
    "                sample_dir = os.path.join(Config.GENERATED_SAMPLES_DIR, \"standard\")\n",
    "                os.makedirs(sample_dir, exist_ok=True)\n",
    "                save_sample_images(self.generator, self.val_loader, epoch + 1, sample_dir)\n",
    "            \n",
    "            # Save checkpoints\n",
    "            if (epoch + 1) % Config.CHECKPOINT_INTERVAL == 0:\n",
    "                self.save_checkpoint(epoch + 1, \"standard\")\n",
    "            \n",
    "            # Log metrics to CSV\n",
    "            epoch_metrics = {\n",
    "                'epoch': epoch + 1,\n",
    "                'gen_loss': train_metrics['gen_loss'],\n",
    "                'disc_loss': train_metrics['disc_loss'],\n",
    "                'adv_loss': train_metrics['adv_loss'],\n",
    "                'l1_loss': train_metrics['l1_loss'],\n",
    "                'val_gen_loss': val_gen_loss,\n",
    "                'epoch_time': epoch_time,\n",
    "                'gpu_memory': gpu_memory,\n",
    "                'configuration': 'standard'\n",
    "            }\n",
    "            \n",
    "            csv_path = os.path.join(Config.SUMMARY_CSV_DIR, \"standard_training_log.csv\")\n",
    "            log_metrics(epoch_metrics, csv_path)\n",
    "        \n",
    "        total_time = time.time() - start_time\n",
    "        print(f\"\\nStandard training completed in {total_time:.2f} seconds\")\n",
    "        print(f\"Average time per epoch: {total_time/num_epochs:.2f} seconds\")\n",
    "        \n",
    "        return self.history\n",
    "    \n",
    "    def save_checkpoint(self, epoch, config_name):\n",
    "        \"\"\"Save model checkpoint\"\"\"\n",
    "        checkpoint = {\n",
    "            'epoch': epoch,\n",
    "            'generator_state_dict': self.generator.state_dict(),\n",
    "            'discriminator_state_dict': self.discriminator.state_dict(),\n",
    "            'gen_optimizer_state_dict': self.gen_optimizer.state_dict(),\n",
    "            'disc_optimizer_state_dict': self.disc_optimizer.state_dict(),\n",
    "            'history': self.history,\n",
    "            'config': config_name\n",
    "        }\n",
    "        \n",
    "        checkpoint_path = os.path.join(Config.CHECKPOINT_DIR, f\"{config_name}_epoch_{epoch}.pth\")\n",
    "        torch.save(checkpoint, checkpoint_path)\n",
    "        print(f\"Checkpoint saved: {checkpoint_path}\")\n",
    "\n",
    "def run_standard_training():\n",
    "   checkpoint_path = os.path.join(Config.CHECKPOINT_DIR, \"standard_epoch_6.pth\")\n",
    "   gen_path = os.path.join(Config.CHECKPOINT_DIR, \"standard_generator_final.pth\")\n",
    "   disc_path = os.path.join(Config.CHECKPOINT_DIR, \"standard_discriminator_final.pth\")\n",
    "   \n",
    "   if os.path.exists(checkpoint_path):\n",
    "       print(\"Loading from checkpoint...\")\n",
    "       checkpoint = torch.load(checkpoint_path, map_location=Config.DEVICE)\n",
    "       \n",
    "       gen_standard = Generator().to(Config.DEVICE)\n",
    "       disc_standard = Discriminator().to(Config.DEVICE)\n",
    "       \n",
    "       gen_standard.load_state_dict(checkpoint['generator_state_dict'])\n",
    "       disc_standard.load_state_dict(checkpoint['discriminator_state_dict'])\n",
    "       \n",
    "       history = checkpoint['history']\n",
    "       print(\"Standard models loaded successfully\")\n",
    "       return history, gen_standard, disc_standard\n",
    "       \n",
    "   elif os.path.exists(gen_path) and os.path.exists(disc_path):\n",
    "       print(\"Loading models from separate files...\")\n",
    "       \n",
    "       gen_standard = Generator().to(Config.DEVICE)\n",
    "       disc_standard = Discriminator().to(Config.DEVICE)\n",
    "       \n",
    "       gen_standard.load_state_dict(torch.load(gen_path, map_location=Config.DEVICE))\n",
    "       disc_standard.load_state_dict(torch.load(disc_path, map_location=Config.DEVICE))\n",
    "       \n",
    "       print(\"Standard models loaded successfully\")\n",
    "       return None, gen_standard, disc_standard\n",
    "       \n",
    "   else:\n",
    "       print(\"=\" * 60)\n",
    "       print(\"TRAINING CONFIGURATION A: STANDARD PIX2PIX\")\n",
    "       print(\"Loss Function: BCE + L1\")\n",
    "       print(\"=\" * 60)\n",
    "       \n",
    "       gen_standard = Generator().to(Config.DEVICE)\n",
    "       disc_standard = Discriminator().to(Config.DEVICE)\n",
    "       \n",
    "       initialize_weights(gen_standard)\n",
    "       initialize_weights(disc_standard)\n",
    "       \n",
    "       trainer = StandardTrainer(gen_standard, disc_standard, train_loader, val_loader)\n",
    "       \n",
    "       history = trainer.train(Config.NUM_EPOCHS)\n",
    "       \n",
    "       torch.save(gen_standard.state_dict(), \n",
    "                  os.path.join(Config.CHECKPOINT_DIR, \"standard_generator_final.pth\"))\n",
    "       torch.save(disc_standard.state_dict(), \n",
    "                  os.path.join(Config.CHECKPOINT_DIR, \"standard_discriminator_final.pth\"))\n",
    "       \n",
    "       print(\"Completed\")\n",
    "       return history, gen_standard, disc_standard"
   ]
  },
  {
   "cell_type": "code",
   "execution_count": 7,
   "metadata": {},
   "outputs": [
    {
     "name": "stdout",
     "output_type": "stream",
     "text": [
      "Loading models from separate files...\n"
     ]
    },
    {
     "name": "stdout",
     "output_type": "stream",
     "text": [
      "Standard models loaded successfully\n"
     ]
    }
   ],
   "source": [
    "standard_history, standard_gen, standard_disc = run_standard_training()\n",
    "# Nota: Por accidente corrí denuevo la celda y se borró el output orginal"
   ]
  },
  {
   "cell_type": "markdown",
   "metadata": {},
   "source": [
    "## **6. Training Configuration B: Perceptual Pix2Pix (BCE + L1 + VGG)**"
   ]
  },
  {
   "cell_type": "code",
   "execution_count": null,
   "metadata": {},
   "outputs": [],
   "source": [
    "class PerceptualTrainer:\n",
    "    def __init__(self, generator, discriminator, train_loader, val_loader):\n",
    "        self.generator = generator\n",
    "        self.discriminator = discriminator\n",
    "        self.train_loader = train_loader\n",
    "        self.val_loader = val_loader\n",
    "        \n",
    "        # Optimizers\n",
    "        self.gen_optimizer = optim.Adam(\n",
    "            generator.parameters(), \n",
    "            lr=Config.LEARNING_RATE, \n",
    "            betas=(Config.BETA1, Config.BETA2)\n",
    "        )\n",
    "        self.disc_optimizer = optim.Adam(\n",
    "            discriminator.parameters(), \n",
    "            lr=Config.LEARNING_RATE, \n",
    "            betas=(Config.BETA1, Config.BETA2)\n",
    "        )\n",
    "        \n",
    "        # Loss functions\n",
    "        self.loss_fn = LossFunctions(Config.DEVICE)\n",
    "        \n",
    "        # Training history\n",
    "        self.history = {\n",
    "            'gen_loss': [],\n",
    "            'disc_loss': [],\n",
    "            'adv_loss': [],\n",
    "            'l1_loss': [],\n",
    "            'perceptual_loss': [],\n",
    "            'val_gen_loss': [],\n",
    "            'epoch_times': [],\n",
    "            'gpu_memory': []\n",
    "        }\n",
    "        \n",
    "        # Scalers\n",
    "        self.gen_scaler = torch.cuda.amp.GradScaler() if torch.cuda.is_available() else None\n",
    "        self.disc_scaler = torch.cuda.amp.GradScaler() if torch.cuda.is_available() else None\n",
    "    \n",
    "    def train_step(self, sketch, real_img):\n",
    "        \"\"\"Single training step with perceptual loss\"\"\"\n",
    "        batch_size = sketch.size(0)\n",
    "        \n",
    "        # Train Discriminator\n",
    "        self.disc_optimizer.zero_grad()\n",
    "        \n",
    "        if self.disc_scaler:\n",
    "            with torch.cuda.amp.autocast():\n",
    "                # Real images\n",
    "                real_pred = self.discriminator(sketch, real_img)\n",
    "                \n",
    "                # Fake images\n",
    "                with torch.no_grad():\n",
    "                    fake_img = self.generator(sketch)\n",
    "                fake_pred = self.discriminator(sketch, fake_img.detach())\n",
    "                \n",
    "                disc_loss = self.loss_fn.discriminator_loss(real_pred, fake_pred)\n",
    "            \n",
    "            self.disc_scaler.scale(disc_loss).backward()\n",
    "            self.disc_scaler.step(self.disc_optimizer)\n",
    "            self.disc_scaler.update()\n",
    "        else:\n",
    "            # Real images\n",
    "            real_pred = self.discriminator(sketch, real_img)\n",
    "            \n",
    "            # Fake images\n",
    "            with torch.no_grad():\n",
    "                fake_img = self.generator(sketch)\n",
    "            fake_pred = self.discriminator(sketch, fake_img.detach())\n",
    "            \n",
    "            disc_loss = self.loss_fn.discriminator_loss(real_pred, fake_pred)\n",
    "            disc_loss.backward()\n",
    "            self.disc_optimizer.step()\n",
    "        \n",
    "        # Train Generator with Perceptual Loss\n",
    "        self.gen_optimizer.zero_grad()\n",
    "        \n",
    "        if self.gen_scaler:\n",
    "            with torch.cuda.amp.autocast():\n",
    "                fake_img = self.generator(sketch)\n",
    "                fake_pred = self.discriminator(sketch, fake_img)\n",
    "                \n",
    "                gen_loss, gen_metrics = self.loss_fn.generator_loss_perceptual(\n",
    "                    fake_pred, fake_img, real_img, \n",
    "                    Config.L1_LAMBDA, Config.PERCEPTUAL_LAMBDA\n",
    "                )\n",
    "            \n",
    "            self.gen_scaler.scale(gen_loss).backward()\n",
    "            self.gen_scaler.step(self.gen_optimizer)\n",
    "            self.gen_scaler.update()\n",
    "        else:\n",
    "            fake_img = self.generator(sketch)\n",
    "            fake_pred = self.discriminator(sketch, fake_img)\n",
    "            \n",
    "            gen_loss, gen_metrics = self.loss_fn.generator_loss_perceptual(\n",
    "                fake_pred, fake_img, real_img, \n",
    "                Config.L1_LAMBDA, Config.PERCEPTUAL_LAMBDA\n",
    "            )\n",
    "            gen_loss.backward()\n",
    "            self.gen_optimizer.step()\n",
    "        \n",
    "        return {\n",
    "            'gen_loss': gen_loss.item(),\n",
    "            'disc_loss': disc_loss.item(),\n",
    "            'adv_loss': gen_metrics['adv_loss'],\n",
    "            'l1_loss': gen_metrics['l1_loss'],\n",
    "            'perceptual_loss': gen_metrics['perceptual_loss']\n",
    "        }\n",
    "    \n",
    "    def validate(self):\n",
    "        self.generator.eval()\n",
    "        self.discriminator.eval()\n",
    "        \n",
    "        val_losses = []\n",
    "        \n",
    "        with torch.no_grad():\n",
    "            for sketch, real_img in self.val_loader:\n",
    "                sketch = sketch.to(Config.DEVICE)\n",
    "                real_img = real_img.to(Config.DEVICE)\n",
    "                \n",
    "                fake_img = self.generator(sketch)\n",
    "                fake_pred = self.discriminator(sketch, fake_img)\n",
    "                \n",
    "                gen_loss, _ = self.loss_fn.generator_loss_perceptual(\n",
    "                    fake_pred, fake_img, real_img, \n",
    "                    Config.L1_LAMBDA, Config.PERCEPTUAL_LAMBDA\n",
    "                )\n",
    "                val_losses.append(gen_loss.item())\n",
    "        \n",
    "        self.generator.train()\n",
    "        self.discriminator.train()\n",
    "        \n",
    "        return np.mean(val_losses)\n",
    "    \n",
    "    def train(self, num_epochs):\n",
    "        \"\"\"Training loop for perceptual loss\"\"\"\n",
    "        print(f\"\\nPerceptual training for {num_epochs} epochs\")\n",
    "        print(f\"Configuration: BCE + L1 + VGG Perceptual Loss\")\n",
    "        print(f\"λ_L1={Config.L1_LAMBDA}, λ_perceptual={Config.PERCEPTUAL_LAMBDA}\")\n",
    "        \n",
    "        start_time = time.time()\n",
    "        \n",
    "        for epoch in range(num_epochs):\n",
    "            epoch_start = time.time()\n",
    "            \n",
    "            # Training\n",
    "            train_metrics = {\n",
    "                'gen_loss': 0, 'disc_loss': 0, 'adv_loss': 0, \n",
    "                'l1_loss': 0, 'perceptual_loss': 0\n",
    "            }\n",
    "            \n",
    "            progress_bar = tqdm(self.train_loader, desc=f'Epoch {epoch+1}/{num_epochs}')\n",
    "            for sketch, real_img in progress_bar:\n",
    "                sketch = sketch.to(Config.DEVICE)\n",
    "                real_img = real_img.to(Config.DEVICE)\n",
    "                \n",
    "                # Training step\n",
    "                step_metrics = self.train_step(sketch, real_img)\n",
    "                \n",
    "                # Accumulate metrics\n",
    "                for key in train_metrics:\n",
    "                    train_metrics[key] += step_metrics[key]\n",
    "                \n",
    "                # Update progress bar\n",
    "                progress_bar.set_postfix({\n",
    "                    'G_loss': f\"{step_metrics['gen_loss']:.4f}\",\n",
    "                    'D_loss': f\"{step_metrics['disc_loss']:.4f}\",\n",
    "                    'L1': f\"{step_metrics['l1_loss']:.4f}\",\n",
    "                    'Perc': f\"{step_metrics['perceptual_loss']:.4f}\"\n",
    "                })\n",
    "            \n",
    "            # Average metrics\n",
    "            for key in train_metrics:\n",
    "                train_metrics[key] /= len(self.train_loader)\n",
    "            \n",
    "            # Validation\n",
    "            val_gen_loss = self.validate()\n",
    "            \n",
    "            # Record epoch time and GPU memory\n",
    "            epoch_time = time.time() - epoch_start\n",
    "            gpu_memory = get_gpu_memory()\n",
    "            \n",
    "            # Store history\n",
    "            self.history['gen_loss'].append(train_metrics['gen_loss'])\n",
    "            self.history['disc_loss'].append(train_metrics['disc_loss'])\n",
    "            self.history['adv_loss'].append(train_metrics['adv_loss'])\n",
    "            self.history['l1_loss'].append(train_metrics['l1_loss'])\n",
    "            self.history['perceptual_loss'].append(train_metrics['perceptual_loss'])\n",
    "            self.history['val_gen_loss'].append(val_gen_loss)\n",
    "            self.history['epoch_times'].append(epoch_time)\n",
    "            self.history['gpu_memory'].append(gpu_memory)\n",
    "            \n",
    "            # Print epoch summary\n",
    "            print(f\"Epoch {epoch+1}/{num_epochs} - \"\n",
    "                  f\"G_loss: {train_metrics['gen_loss']:.4f}, \"\n",
    "                  f\"D_loss: {train_metrics['disc_loss']:.4f}, \"\n",
    "                  f\"L1: {train_metrics['l1_loss']:.4f}, \"\n",
    "                  f\"Perc: {train_metrics['perceptual_loss']:.4f}, \"\n",
    "                  f\"Val_loss: {val_gen_loss:.4f}, \"\n",
    "                  f\"Time: {epoch_time:.2f}s, \"\n",
    "                  f\"GPU: {gpu_memory:.2f}GB\")\n",
    "            \n",
    "            # Save sample images\n",
    "            if (epoch + 1) % Config.SAMPLE_INTERVAL == 0:\n",
    "                sample_dir = os.path.join(Config.GENERATED_SAMPLES_DIR, \"perceptual\")\n",
    "                os.makedirs(sample_dir, exist_ok=True)\n",
    "                save_sample_images(self.generator, self.val_loader, epoch + 1, sample_dir)\n",
    "            \n",
    "            # Save checkpoints\n",
    "            if (epoch + 1) % Config.CHECKPOINT_INTERVAL == 0:\n",
    "                self.save_checkpoint(epoch + 1, \"perceptual\")\n",
    "            \n",
    "            # Log metrics to CSV\n",
    "            epoch_metrics = {\n",
    "                'epoch': epoch + 1,\n",
    "                'gen_loss': train_metrics['gen_loss'],\n",
    "                'disc_loss': train_metrics['disc_loss'],\n",
    "                'adv_loss': train_metrics['adv_loss'],\n",
    "                'l1_loss': train_metrics['l1_loss'],\n",
    "                'perceptual_loss': train_metrics['perceptual_loss'],\n",
    "                'val_gen_loss': val_gen_loss,\n",
    "                'epoch_time': epoch_time,\n",
    "                'gpu_memory': gpu_memory,\n",
    "                'configuration': 'perceptual'\n",
    "            }\n",
    "            \n",
    "            csv_path = os.path.join(Config.SUMMARY_CSV_DIR, \"perceptual_training_log.csv\")\n",
    "            log_metrics(epoch_metrics, csv_path)\n",
    "        \n",
    "        total_time = time.time() - start_time\n",
    "        print(f\"\\nPerceptual training completed in {total_time:.2f} seconds\")\n",
    "        print(f\"Average time per epoch: {total_time/num_epochs:.2f} seconds\")\n",
    "        \n",
    "        return self.history\n",
    "    \n",
    "    def save_checkpoint(self, epoch, config_name):\n",
    "        \"\"\"Save model checkpoint\"\"\"\n",
    "        checkpoint = {\n",
    "            'epoch': epoch,\n",
    "            'generator_state_dict': self.generator.state_dict(),\n",
    "            'discriminator_state_dict': self.discriminator.state_dict(),\n",
    "            'gen_optimizer_state_dict': self.gen_optimizer.state_dict(),\n",
    "            'disc_optimizer_state_dict': self.disc_optimizer.state_dict(),\n",
    "            'history': self.history,\n",
    "            'config': config_name\n",
    "        }\n",
    "        \n",
    "        checkpoint_path = os.path.join(Config.CHECKPOINT_DIR, f\"{config_name}_epoch_{epoch}.pth\")\n",
    "        torch.save(checkpoint, checkpoint_path)\n",
    "        print(f\"Checkpoint saved: {checkpoint_path}\")\n",
    "\n",
    "def run_perceptual_training():\n",
    "   checkpoint_path = os.path.join(Config.CHECKPOINT_DIR, \"perceptual_epoch_6.pth\")\n",
    "   gen_path = os.path.join(Config.CHECKPOINT_DIR, \"perceptual_generator_final.pth\")\n",
    "   disc_path = os.path.join(Config.CHECKPOINT_DIR, \"perceptual_discriminator_final.pth\")\n",
    "   \n",
    "   if os.path.exists(checkpoint_path):\n",
    "       print(\"Loading from checkpoint...\")\n",
    "       checkpoint = torch.load(checkpoint_path, map_location=Config.DEVICE)\n",
    "       \n",
    "       gen_perceptual = Generator().to(Config.DEVICE)\n",
    "       disc_perceptual = Discriminator().to(Config.DEVICE)\n",
    "       \n",
    "       gen_perceptual.load_state_dict(checkpoint['generator_state_dict'])\n",
    "       disc_perceptual.load_state_dict(checkpoint['discriminator_state_dict'])\n",
    "       \n",
    "       history = checkpoint['history']\n",
    "       print(\"Perceptual models loaded successfully\")\n",
    "       return history, gen_perceptual, disc_perceptual\n",
    "       \n",
    "   elif os.path.exists(gen_path) and os.path.exists(disc_path):\n",
    "       print(\"Loading models from separate files...\")\n",
    "       \n",
    "       gen_perceptual = Generator().to(Config.DEVICE)\n",
    "       disc_perceptual = Discriminator().to(Config.DEVICE)\n",
    "       \n",
    "       gen_perceptual.load_state_dict(torch.load(gen_path, map_location=Config.DEVICE))\n",
    "       disc_perceptual.load_state_dict(torch.load(disc_path, map_location=Config.DEVICE))\n",
    "       \n",
    "       print(\"Perceptual models loaded successfully\")\n",
    "       return None, gen_perceptual, disc_perceptual\n",
    "       \n",
    "   else:\n",
    "       print(\"=\" * 60)\n",
    "       print(\"TRAINING CONFIGURATION B: PERCEPTUAL PIX2PIX\")\n",
    "       print(\"Loss Function: BCE + L1 + VGG Perceptual\")\n",
    "       print(\"=\" * 60)\n",
    "       \n",
    "       gen_perceptual = Generator().to(Config.DEVICE)\n",
    "       disc_perceptual = Discriminator().to(Config.DEVICE)\n",
    "       \n",
    "       initialize_weights(gen_perceptual)\n",
    "       initialize_weights(disc_perceptual)\n",
    "       \n",
    "       trainer = PerceptualTrainer(gen_perceptual, disc_perceptual, train_loader, val_loader)\n",
    "       \n",
    "       history = trainer.train(Config.NUM_EPOCHS)\n",
    "       \n",
    "       torch.save(gen_perceptual.state_dict(), \n",
    "                  os.path.join(Config.CHECKPOINT_DIR, \"perceptual_generator_final.pth\"))\n",
    "       torch.save(disc_perceptual.state_dict(), \n",
    "                  os.path.join(Config.CHECKPOINT_DIR, \"perceptual_discriminator_final.pth\"))\n",
    "       \n",
    "       print(\"Completed\")\n",
    "       return history, gen_perceptual, disc_perceptual"
   ]
  },
  {
   "cell_type": "code",
   "execution_count": 10,
   "metadata": {},
   "outputs": [
    {
     "name": "stdout",
     "output_type": "stream",
     "text": [
      "============================================================\n",
      "TRAINING CONFIGURATION B: PERCEPTUAL PIX2PIX\n",
      "Loss Function: BCE + L1 + VGG Perceptual\n",
      "============================================================\n",
      "\n",
      "Perceptual training for 60 epochs\n",
      "Configuration: BCE + L1 + VGG Perceptual Loss\n",
      "λ_L1=100, λ_perceptual=10\n"
     ]
    },
    {
     "name": "stderr",
     "output_type": "stream",
     "text": [
      "Epoch 1/60: 100%|██████████| 500/500 [01:10<00:00,  7.06it/s, G_loss=112.6059, D_loss=0.0138, L1=0.2361, Perc=8.4096] \n"
     ]
    },
    {
     "name": "stdout",
     "output_type": "stream",
     "text": [
      "Epoch 1/60 - G_loss: 125.8349, D_loss: 0.1430, L1: 0.2964, Perc: 9.2634, Val_loss: 82.9078, Time: 86.46s, GPU: 1.61GB\n"
     ]
    },
    {
     "name": "stderr",
     "output_type": "stream",
     "text": [
      "Epoch 2/60: 100%|██████████| 500/500 [01:10<00:00,  7.06it/s, G_loss=121.8803, D_loss=0.4666, L1=0.2258, Perc=9.7431] \n"
     ]
    },
    {
     "name": "stdout",
     "output_type": "stream",
     "text": [
      "Epoch 2/60 - G_loss: 117.4375, D_loss: 0.0471, L1: 0.2323, Perc: 8.8249, Val_loss: 85.6211, Time: 86.61s, GPU: 1.61GB\n"
     ]
    },
    {
     "name": "stderr",
     "output_type": "stream",
     "text": [
      "Epoch 3/60: 100%|██████████| 500/500 [01:10<00:00,  7.05it/s, G_loss=111.9092, D_loss=0.0065, L1=0.2089, Perc=8.6042] \n"
     ]
    },
    {
     "name": "stdout",
     "output_type": "stream",
     "text": [
      "Epoch 3/60 - G_loss: 112.3930, D_loss: 0.1205, L1: 0.2254, Perc: 8.6086, Val_loss: 81.0628, Time: 86.62s, GPU: 1.61GB\n"
     ]
    },
    {
     "name": "stderr",
     "output_type": "stream",
     "text": [
      "Epoch 4/60: 100%|██████████| 500/500 [01:10<00:00,  7.06it/s, G_loss=91.3695, D_loss=0.0020, L1=0.1796, Perc=6.7442]  \n"
     ]
    },
    {
     "name": "stdout",
     "output_type": "stream",
     "text": [
      "Epoch 4/60 - G_loss: 112.5342, D_loss: 0.0134, L1: 0.2216, Perc: 8.4862, Val_loss: 83.1346, Time: 86.52s, GPU: 1.61GB\n"
     ]
    },
    {
     "name": "stderr",
     "output_type": "stream",
     "text": [
      "Epoch 5/60: 100%|██████████| 500/500 [01:10<00:00,  7.05it/s, G_loss=123.1958, D_loss=0.0023, L1=0.2457, Perc=9.1360] \n"
     ]
    },
    {
     "name": "stdout",
     "output_type": "stream",
     "text": [
      "Epoch 5/60 - G_loss: 112.9315, D_loss: 0.0020, L1: 0.2198, Perc: 8.4353, Val_loss: 71.9003, Time: 86.61s, GPU: 1.61GB\n"
     ]
    },
    {
     "name": "stderr",
     "output_type": "stream",
     "text": [
      "Epoch 6/60: 100%|██████████| 500/500 [01:10<00:00,  7.06it/s, G_loss=107.0601, D_loss=0.0003, L1=0.2055, Perc=7.8572] \n"
     ]
    },
    {
     "name": "stdout",
     "output_type": "stream",
     "text": [
      "Epoch 6/60 - G_loss: 112.9609, D_loss: 0.0008, L1: 0.2174, Perc: 8.3719, Val_loss: 70.3999, Time: 86.50s, GPU: 1.61GB\n"
     ]
    },
    {
     "name": "stderr",
     "output_type": "stream",
     "text": [
      "Epoch 7/60: 100%|██████████| 500/500 [01:10<00:00,  7.05it/s, G_loss=112.4753, D_loss=0.0008, L1=0.1938, Perc=8.4866] \n"
     ]
    },
    {
     "name": "stdout",
     "output_type": "stream",
     "text": [
      "Epoch 7/60 - G_loss: 111.4693, D_loss: 0.0005, L1: 0.2136, Perc: 8.2062, Val_loss: 74.2126, Time: 86.64s, GPU: 1.61GB\n"
     ]
    },
    {
     "name": "stderr",
     "output_type": "stream",
     "text": [
      "Epoch 8/60: 100%|██████████| 500/500 [01:10<00:00,  7.05it/s, G_loss=88.8278, D_loss=0.6969, L1=0.1856, Perc=6.9472]  \n"
     ]
    },
    {
     "name": "stdout",
     "output_type": "stream",
     "text": [
      "Epoch 8/60 - G_loss: 110.4098, D_loss: 0.0830, L1: 0.2103, Perc: 8.1371, Val_loss: 67.7780, Time: 86.66s, GPU: 1.61GB\n"
     ]
    },
    {
     "name": "stderr",
     "output_type": "stream",
     "text": [
      "Epoch 9/60: 100%|██████████| 500/500 [01:10<00:00,  7.06it/s, G_loss=97.9608, D_loss=0.0026, L1=0.2028, Perc=7.1302]  \n"
     ]
    },
    {
     "name": "stdout",
     "output_type": "stream",
     "text": [
      "Epoch 9/60 - G_loss: 106.4247, D_loss: 0.0594, L1: 0.2098, Perc: 8.0410, Val_loss: 74.6225, Time: 86.65s, GPU: 1.61GB\n"
     ]
    },
    {
     "name": "stderr",
     "output_type": "stream",
     "text": [
      "Epoch 10/60: 100%|██████████| 500/500 [01:10<00:00,  7.07it/s, G_loss=95.9152, D_loss=0.0010, L1=0.1838, Perc=7.0851]  \n"
     ]
    },
    {
     "name": "stdout",
     "output_type": "stream",
     "text": [
      "Epoch 10/60 - G_loss: 106.2017, D_loss: 0.0761, L1: 0.2097, Perc: 8.0066, Val_loss: 87.1612, Time: 86.39s, GPU: 1.61GB\n",
      "Checkpoint saved: checkpoints/perceptual_epoch_10.pth\n"
     ]
    },
    {
     "name": "stderr",
     "output_type": "stream",
     "text": [
      "Epoch 11/60: 100%|██████████| 500/500 [01:11<00:00,  7.02it/s, G_loss=126.1736, D_loss=0.0014, L1=0.2142, Perc=9.7446] \n"
     ]
    },
    {
     "name": "stdout",
     "output_type": "stream",
     "text": [
      "Epoch 11/60 - G_loss: 106.0139, D_loss: 0.0014, L1: 0.2056, Perc: 7.8405, Val_loss: 93.3593, Time: 86.96s, GPU: 1.61GB\n"
     ]
    },
    {
     "name": "stderr",
     "output_type": "stream",
     "text": [
      "Epoch 12/60: 100%|██████████| 500/500 [01:10<00:00,  7.07it/s, G_loss=103.5384, D_loss=0.0003, L1=0.1874, Perc=7.6854] \n"
     ]
    },
    {
     "name": "stdout",
     "output_type": "stream",
     "text": [
      "Epoch 12/60 - G_loss: 105.1236, D_loss: 0.0006, L1: 0.2023, Perc: 7.7161, Val_loss: 80.5332, Time: 86.43s, GPU: 1.61GB\n"
     ]
    },
    {
     "name": "stderr",
     "output_type": "stream",
     "text": [
      "Epoch 13/60: 100%|██████████| 500/500 [01:10<00:00,  7.07it/s, G_loss=97.0782, D_loss=0.0002, L1=0.1649, Perc=7.2129]  \n"
     ]
    },
    {
     "name": "stdout",
     "output_type": "stream",
     "text": [
      "Epoch 13/60 - G_loss: 104.9758, D_loss: 0.0004, L1: 0.2011, Perc: 7.6733, Val_loss: 102.8437, Time: 86.52s, GPU: 1.61GB\n"
     ]
    },
    {
     "name": "stderr",
     "output_type": "stream",
     "text": [
      "Epoch 14/60: 100%|██████████| 500/500 [01:10<00:00,  7.07it/s, G_loss=86.7335, D_loss=0.3082, L1=0.1682, Perc=6.8428]  \n"
     ]
    },
    {
     "name": "stdout",
     "output_type": "stream",
     "text": [
      "Epoch 14/60 - G_loss: 102.6107, D_loss: 0.1062, L1: 0.1988, Perc: 7.5413, Val_loss: 78.5571, Time: 86.49s, GPU: 1.61GB\n"
     ]
    },
    {
     "name": "stderr",
     "output_type": "stream",
     "text": [
      "Epoch 15/60: 100%|██████████| 500/500 [01:10<00:00,  7.07it/s, G_loss=97.1861, D_loss=0.0015, L1=0.1855, Perc=7.1693]  \n"
     ]
    },
    {
     "name": "stdout",
     "output_type": "stream",
     "text": [
      "Epoch 15/60 - G_loss: 100.4657, D_loss: 0.0739, L1: 0.1985, Perc: 7.5573, Val_loss: 79.8654, Time: 86.38s, GPU: 1.61GB\n"
     ]
    },
    {
     "name": "stderr",
     "output_type": "stream",
     "text": [
      "Epoch 16/60: 100%|██████████| 500/500 [01:10<00:00,  7.05it/s, G_loss=109.3380, D_loss=0.0010, L1=0.1923, Perc=8.2310] \n"
     ]
    },
    {
     "name": "stdout",
     "output_type": "stream",
     "text": [
      "Epoch 16/60 - G_loss: 100.0013, D_loss: 0.0011, L1: 0.1944, Perc: 7.3281, Val_loss: 80.5257, Time: 86.65s, GPU: 1.61GB\n"
     ]
    },
    {
     "name": "stderr",
     "output_type": "stream",
     "text": [
      "Epoch 17/60: 100%|██████████| 500/500 [01:10<00:00,  7.06it/s, G_loss=88.4456, D_loss=0.0008, L1=0.1730, Perc=6.3588]  \n"
     ]
    },
    {
     "name": "stdout",
     "output_type": "stream",
     "text": [
      "Epoch 17/60 - G_loss: 100.6320, D_loss: 0.0006, L1: 0.1934, Perc: 7.3376, Val_loss: 77.2133, Time: 86.59s, GPU: 1.61GB\n"
     ]
    },
    {
     "name": "stderr",
     "output_type": "stream",
     "text": [
      "Epoch 18/60: 100%|██████████| 500/500 [01:10<00:00,  7.06it/s, G_loss=93.7081, D_loss=0.0002, L1=0.1742, Perc=6.7878]  \n"
     ]
    },
    {
     "name": "stdout",
     "output_type": "stream",
     "text": [
      "Epoch 18/60 - G_loss: 99.8933, D_loss: 0.0004, L1: 0.1916, Perc: 7.2359, Val_loss: 77.5842, Time: 86.56s, GPU: 1.61GB\n"
     ]
    },
    {
     "name": "stderr",
     "output_type": "stream",
     "text": [
      "Epoch 19/60: 100%|██████████| 500/500 [01:10<00:00,  7.08it/s, G_loss=86.0103, D_loss=0.0060, L1=0.1959, Perc=6.1416]  \n"
     ]
    },
    {
     "name": "stdout",
     "output_type": "stream",
     "text": [
      "Epoch 19/60 - G_loss: 97.2162, D_loss: 0.2339, L1: 0.1963, Perc: 7.3555, Val_loss: 77.1605, Time: 86.28s, GPU: 1.61GB\n"
     ]
    },
    {
     "name": "stderr",
     "output_type": "stream",
     "text": [
      "Epoch 20/60: 100%|██████████| 500/500 [01:10<00:00,  7.07it/s, G_loss=96.7035, D_loss=0.0124, L1=0.2147, Perc=7.0358]  \n"
     ]
    },
    {
     "name": "stdout",
     "output_type": "stream",
     "text": [
      "Epoch 20/60 - G_loss: 97.4678, D_loss: 0.2287, L1: 0.1985, Perc: 7.4314, Val_loss: 85.9304, Time: 86.48s, GPU: 1.61GB\n",
      "Checkpoint saved: checkpoints/perceptual_epoch_20.pth\n"
     ]
    },
    {
     "name": "stderr",
     "output_type": "stream",
     "text": [
      "Epoch 21/60: 100%|██████████| 500/500 [01:10<00:00,  7.04it/s, G_loss=89.4680, D_loss=0.0007, L1=0.1502, Perc=6.6964]  \n"
     ]
    },
    {
     "name": "stdout",
     "output_type": "stream",
     "text": [
      "Epoch 21/60 - G_loss: 97.5019, D_loss: 0.0029, L1: 0.1941, Perc: 7.1612, Val_loss: 99.1950, Time: 86.69s, GPU: 1.61GB\n"
     ]
    },
    {
     "name": "stderr",
     "output_type": "stream",
     "text": [
      "Epoch 22/60: 100%|██████████| 500/500 [01:11<00:00,  7.04it/s, G_loss=86.4378, D_loss=0.0005, L1=0.1683, Perc=6.1527] \n"
     ]
    },
    {
     "name": "stdout",
     "output_type": "stream",
     "text": [
      "Epoch 22/60 - G_loss: 96.7101, D_loss: 0.0012, L1: 0.1912, Perc: 7.0239, Val_loss: 99.1892, Time: 86.78s, GPU: 1.61GB\n"
     ]
    },
    {
     "name": "stderr",
     "output_type": "stream",
     "text": [
      "Epoch 23/60: 100%|██████████| 500/500 [01:10<00:00,  7.06it/s, G_loss=101.9116, D_loss=0.0005, L1=0.2127, Perc=7.2577] \n"
     ]
    },
    {
     "name": "stdout",
     "output_type": "stream",
     "text": [
      "Epoch 23/60 - G_loss: 96.4310, D_loss: 0.0007, L1: 0.1895, Perc: 6.9637, Val_loss: 86.1520, Time: 86.51s, GPU: 1.61GB\n"
     ]
    },
    {
     "name": "stderr",
     "output_type": "stream",
     "text": [
      "Epoch 24/60: 100%|██████████| 500/500 [01:10<00:00,  7.04it/s, G_loss=99.0309, D_loss=0.0005, L1=0.2167, Perc=6.9157] \n"
     ]
    },
    {
     "name": "stdout",
     "output_type": "stream",
     "text": [
      "Epoch 24/60 - G_loss: 96.5884, D_loss: 0.0005, L1: 0.1890, Perc: 6.9472, Val_loss: 94.0596, Time: 86.73s, GPU: 1.61GB\n"
     ]
    },
    {
     "name": "stderr",
     "output_type": "stream",
     "text": [
      "Epoch 25/60: 100%|██████████| 500/500 [01:10<00:00,  7.08it/s, G_loss=95.6144, D_loss=0.0001, L1=0.1842, Perc=6.8202] \n"
     ]
    },
    {
     "name": "stdout",
     "output_type": "stream",
     "text": [
      "Epoch 25/60 - G_loss: 96.0356, D_loss: 0.0004, L1: 0.1876, Perc: 6.8744, Val_loss: 76.4151, Time: 86.38s, GPU: 1.61GB\n"
     ]
    },
    {
     "name": "stderr",
     "output_type": "stream",
     "text": [
      "Epoch 26/60: 100%|██████████| 500/500 [01:10<00:00,  7.05it/s, G_loss=93.8390, D_loss=0.0002, L1=0.2071, Perc=6.3970] \n"
     ]
    },
    {
     "name": "stdout",
     "output_type": "stream",
     "text": [
      "Epoch 26/60 - G_loss: 96.0063, D_loss: 0.0003, L1: 0.1861, Perc: 6.8604, Val_loss: 84.4105, Time: 86.67s, GPU: 1.61GB\n"
     ]
    },
    {
     "name": "stderr",
     "output_type": "stream",
     "text": [
      "Epoch 27/60: 100%|██████████| 500/500 [01:10<00:00,  7.06it/s, G_loss=98.2753, D_loss=0.0002, L1=0.1751, Perc=7.1718] \n"
     ]
    },
    {
     "name": "stdout",
     "output_type": "stream",
     "text": [
      "Epoch 27/60 - G_loss: 96.1434, D_loss: 0.0002, L1: 0.1849, Perc: 6.8539, Val_loss: 92.1744, Time: 86.54s, GPU: 1.61GB\n"
     ]
    },
    {
     "name": "stderr",
     "output_type": "stream",
     "text": [
      "Epoch 28/60: 100%|██████████| 500/500 [01:10<00:00,  7.05it/s, G_loss=85.1601, D_loss=0.0007, L1=0.1827, Perc=5.9406] \n"
     ]
    },
    {
     "name": "stdout",
     "output_type": "stream",
     "text": [
      "Epoch 28/60 - G_loss: 93.4819, D_loss: 0.0579, L1: 0.1863, Perc: 6.8190, Val_loss: 89.6573, Time: 86.68s, GPU: 1.61GB\n"
     ]
    },
    {
     "name": "stderr",
     "output_type": "stream",
     "text": [
      "Epoch 29/60: 100%|██████████| 500/500 [01:10<00:00,  7.04it/s, G_loss=105.0737, D_loss=0.0003, L1=0.2413, Perc=7.2645]\n"
     ]
    },
    {
     "name": "stdout",
     "output_type": "stream",
     "text": [
      "Epoch 29/60 - G_loss: 93.7126, D_loss: 0.0006, L1: 0.1851, Perc: 6.7051, Val_loss: 102.5485, Time: 86.76s, GPU: 1.61GB\n"
     ]
    },
    {
     "name": "stderr",
     "output_type": "stream",
     "text": [
      "Epoch 30/60: 100%|██████████| 500/500 [01:10<00:00,  7.06it/s, G_loss=88.5090, D_loss=0.1671, L1=0.1748, Perc=6.8807]  \n"
     ]
    },
    {
     "name": "stdout",
     "output_type": "stream",
     "text": [
      "Epoch 30/60 - G_loss: 93.1511, D_loss: 0.2598, L1: 0.1878, Perc: 7.0159, Val_loss: 110.0827, Time: 86.57s, GPU: 1.61GB\n",
      "Checkpoint saved: checkpoints/perceptual_epoch_30.pth\n"
     ]
    },
    {
     "name": "stderr",
     "output_type": "stream",
     "text": [
      "Epoch 31/60: 100%|██████████| 500/500 [01:11<00:00,  7.03it/s, G_loss=104.4762, D_loss=0.0006, L1=0.2085, Perc=7.5598] \n"
     ]
    },
    {
     "name": "stdout",
     "output_type": "stream",
     "text": [
      "Epoch 31/60 - G_loss: 93.4572, D_loss: 0.0235, L1: 0.1925, Perc: 6.7657, Val_loss: 88.6521, Time: 86.84s, GPU: 1.61GB\n"
     ]
    },
    {
     "name": "stderr",
     "output_type": "stream",
     "text": [
      "Epoch 32/60: 100%|██████████| 500/500 [01:11<00:00,  7.01it/s, G_loss=97.5883, D_loss=1.2142, L1=0.1983, Perc=7.5721]  \n"
     ]
    },
    {
     "name": "stdout",
     "output_type": "stream",
     "text": [
      "Epoch 32/60 - G_loss: 92.6889, D_loss: 0.2263, L1: 0.1892, Perc: 6.9626, Val_loss: 88.6450, Time: 87.08s, GPU: 1.61GB\n"
     ]
    },
    {
     "name": "stderr",
     "output_type": "stream",
     "text": [
      "Epoch 33/60: 100%|██████████| 500/500 [01:10<00:00,  7.04it/s, G_loss=97.0464, D_loss=0.0787, L1=0.1875, Perc=7.5649]  \n"
     ]
    },
    {
     "name": "stdout",
     "output_type": "stream",
     "text": [
      "Epoch 33/60 - G_loss: 92.3766, D_loss: 0.3703, L1: 0.1860, Perc: 7.1451, Val_loss: 82.7980, Time: 86.73s, GPU: 1.61GB\n"
     ]
    },
    {
     "name": "stderr",
     "output_type": "stream",
     "text": [
      "Epoch 34/60: 100%|██████████| 500/500 [01:10<00:00,  7.06it/s, G_loss=77.2466, D_loss=0.6683, L1=0.1683, Perc=5.9327]  \n"
     ]
    },
    {
     "name": "stdout",
     "output_type": "stream",
     "text": [
      "Epoch 34/60 - G_loss: 91.7428, D_loss: 0.3472, L1: 0.1838, Perc: 7.1088, Val_loss: 85.1770, Time: 86.54s, GPU: 1.61GB\n"
     ]
    },
    {
     "name": "stderr",
     "output_type": "stream",
     "text": [
      "Epoch 35/60: 100%|██████████| 500/500 [01:10<00:00,  7.07it/s, G_loss=88.7631, D_loss=0.2794, L1=0.1626, Perc=6.9923] \n"
     ]
    },
    {
     "name": "stdout",
     "output_type": "stream",
     "text": [
      "Epoch 35/60 - G_loss: 91.2690, D_loss: 0.2280, L1: 0.1819, Perc: 6.9678, Val_loss: 91.3855, Time: 86.45s, GPU: 1.61GB\n"
     ]
    },
    {
     "name": "stderr",
     "output_type": "stream",
     "text": [
      "Epoch 36/60: 100%|██████████| 500/500 [01:10<00:00,  7.06it/s, G_loss=90.2428, D_loss=0.3875, L1=0.1620, Perc=7.1384] \n"
     ]
    },
    {
     "name": "stdout",
     "output_type": "stream",
     "text": [
      "Epoch 36/60 - G_loss: 91.1943, D_loss: 0.3287, L1: 0.1811, Perc: 7.0659, Val_loss: 78.9498, Time: 86.54s, GPU: 1.61GB\n"
     ]
    },
    {
     "name": "stderr",
     "output_type": "stream",
     "text": [
      "Epoch 37/60: 100%|██████████| 500/500 [01:10<00:00,  7.07it/s, G_loss=97.7214, D_loss=0.1326, L1=0.1904, Perc=7.7093] \n"
     ]
    },
    {
     "name": "stdout",
     "output_type": "stream",
     "text": [
      "Epoch 37/60 - G_loss: 90.7981, D_loss: 0.2845, L1: 0.1789, Perc: 7.0346, Val_loss: 88.9030, Time: 86.40s, GPU: 1.61GB\n"
     ]
    },
    {
     "name": "stderr",
     "output_type": "stream",
     "text": [
      "Epoch 38/60: 100%|██████████| 500/500 [01:10<00:00,  7.06it/s, G_loss=89.0539, D_loss=0.1529, L1=0.1965, Perc=6.6068] \n"
     ]
    },
    {
     "name": "stdout",
     "output_type": "stream",
     "text": [
      "Epoch 38/60 - G_loss: 91.0362, D_loss: 0.2857, L1: 0.1778, Perc: 7.0642, Val_loss: 91.9099, Time: 86.51s, GPU: 1.61GB\n"
     ]
    },
    {
     "name": "stderr",
     "output_type": "stream",
     "text": [
      "Epoch 39/60: 100%|██████████| 500/500 [01:10<00:00,  7.08it/s, G_loss=89.2950, D_loss=0.1018, L1=0.1787, Perc=6.8547]  \n"
     ]
    },
    {
     "name": "stdout",
     "output_type": "stream",
     "text": [
      "Epoch 39/60 - G_loss: 90.8575, D_loss: 0.2837, L1: 0.1761, Perc: 7.0628, Val_loss: 93.6978, Time: 86.45s, GPU: 1.61GB\n"
     ]
    },
    {
     "name": "stderr",
     "output_type": "stream",
     "text": [
      "Epoch 40/60: 100%|██████████| 500/500 [01:11<00:00,  7.04it/s, G_loss=112.1116, D_loss=0.2047, L1=0.1938, Perc=8.9582] \n"
     ]
    },
    {
     "name": "stdout",
     "output_type": "stream",
     "text": [
      "Epoch 40/60 - G_loss: 90.4458, D_loss: 0.2908, L1: 0.1753, Perc: 7.0289, Val_loss: 83.6460, Time: 86.79s, GPU: 1.61GB\n",
      "Checkpoint saved: checkpoints/perceptual_epoch_40.pth\n"
     ]
    },
    {
     "name": "stderr",
     "output_type": "stream",
     "text": [
      "Epoch 41/60: 100%|██████████| 500/500 [01:11<00:00,  7.02it/s, G_loss=87.1052, D_loss=0.2607, L1=0.1811, Perc=6.6942]  \n"
     ]
    },
    {
     "name": "stdout",
     "output_type": "stream",
     "text": [
      "Epoch 41/60 - G_loss: 89.4395, D_loss: 0.3026, L1: 0.1735, Perc: 6.9517, Val_loss: 105.8657, Time: 86.91s, GPU: 1.61GB\n"
     ]
    },
    {
     "name": "stderr",
     "output_type": "stream",
     "text": [
      "Epoch 42/60: 100%|██████████| 500/500 [01:10<00:00,  7.07it/s, G_loss=97.9207, D_loss=0.0147, L1=0.2012, Perc=7.3392] \n"
     ]
    },
    {
     "name": "stdout",
     "output_type": "stream",
     "text": [
      "Epoch 42/60 - G_loss: 89.6814, D_loss: 0.2604, L1: 0.1729, Perc: 6.9552, Val_loss: 94.8244, Time: 86.50s, GPU: 1.61GB\n"
     ]
    },
    {
     "name": "stderr",
     "output_type": "stream",
     "text": [
      "Epoch 43/60: 100%|██████████| 500/500 [01:10<00:00,  7.08it/s, G_loss=86.8710, D_loss=0.0020, L1=0.1830, Perc=6.1062] \n"
     ]
    },
    {
     "name": "stdout",
     "output_type": "stream",
     "text": [
      "Epoch 43/60 - G_loss: 90.3350, D_loss: 0.0031, L1: 0.1744, Perc: 6.6310, Val_loss: 75.2138, Time: 86.37s, GPU: 1.61GB\n"
     ]
    },
    {
     "name": "stderr",
     "output_type": "stream",
     "text": [
      "Epoch 44/60: 100%|██████████| 500/500 [01:10<00:00,  7.08it/s, G_loss=92.7718, D_loss=0.0006, L1=0.1748, Perc=6.7325] \n"
     ]
    },
    {
     "name": "stdout",
     "output_type": "stream",
     "text": [
      "Epoch 44/60 - G_loss: 90.3394, D_loss: 0.0011, L1: 0.1742, Perc: 6.5222, Val_loss: 94.4414, Time: 86.34s, GPU: 1.61GB\n"
     ]
    },
    {
     "name": "stderr",
     "output_type": "stream",
     "text": [
      "Epoch 45/60: 100%|██████████| 500/500 [01:10<00:00,  7.06it/s, G_loss=98.0682, D_loss=0.3603, L1=0.1583, Perc=7.8475] \n"
     ]
    },
    {
     "name": "stdout",
     "output_type": "stream",
     "text": [
      "Epoch 45/60 - G_loss: 89.8297, D_loss: 0.2444, L1: 0.1719, Perc: 6.8861, Val_loss: 104.3771, Time: 86.52s, GPU: 1.61GB\n"
     ]
    },
    {
     "name": "stderr",
     "output_type": "stream",
     "text": [
      "Epoch 46/60: 100%|██████████| 500/500 [01:10<00:00,  7.07it/s, G_loss=97.5570, D_loss=0.2680, L1=0.1718, Perc=7.8206] \n"
     ]
    },
    {
     "name": "stdout",
     "output_type": "stream",
     "text": [
      "Epoch 46/60 - G_loss: 89.1928, D_loss: 0.2997, L1: 0.1709, Perc: 6.9359, Val_loss: 96.1336, Time: 86.43s, GPU: 1.61GB\n"
     ]
    },
    {
     "name": "stderr",
     "output_type": "stream",
     "text": [
      "Epoch 47/60: 100%|██████████| 500/500 [01:10<00:00,  7.07it/s, G_loss=83.5996, D_loss=0.2512, L1=0.1659, Perc=6.5020] \n"
     ]
    },
    {
     "name": "stdout",
     "output_type": "stream",
     "text": [
      "Epoch 47/60 - G_loss: 88.5115, D_loss: 0.2939, L1: 0.1687, Perc: 6.8986, Val_loss: 92.6797, Time: 86.40s, GPU: 1.61GB\n"
     ]
    },
    {
     "name": "stderr",
     "output_type": "stream",
     "text": [
      "Epoch 48/60: 100%|██████████| 500/500 [01:10<00:00,  7.04it/s, G_loss=77.9916, D_loss=0.1526, L1=0.1506, Perc=6.0629] \n"
     ]
    },
    {
     "name": "stdout",
     "output_type": "stream",
     "text": [
      "Epoch 48/60 - G_loss: 87.8621, D_loss: 0.3037, L1: 0.1675, Perc: 6.8519, Val_loss: 94.9704, Time: 86.75s, GPU: 1.61GB\n"
     ]
    },
    {
     "name": "stderr",
     "output_type": "stream",
     "text": [
      "Epoch 49/60: 100%|██████████| 500/500 [01:10<00:00,  7.06it/s, G_loss=89.5987, D_loss=0.0037, L1=0.1706, Perc=6.6478] \n"
     ]
    },
    {
     "name": "stdout",
     "output_type": "stream",
     "text": [
      "Epoch 49/60 - G_loss: 87.4550, D_loss: 0.2085, L1: 0.1662, Perc: 6.7283, Val_loss: 84.6455, Time: 86.58s, GPU: 1.61GB\n"
     ]
    },
    {
     "name": "stderr",
     "output_type": "stream",
     "text": [
      "Epoch 50/60: 100%|██████████| 500/500 [01:10<00:00,  7.04it/s, G_loss=78.4765, D_loss=0.1799, L1=0.1446, Perc=6.2281] \n"
     ]
    },
    {
     "name": "stdout",
     "output_type": "stream",
     "text": [
      "Epoch 50/60 - G_loss: 86.9700, D_loss: 0.2345, L1: 0.1658, Perc: 6.7012, Val_loss: 90.8489, Time: 86.76s, GPU: 1.61GB\n",
      "Checkpoint saved: checkpoints/perceptual_epoch_50.pth\n"
     ]
    },
    {
     "name": "stderr",
     "output_type": "stream",
     "text": [
      "Epoch 51/60: 100%|██████████| 500/500 [01:10<00:00,  7.07it/s, G_loss=87.2630, D_loss=0.1153, L1=0.1589, Perc=6.8717] \n"
     ]
    },
    {
     "name": "stdout",
     "output_type": "stream",
     "text": [
      "Epoch 51/60 - G_loss: 87.7113, D_loss: 0.3001, L1: 0.1661, Perc: 6.8439, Val_loss: 95.0514, Time: 86.57s, GPU: 1.61GB\n"
     ]
    },
    {
     "name": "stderr",
     "output_type": "stream",
     "text": [
      "Epoch 52/60: 100%|██████████| 500/500 [01:10<00:00,  7.07it/s, G_loss=93.2919, D_loss=0.0362, L1=0.1719, Perc=7.2481]  \n"
     ]
    },
    {
     "name": "stdout",
     "output_type": "stream",
     "text": [
      "Epoch 52/60 - G_loss: 87.1227, D_loss: 0.2872, L1: 0.1645, Perc: 6.8013, Val_loss: 101.9772, Time: 86.47s, GPU: 1.61GB\n"
     ]
    },
    {
     "name": "stderr",
     "output_type": "stream",
     "text": [
      "Epoch 53/60: 100%|██████████| 500/500 [01:11<00:00,  7.03it/s, G_loss=91.4407, D_loss=0.1537, L1=0.1525, Perc=7.2987] \n"
     ]
    },
    {
     "name": "stdout",
     "output_type": "stream",
     "text": [
      "Epoch 53/60 - G_loss: 86.1921, D_loss: 0.2913, L1: 0.1625, Perc: 6.7279, Val_loss: 90.6352, Time: 86.87s, GPU: 1.61GB\n"
     ]
    },
    {
     "name": "stderr",
     "output_type": "stream",
     "text": [
      "Epoch 54/60: 100%|██████████| 500/500 [01:10<00:00,  7.07it/s, G_loss=95.6494, D_loss=0.0349, L1=0.1708, Perc=7.4743] \n"
     ]
    },
    {
     "name": "stdout",
     "output_type": "stream",
     "text": [
      "Epoch 54/60 - G_loss: 86.8305, D_loss: 0.2845, L1: 0.1631, Perc: 6.7775, Val_loss: 104.1724, Time: 86.47s, GPU: 1.61GB\n"
     ]
    },
    {
     "name": "stderr",
     "output_type": "stream",
     "text": [
      "Epoch 55/60: 100%|██████████| 500/500 [01:10<00:00,  7.07it/s, G_loss=99.2017, D_loss=0.3656, L1=0.1969, Perc=7.7119] \n"
     ]
    },
    {
     "name": "stdout",
     "output_type": "stream",
     "text": [
      "Epoch 55/60 - G_loss: 86.4241, D_loss: 0.2738, L1: 0.1617, Perc: 6.7467, Val_loss: 94.0363, Time: 86.42s, GPU: 1.61GB\n"
     ]
    },
    {
     "name": "stderr",
     "output_type": "stream",
     "text": [
      "Epoch 56/60: 100%|██████████| 500/500 [01:10<00:00,  7.06it/s, G_loss=69.6436, D_loss=0.0823, L1=0.1400, Perc=5.2644] \n"
     ]
    },
    {
     "name": "stdout",
     "output_type": "stream",
     "text": [
      "Epoch 56/60 - G_loss: 86.4346, D_loss: 0.2731, L1: 0.1612, Perc: 6.7574, Val_loss: 89.4720, Time: 86.52s, GPU: 1.61GB\n"
     ]
    },
    {
     "name": "stderr",
     "output_type": "stream",
     "text": [
      "Epoch 57/60: 100%|██████████| 500/500 [01:10<00:00,  7.05it/s, G_loss=97.9279, D_loss=0.0716, L1=0.1704, Perc=7.6981] \n"
     ]
    },
    {
     "name": "stdout",
     "output_type": "stream",
     "text": [
      "Epoch 57/60 - G_loss: 86.2216, D_loss: 0.2776, L1: 0.1603, Perc: 6.7480, Val_loss: 98.9425, Time: 86.60s, GPU: 1.61GB\n"
     ]
    },
    {
     "name": "stderr",
     "output_type": "stream",
     "text": [
      "Epoch 58/60: 100%|██████████| 500/500 [01:10<00:00,  7.06it/s, G_loss=84.8424, D_loss=0.4207, L1=0.1505, Perc=6.6625] \n"
     ]
    },
    {
     "name": "stdout",
     "output_type": "stream",
     "text": [
      "Epoch 58/60 - G_loss: 85.1226, D_loss: 0.2779, L1: 0.1586, Perc: 6.6469, Val_loss: 100.0095, Time: 86.54s, GPU: 1.61GB\n"
     ]
    },
    {
     "name": "stderr",
     "output_type": "stream",
     "text": [
      "Epoch 59/60: 100%|██████████| 500/500 [01:10<00:00,  7.06it/s, G_loss=75.6015, D_loss=0.2456, L1=0.1512, Perc=5.7992] \n"
     ]
    },
    {
     "name": "stdout",
     "output_type": "stream",
     "text": [
      "Epoch 59/60 - G_loss: 84.9272, D_loss: 0.2632, L1: 0.1575, Perc: 6.6418, Val_loss: 92.6958, Time: 86.50s, GPU: 1.61GB\n"
     ]
    },
    {
     "name": "stderr",
     "output_type": "stream",
     "text": [
      "Epoch 60/60: 100%|██████████| 500/500 [01:10<00:00,  7.07it/s, G_loss=83.5546, D_loss=0.2862, L1=0.1597, Perc=6.4649] \n"
     ]
    },
    {
     "name": "stdout",
     "output_type": "stream",
     "text": [
      "Epoch 60/60 - G_loss: 85.0626, D_loss: 0.2740, L1: 0.1572, Perc: 6.6506, Val_loss: 95.8481, Time: 86.44s, GPU: 1.61GB\n",
      "Checkpoint saved: checkpoints/perceptual_epoch_60.pth\n",
      "\n",
      "Perceptual training completed in 5203.94 seconds\n",
      "Average time per epoch: 86.73 seconds\n",
      "Commpleted\n"
     ]
    }
   ],
   "source": [
    "perceptual_history, perceptual_gen, perceptual_disc = run_perceptual_training()"
   ]
  },
  {
   "cell_type": "code",
   "execution_count": 9,
   "metadata": {},
   "outputs": [
    {
     "name": "stdout",
     "output_type": "stream",
     "text": [
      "Loading models from separate files...\n",
      "Perceptual models loaded successfully\n"
     ]
    }
   ],
   "source": [
    "perceptual_history, perceptual_gen, perceptual_disc = run_perceptual_training()\n",
    "# La sesión finalizó por lo que cargaré los modelos sin borrar el output anterior"
   ]
  },
  {
   "cell_type": "markdown",
   "metadata": {},
   "source": [
    "## **7. Training Configuration C: Regularized Pix2Pix (BCE + L1 + Total Variation)**"
   ]
  },
  {
   "cell_type": "code",
   "execution_count": 11,
   "metadata": {},
   "outputs": [],
   "source": [
    "class RegularizedTrainer:\n",
    "    \"\"\"Regularized trainer with BCE + L1 + Total Variation loss\"\"\"\n",
    "    \n",
    "    def __init__(self, generator, discriminator, train_loader, val_loader):\n",
    "        self.generator = generator\n",
    "        self.discriminator = discriminator\n",
    "        self.train_loader = train_loader\n",
    "        self.val_loader = val_loader\n",
    "        \n",
    "        # Optimizers\n",
    "        self.gen_optimizer = optim.Adam(\n",
    "            generator.parameters(), \n",
    "            lr=Config.LEARNING_RATE, \n",
    "            betas=(Config.BETA1, Config.BETA2)\n",
    "        )\n",
    "        self.disc_optimizer = optim.Adam(\n",
    "            discriminator.parameters(), \n",
    "            lr=Config.LEARNING_RATE, \n",
    "            betas=(Config.BETA1, Config.BETA2)\n",
    "        )\n",
    "        \n",
    "        # Loss functions\n",
    "        self.loss_fn = LossFunctions(Config.DEVICE)\n",
    "        \n",
    "        # Training history\n",
    "        self.history = {\n",
    "            'gen_loss': [],\n",
    "            'disc_loss': [],\n",
    "            'adv_loss': [],\n",
    "            'l1_loss': [],\n",
    "            'tv_loss': [],\n",
    "            'val_gen_loss': [],\n",
    "            'epoch_times': [],\n",
    "            'gpu_memory': []\n",
    "        }\n",
    "        \n",
    "        # Scalers for mixed precision training\n",
    "        self.gen_scaler = torch.cuda.amp.GradScaler() if torch.cuda.is_available() else None\n",
    "        self.disc_scaler = torch.cuda.amp.GradScaler() if torch.cuda.is_available() else None\n",
    "    \n",
    "    def train_step(self, sketch, real_img):\n",
    "        \"\"\"Single training step\"\"\"\n",
    "        batch_size = sketch.size(0)\n",
    "        \n",
    "        # Train Discriminator\n",
    "        self.disc_optimizer.zero_grad()\n",
    "        \n",
    "        if self.disc_scaler:\n",
    "            with torch.cuda.amp.autocast():\n",
    "                # Real images\n",
    "                real_pred = self.discriminator(sketch, real_img)\n",
    "                \n",
    "                # Fake images\n",
    "                with torch.no_grad():\n",
    "                    fake_img = self.generator(sketch)\n",
    "                fake_pred = self.discriminator(sketch, fake_img.detach())\n",
    "                \n",
    "                disc_loss = self.loss_fn.discriminator_loss(real_pred, fake_pred)\n",
    "            \n",
    "            self.disc_scaler.scale(disc_loss).backward()\n",
    "            self.disc_scaler.step(self.disc_optimizer)\n",
    "            self.disc_scaler.update()\n",
    "        else:\n",
    "            # Real images\n",
    "            real_pred = self.discriminator(sketch, real_img)\n",
    "            \n",
    "            # Fake images\n",
    "            with torch.no_grad():\n",
    "                fake_img = self.generator(sketch)\n",
    "            fake_pred = self.discriminator(sketch, fake_img.detach())\n",
    "            \n",
    "            disc_loss = self.loss_fn.discriminator_loss(real_pred, fake_pred)\n",
    "            disc_loss.backward()\n",
    "            self.disc_optimizer.step()\n",
    "        \n",
    "        # Train Generator\n",
    "        self.gen_optimizer.zero_grad()\n",
    "        \n",
    "        if self.gen_scaler:\n",
    "            with torch.cuda.amp.autocast():\n",
    "                fake_img = self.generator(sketch)\n",
    "                fake_pred = self.discriminator(sketch, fake_img)\n",
    "                \n",
    "                gen_loss, gen_metrics = self.loss_fn.generator_loss_regularized(\n",
    "                    fake_pred, fake_img, real_img, \n",
    "                    Config.L1_LAMBDA, Config.TV_LAMBDA\n",
    "                )\n",
    "            \n",
    "            self.gen_scaler.scale(gen_loss).backward()\n",
    "            self.gen_scaler.step(self.gen_optimizer)\n",
    "            self.gen_scaler.update()\n",
    "        else:\n",
    "            fake_img = self.generator(sketch)\n",
    "            fake_pred = self.discriminator(sketch, fake_img)\n",
    "            \n",
    "            gen_loss, gen_metrics = self.loss_fn.generator_loss_regularized(\n",
    "                fake_pred, fake_img, real_img, \n",
    "                Config.L1_LAMBDA, Config.TV_LAMBDA\n",
    "            )\n",
    "            gen_loss.backward()\n",
    "            self.gen_optimizer.step()\n",
    "        \n",
    "        return {\n",
    "            'gen_loss': gen_loss.item(),\n",
    "            'disc_loss': disc_loss.item(),\n",
    "            'adv_loss': gen_metrics['adv_loss'],\n",
    "            'l1_loss': gen_metrics['l1_loss'],\n",
    "            'tv_loss': gen_metrics['tv_loss']\n",
    "        }\n",
    "    \n",
    "    def validate(self):\n",
    "        self.generator.eval()\n",
    "        self.discriminator.eval()\n",
    "        \n",
    "        val_losses = []\n",
    "        \n",
    "        with torch.no_grad():\n",
    "            for sketch, real_img in self.val_loader:\n",
    "                sketch = sketch.to(Config.DEVICE)\n",
    "                real_img = real_img.to(Config.DEVICE)\n",
    "                \n",
    "                fake_img = self.generator(sketch)\n",
    "                fake_pred = self.discriminator(sketch, fake_img)\n",
    "                \n",
    "                gen_loss, _ = self.loss_fn.generator_loss_regularized(\n",
    "                    fake_pred, fake_img, real_img, \n",
    "                    Config.L1_LAMBDA, Config.TV_LAMBDA\n",
    "                )\n",
    "                val_losses.append(gen_loss.item())\n",
    "        \n",
    "        self.generator.train()\n",
    "        self.discriminator.train()\n",
    "        \n",
    "        return np.mean(val_losses)\n",
    "    \n",
    "    def train(self, num_epochs):\n",
    "        \"\"\"Full training loop with total variation regularization\"\"\"\n",
    "        print(f\"\\nStarting Regularized Pix2Pix training for {num_epochs} epochs...\")\n",
    "        print(f\"Configuration: BCE + L1 + Total Variation Loss\")\n",
    "        print(f\"λ_L1={Config.L1_LAMBDA}, λ_TV={Config.TV_LAMBDA}\")\n",
    "        \n",
    "        start_time = time.time()\n",
    "        \n",
    "        for epoch in range(num_epochs):\n",
    "            epoch_start = time.time()\n",
    "            \n",
    "            # Training\n",
    "            train_metrics = {\n",
    "                'gen_loss': 0, 'disc_loss': 0, 'adv_loss': 0, \n",
    "                'l1_loss': 0, 'tv_loss': 0\n",
    "            }\n",
    "            \n",
    "            progress_bar = tqdm(self.train_loader, desc=f'Epoch {epoch+1}/{num_epochs}')\n",
    "            for sketch, real_img in progress_bar:\n",
    "                sketch = sketch.to(Config.DEVICE)\n",
    "                real_img = real_img.to(Config.DEVICE)\n",
    "                \n",
    "                # Training step\n",
    "                step_metrics = self.train_step(sketch, real_img)\n",
    "                \n",
    "                # Accumulate metrics\n",
    "                for key in train_metrics:\n",
    "                    train_metrics[key] += step_metrics[key]\n",
    "                \n",
    "                # Update progress bar\n",
    "                progress_bar.set_postfix({\n",
    "                    'G_loss': f\"{step_metrics['gen_loss']:.4f}\",\n",
    "                    'D_loss': f\"{step_metrics['disc_loss']:.4f}\",\n",
    "                    'L1': f\"{step_metrics['l1_loss']:.4f}\",\n",
    "                    'TV': f\"{step_metrics['tv_loss']:.4f}\"\n",
    "                })\n",
    "            \n",
    "            # Average metrics\n",
    "            for key in train_metrics:\n",
    "                train_metrics[key] /= len(self.train_loader)\n",
    "            \n",
    "            # Validation\n",
    "            val_gen_loss = self.validate()\n",
    "            \n",
    "            # Record epoch time and GPU memory\n",
    "            epoch_time = time.time() - epoch_start\n",
    "            gpu_memory = get_gpu_memory()\n",
    "            \n",
    "            # Store history\n",
    "            self.history['gen_loss'].append(train_metrics['gen_loss'])\n",
    "            self.history['disc_loss'].append(train_metrics['disc_loss'])\n",
    "            self.history['adv_loss'].append(train_metrics['adv_loss'])\n",
    "            self.history['l1_loss'].append(train_metrics['l1_loss'])\n",
    "            self.history['tv_loss'].append(train_metrics['tv_loss'])\n",
    "            self.history['val_gen_loss'].append(val_gen_loss)\n",
    "            self.history['epoch_times'].append(epoch_time)\n",
    "            self.history['gpu_memory'].append(gpu_memory)\n",
    "            \n",
    "            # Print epoch summary\n",
    "            print(f\"Epoch {epoch+1}/{num_epochs} - \"\n",
    "                  f\"G_loss: {train_metrics['gen_loss']:.4f}, \"\n",
    "                  f\"D_loss: {train_metrics['disc_loss']:.4f}, \"\n",
    "                  f\"L1: {train_metrics['l1_loss']:.4f}, \"\n",
    "                  f\"TV: {train_metrics['tv_loss']:.4f}, \"\n",
    "                  f\"Val_loss: {val_gen_loss:.4f}, \"\n",
    "                  f\"Time: {epoch_time:.2f}s, \"\n",
    "                  f\"GPU: {gpu_memory:.2f}GB\")\n",
    "            \n",
    "            # Save sample images\n",
    "            if (epoch + 1) % Config.SAMPLE_INTERVAL == 0:\n",
    "                sample_dir = os.path.join(Config.GENERATED_SAMPLES_DIR, \"regularized\")\n",
    "                os.makedirs(sample_dir, exist_ok=True)\n",
    "                save_sample_images(self.generator, self.val_loader, epoch + 1, sample_dir)\n",
    "            \n",
    "            # Save checkpoints\n",
    "            if (epoch + 1) % Config.CHECKPOINT_INTERVAL == 0:\n",
    "                self.save_checkpoint(epoch + 1, \"regularized\")\n",
    "            \n",
    "            # Log metrics to CSV\n",
    "            epoch_metrics = {\n",
    "                'epoch': epoch + 1,\n",
    "                'gen_loss': train_metrics['gen_loss'],\n",
    "                'disc_loss': train_metrics['disc_loss'],\n",
    "                'adv_loss': train_metrics['adv_loss'],\n",
    "                'l1_loss': train_metrics['l1_loss'],\n",
    "                'tv_loss': train_metrics['tv_loss'],\n",
    "                'val_gen_loss': val_gen_loss,\n",
    "                'epoch_time': epoch_time,\n",
    "                'gpu_memory': gpu_memory,\n",
    "                'configuration': 'regularized'\n",
    "            }\n",
    "            \n",
    "            csv_path = os.path.join(Config.SUMMARY_CSV_DIR, \"regularized_training_log.csv\")\n",
    "            log_metrics(epoch_metrics, csv_path)\n",
    "        \n",
    "        total_time = time.time() - start_time\n",
    "        print(f\"\\nRegularized training completed in {total_time:.2f} seconds\")\n",
    "        print(f\"Average time per epoch: {total_time/num_epochs:.2f} seconds\")\n",
    "        \n",
    "        return self.history\n",
    "    \n",
    "    def save_checkpoint(self, epoch, config_name):\n",
    "        \"\"\"Save model checkpoint\"\"\"\n",
    "        checkpoint = {\n",
    "            'epoch': epoch,\n",
    "            'generator_state_dict': self.generator.state_dict(),\n",
    "            'discriminator_state_dict': self.discriminator.state_dict(),\n",
    "            'gen_optimizer_state_dict': self.gen_optimizer.state_dict(),\n",
    "            'disc_optimizer_state_dict': self.disc_optimizer.state_dict(),\n",
    "            'history': self.history,\n",
    "            'config': config_name\n",
    "        }\n",
    "        \n",
    "        checkpoint_path = os.path.join(Config.CHECKPOINT_DIR, f\"{config_name}_epoch_{epoch}.pth\")\n",
    "        torch.save(checkpoint, checkpoint_path)\n",
    "        print(f\"Checkpoint saved: {checkpoint_path}\")\n",
    "\n",
    "def run_regularized_training():\n",
    "   checkpoint_path = os.path.join(Config.CHECKPOINT_DIR, \"regularized_epoch_6.pth\")\n",
    "   gen_path = os.path.join(Config.CHECKPOINT_DIR, \"regularized_generator_final.pth\")\n",
    "   disc_path = os.path.join(Config.CHECKPOINT_DIR, \"regularized_discriminator_final.pth\")\n",
    "   \n",
    "   if os.path.exists(checkpoint_path):\n",
    "       print(\"Loading from checkpoint...\")\n",
    "       checkpoint = torch.load(checkpoint_path, map_location=Config.DEVICE)\n",
    "       \n",
    "       gen_regularized = Generator().to(Config.DEVICE)\n",
    "       disc_regularized = Discriminator().to(Config.DEVICE)\n",
    "       \n",
    "       gen_regularized.load_state_dict(checkpoint['generator_state_dict'])\n",
    "       disc_regularized.load_state_dict(checkpoint['discriminator_state_dict'])\n",
    "       \n",
    "       history = checkpoint['history']\n",
    "       print(\"Regularized models loaded successfully\")\n",
    "       return history, gen_regularized, disc_regularized\n",
    "       \n",
    "   elif os.path.exists(gen_path) and os.path.exists(disc_path):\n",
    "       print(\"Loading models from separate files...\")\n",
    "       \n",
    "       gen_regularized = Generator().to(Config.DEVICE)\n",
    "       disc_regularized = Discriminator().to(Config.DEVICE)\n",
    "       \n",
    "       gen_regularized.load_state_dict(torch.load(gen_path, map_location=Config.DEVICE))\n",
    "       disc_regularized.load_state_dict(torch.load(disc_path, map_location=Config.DEVICE))\n",
    "       \n",
    "       print(\"Regularized models loaded successfully\")\n",
    "       return None, gen_regularized, disc_regularized\n",
    "       \n",
    "   else:\n",
    "       print(\"=\" * 60)\n",
    "       print(\"TRAINING CONFIGURATION C: REGULARIZED PIX2PIX\")\n",
    "       print(\"Loss Function: BCE + L1 + Total Variation\")\n",
    "       print(\"=\" * 60)\n",
    "       \n",
    "       gen_regularized = Generator().to(Config.DEVICE)\n",
    "       disc_regularized = Discriminator().to(Config.DEVICE)\n",
    "       \n",
    "       initialize_weights(gen_regularized)\n",
    "       initialize_weights(disc_regularized)\n",
    "       \n",
    "       trainer = RegularizedTrainer(gen_regularized, disc_regularized, train_loader, val_loader)\n",
    "       \n",
    "       history = trainer.train(Config.NUM_EPOCHS)\n",
    "       \n",
    "       torch.save(gen_regularized.state_dict(), \n",
    "                  os.path.join(Config.CHECKPOINT_DIR, \"regularized_generator_final.pth\"))\n",
    "       torch.save(disc_regularized.state_dict(), \n",
    "                  os.path.join(Config.CHECKPOINT_DIR, \"regularized_discriminator_final.pth\"))\n",
    "       \n",
    "       print(\"Completed\")\n",
    "       return history, gen_regularized, disc_regularized"
   ]
  },
  {
   "cell_type": "code",
   "execution_count": 12,
   "metadata": {},
   "outputs": [
    {
     "name": "stdout",
     "output_type": "stream",
     "text": [
      "============================================================\n",
      "TRAINING CONFIGURATION C: REGULARIZED PIX2PIX\n",
      "Loss Function: BCE + L1 + Total Variation\n",
      "============================================================\n",
      "\n",
      "Starting Regularized Pix2Pix training for 60 epochs...\n",
      "Configuration: BCE + L1 + Total Variation Loss\n",
      "λ_L1=100, λ_TV=0.1\n"
     ]
    },
    {
     "name": "stderr",
     "output_type": "stream",
     "text": [
      "Epoch 1/60: 100%|██████████| 500/500 [01:10<00:00,  7.06it/s, G_loss=25.6908, D_loss=0.0175, L1=0.2125, TV=0.0820]\n"
     ]
    },
    {
     "name": "stdout",
     "output_type": "stream",
     "text": [
      "Epoch 1/60 - G_loss: 29.3682, D_loss: 0.2098, L1: 0.2634, TV: 0.0812, Val_loss: 23.9279, Time: 86.48s, GPU: 2.28GB\n"
     ]
    },
    {
     "name": "stderr",
     "output_type": "stream",
     "text": [
      "Epoch 2/60: 100%|██████████| 500/500 [01:10<00:00,  7.07it/s, G_loss=27.4784, D_loss=0.0203, L1=0.2279, TV=0.0826]\n"
     ]
    },
    {
     "name": "stdout",
     "output_type": "stream",
     "text": [
      "Epoch 2/60 - G_loss: 27.0857, D_loss: 0.3534, L1: 0.2479, TV: 0.0824, Val_loss: 29.7292, Time: 86.51s, GPU: 2.28GB\n"
     ]
    },
    {
     "name": "stderr",
     "output_type": "stream",
     "text": [
      "Epoch 3/60: 100%|██████████| 500/500 [01:10<00:00,  7.06it/s, G_loss=23.0314, D_loss=0.7080, L1=0.2192, TV=0.0884]\n"
     ]
    },
    {
     "name": "stdout",
     "output_type": "stream",
     "text": [
      "Epoch 3/60 - G_loss: 26.7801, D_loss: 0.2176, L1: 0.2347, TV: 0.0854, Val_loss: 32.1267, Time: 86.49s, GPU: 2.28GB\n"
     ]
    },
    {
     "name": "stderr",
     "output_type": "stream",
     "text": [
      "Epoch 4/60: 100%|██████████| 500/500 [01:10<00:00,  7.08it/s, G_loss=26.6210, D_loss=0.4160, L1=0.2496, TV=0.0804]\n"
     ]
    },
    {
     "name": "stdout",
     "output_type": "stream",
     "text": [
      "Epoch 4/60 - G_loss: 25.9797, D_loss: 0.4466, L1: 0.2405, TV: 0.0899, Val_loss: 29.8195, Time: 86.25s, GPU: 2.28GB\n"
     ]
    },
    {
     "name": "stderr",
     "output_type": "stream",
     "text": [
      "Epoch 5/60: 100%|██████████| 500/500 [01:10<00:00,  7.09it/s, G_loss=26.3394, D_loss=0.4947, L1=0.2501, TV=0.0947]\n"
     ]
    },
    {
     "name": "stdout",
     "output_type": "stream",
     "text": [
      "Epoch 5/60 - G_loss: 25.2089, D_loss: 0.5369, L1: 0.2383, TV: 0.0902, Val_loss: 29.7511, Time: 86.21s, GPU: 2.28GB\n"
     ]
    },
    {
     "name": "stderr",
     "output_type": "stream",
     "text": [
      "Epoch 6/60: 100%|██████████| 500/500 [01:11<00:00,  7.04it/s, G_loss=22.7888, D_loss=0.5389, L1=0.2149, TV=0.0880]\n"
     ]
    },
    {
     "name": "stdout",
     "output_type": "stream",
     "text": [
      "Epoch 6/60 - G_loss: 24.7430, D_loss: 0.5557, L1: 0.2342, TV: 0.0915, Val_loss: 22.5921, Time: 86.74s, GPU: 2.28GB\n"
     ]
    },
    {
     "name": "stderr",
     "output_type": "stream",
     "text": [
      "Epoch 7/60: 100%|██████████| 500/500 [01:10<00:00,  7.07it/s, G_loss=26.0605, D_loss=0.3489, L1=0.2430, TV=0.0945]\n"
     ]
    },
    {
     "name": "stdout",
     "output_type": "stream",
     "text": [
      "Epoch 7/60 - G_loss: 24.8120, D_loss: 0.4307, L1: 0.2285, TV: 0.0930, Val_loss: 21.2093, Time: 86.40s, GPU: 2.28GB\n"
     ]
    },
    {
     "name": "stderr",
     "output_type": "stream",
     "text": [
      "Epoch 8/60: 100%|██████████| 500/500 [01:10<00:00,  7.06it/s, G_loss=20.2978, D_loss=0.6980, L1=0.1953, TV=0.0941]\n"
     ]
    },
    {
     "name": "stdout",
     "output_type": "stream",
     "text": [
      "Epoch 8/60 - G_loss: 23.9958, D_loss: 0.5477, L1: 0.2270, TV: 0.0901, Val_loss: 21.0277, Time: 86.55s, GPU: 2.28GB\n"
     ]
    },
    {
     "name": "stderr",
     "output_type": "stream",
     "text": [
      "Epoch 9/60: 100%|██████████| 500/500 [01:10<00:00,  7.07it/s, G_loss=20.6423, D_loss=0.9363, L1=0.1926, TV=0.0813]\n"
     ]
    },
    {
     "name": "stdout",
     "output_type": "stream",
     "text": [
      "Epoch 9/60 - G_loss: 24.0568, D_loss: 0.4591, L1: 0.2225, TV: 0.0942, Val_loss: 30.5430, Time: 86.40s, GPU: 2.28GB\n"
     ]
    },
    {
     "name": "stderr",
     "output_type": "stream",
     "text": [
      "Epoch 10/60: 100%|██████████| 500/500 [01:10<00:00,  7.07it/s, G_loss=23.3828, D_loss=0.4157, L1=0.2239, TV=0.0978]\n"
     ]
    },
    {
     "name": "stdout",
     "output_type": "stream",
     "text": [
      "Epoch 10/60 - G_loss: 23.4025, D_loss: 0.5486, L1: 0.2212, TV: 0.0905, Val_loss: 22.3111, Time: 86.41s, GPU: 2.28GB\n",
      "Checkpoint saved: checkpoints/regularized_epoch_10.pth\n"
     ]
    },
    {
     "name": "stderr",
     "output_type": "stream",
     "text": [
      "Epoch 11/60: 100%|██████████| 500/500 [01:10<00:00,  7.08it/s, G_loss=24.4285, D_loss=0.6435, L1=0.2317, TV=0.1006]\n"
     ]
    },
    {
     "name": "stdout",
     "output_type": "stream",
     "text": [
      "Epoch 11/60 - G_loss: 22.9245, D_loss: 0.5487, L1: 0.2165, TV: 0.0919, Val_loss: 28.2419, Time: 86.41s, GPU: 2.28GB\n"
     ]
    },
    {
     "name": "stderr",
     "output_type": "stream",
     "text": [
      "Epoch 12/60: 100%|██████████| 500/500 [01:10<00:00,  7.08it/s, G_loss=18.9145, D_loss=0.5829, L1=0.1736, TV=0.0721]\n"
     ]
    },
    {
     "name": "stdout",
     "output_type": "stream",
     "text": [
      "Epoch 12/60 - G_loss: 22.7035, D_loss: 0.5476, L1: 0.2141, TV: 0.0915, Val_loss: 20.8428, Time: 86.41s, GPU: 2.28GB\n"
     ]
    },
    {
     "name": "stderr",
     "output_type": "stream",
     "text": [
      "Epoch 13/60: 100%|██████████| 500/500 [01:10<00:00,  7.09it/s, G_loss=22.2086, D_loss=0.6281, L1=0.2120, TV=0.0980]\n"
     ]
    },
    {
     "name": "stdout",
     "output_type": "stream",
     "text": [
      "Epoch 13/60 - G_loss: 22.3188, D_loss: 0.5494, L1: 0.2105, TV: 0.0921, Val_loss: 25.5800, Time: 86.23s, GPU: 2.28GB\n"
     ]
    },
    {
     "name": "stderr",
     "output_type": "stream",
     "text": [
      "Epoch 14/60: 100%|██████████| 500/500 [01:10<00:00,  7.07it/s, G_loss=23.3744, D_loss=0.4634, L1=0.2159, TV=0.0915]\n"
     ]
    },
    {
     "name": "stdout",
     "output_type": "stream",
     "text": [
      "Epoch 14/60 - G_loss: 21.7975, D_loss: 0.5421, L1: 0.2051, TV: 0.0908, Val_loss: 22.3850, Time: 86.35s, GPU: 2.28GB\n"
     ]
    },
    {
     "name": "stderr",
     "output_type": "stream",
     "text": [
      "Epoch 15/60: 100%|██████████| 500/500 [01:10<00:00,  7.08it/s, G_loss=19.4341, D_loss=0.4668, L1=0.1827, TV=0.0912]\n"
     ]
    },
    {
     "name": "stdout",
     "output_type": "stream",
     "text": [
      "Epoch 15/60 - G_loss: 21.4582, D_loss: 0.5481, L1: 0.2021, TV: 0.0917, Val_loss: 20.8679, Time: 86.29s, GPU: 2.28GB\n"
     ]
    },
    {
     "name": "stderr",
     "output_type": "stream",
     "text": [
      "Epoch 16/60: 100%|██████████| 500/500 [01:10<00:00,  7.07it/s, G_loss=22.3255, D_loss=0.5701, L1=0.2139, TV=0.0936]\n"
     ]
    },
    {
     "name": "stdout",
     "output_type": "stream",
     "text": [
      "Epoch 16/60 - G_loss: 21.0492, D_loss: 0.5541, L1: 0.1981, TV: 0.0933, Val_loss: 20.9856, Time: 86.34s, GPU: 2.28GB\n"
     ]
    },
    {
     "name": "stderr",
     "output_type": "stream",
     "text": [
      "Epoch 17/60: 100%|██████████| 500/500 [01:10<00:00,  7.07it/s, G_loss=20.4735, D_loss=0.6727, L1=0.1920, TV=0.0950]\n"
     ]
    },
    {
     "name": "stdout",
     "output_type": "stream",
     "text": [
      "Epoch 17/60 - G_loss: 20.7534, D_loss: 0.5496, L1: 0.1950, TV: 0.0926, Val_loss: 22.1714, Time: 86.51s, GPU: 2.28GB\n"
     ]
    },
    {
     "name": "stderr",
     "output_type": "stream",
     "text": [
      "Epoch 18/60: 100%|██████████| 500/500 [01:10<00:00,  7.07it/s, G_loss=20.5440, D_loss=0.6660, L1=0.1980, TV=0.1099]\n"
     ]
    },
    {
     "name": "stdout",
     "output_type": "stream",
     "text": [
      "Epoch 18/60 - G_loss: 20.3745, D_loss: 0.5485, L1: 0.1913, TV: 0.0930, Val_loss: 23.4363, Time: 86.35s, GPU: 2.28GB\n"
     ]
    },
    {
     "name": "stderr",
     "output_type": "stream",
     "text": [
      "Epoch 19/60: 100%|██████████| 500/500 [01:10<00:00,  7.08it/s, G_loss=25.6912, D_loss=0.4368, L1=0.2410, TV=0.1105]\n"
     ]
    },
    {
     "name": "stdout",
     "output_type": "stream",
     "text": [
      "Epoch 19/60 - G_loss: 19.9424, D_loss: 0.5491, L1: 0.1870, TV: 0.0928, Val_loss: 22.3547, Time: 86.35s, GPU: 2.28GB\n"
     ]
    },
    {
     "name": "stderr",
     "output_type": "stream",
     "text": [
      "Epoch 20/60: 100%|██████████| 500/500 [01:10<00:00,  7.08it/s, G_loss=19.7530, D_loss=0.2121, L1=0.1804, TV=0.0833]\n"
     ]
    },
    {
     "name": "stdout",
     "output_type": "stream",
     "text": [
      "Epoch 20/60 - G_loss: 19.7398, D_loss: 0.5465, L1: 0.1850, TV: 0.0936, Val_loss: 22.3312, Time: 86.37s, GPU: 2.28GB\n",
      "Checkpoint saved: checkpoints/regularized_epoch_20.pth\n"
     ]
    },
    {
     "name": "stderr",
     "output_type": "stream",
     "text": [
      "Epoch 21/60: 100%|██████████| 500/500 [01:10<00:00,  7.05it/s, G_loss=17.9900, D_loss=0.2958, L1=0.1643, TV=0.0815]\n"
     ]
    },
    {
     "name": "stdout",
     "output_type": "stream",
     "text": [
      "Epoch 21/60 - G_loss: 19.4589, D_loss: 0.5504, L1: 0.1820, TV: 0.0938, Val_loss: 21.2777, Time: 86.59s, GPU: 2.28GB\n"
     ]
    },
    {
     "name": "stderr",
     "output_type": "stream",
     "text": [
      "Epoch 22/60: 100%|██████████| 500/500 [01:10<00:00,  7.07it/s, G_loss=16.3586, D_loss=0.5014, L1=0.1568, TV=0.0884]\n"
     ]
    },
    {
     "name": "stdout",
     "output_type": "stream",
     "text": [
      "Epoch 22/60 - G_loss: 19.2132, D_loss: 0.5436, L1: 0.1797, TV: 0.0937, Val_loss: 23.6219, Time: 86.45s, GPU: 2.28GB\n"
     ]
    },
    {
     "name": "stderr",
     "output_type": "stream",
     "text": [
      "Epoch 23/60: 100%|██████████| 500/500 [01:10<00:00,  7.07it/s, G_loss=22.3368, D_loss=0.4061, L1=0.2071, TV=0.1078]\n"
     ]
    },
    {
     "name": "stdout",
     "output_type": "stream",
     "text": [
      "Epoch 23/60 - G_loss: 18.9500, D_loss: 0.5411, L1: 0.1766, TV: 0.0944, Val_loss: 20.1547, Time: 86.44s, GPU: 2.28GB\n"
     ]
    },
    {
     "name": "stderr",
     "output_type": "stream",
     "text": [
      "Epoch 24/60: 100%|██████████| 500/500 [01:10<00:00,  7.05it/s, G_loss=16.6406, D_loss=0.3923, L1=0.1556, TV=0.0891]\n"
     ]
    },
    {
     "name": "stdout",
     "output_type": "stream",
     "text": [
      "Epoch 24/60 - G_loss: 18.7563, D_loss: 0.5291, L1: 0.1744, TV: 0.0946, Val_loss: 23.7999, Time: 86.59s, GPU: 2.28GB\n"
     ]
    },
    {
     "name": "stderr",
     "output_type": "stream",
     "text": [
      "Epoch 25/60: 100%|██████████| 500/500 [01:10<00:00,  7.07it/s, G_loss=20.4718, D_loss=0.2411, L1=0.1832, TV=0.0879]\n"
     ]
    },
    {
     "name": "stdout",
     "output_type": "stream",
     "text": [
      "Epoch 25/60 - G_loss: 18.5991, D_loss: 0.5302, L1: 0.1728, TV: 0.0953, Val_loss: 22.5168, Time: 86.45s, GPU: 2.28GB\n"
     ]
    },
    {
     "name": "stderr",
     "output_type": "stream",
     "text": [
      "Epoch 26/60: 100%|██████████| 500/500 [01:10<00:00,  7.08it/s, G_loss=21.8778, D_loss=0.7385, L1=0.2014, TV=0.1022]\n"
     ]
    },
    {
     "name": "stdout",
     "output_type": "stream",
     "text": [
      "Epoch 26/60 - G_loss: 18.4070, D_loss: 0.5355, L1: 0.1709, TV: 0.0958, Val_loss: 24.7532, Time: 86.31s, GPU: 2.28GB\n"
     ]
    },
    {
     "name": "stderr",
     "output_type": "stream",
     "text": [
      "Epoch 27/60: 100%|██████████| 500/500 [01:10<00:00,  7.07it/s, G_loss=18.9069, D_loss=0.2928, L1=0.1698, TV=0.0820]\n"
     ]
    },
    {
     "name": "stdout",
     "output_type": "stream",
     "text": [
      "Epoch 27/60 - G_loss: 18.0998, D_loss: 0.5353, L1: 0.1680, TV: 0.0952, Val_loss: 21.3852, Time: 86.42s, GPU: 2.28GB\n"
     ]
    },
    {
     "name": "stderr",
     "output_type": "stream",
     "text": [
      "Epoch 28/60: 100%|██████████| 500/500 [01:10<00:00,  7.08it/s, G_loss=19.6249, D_loss=0.8884, L1=0.1875, TV=0.1108]\n"
     ]
    },
    {
     "name": "stdout",
     "output_type": "stream",
     "text": [
      "Epoch 28/60 - G_loss: 17.9434, D_loss: 0.5294, L1: 0.1664, TV: 0.0958, Val_loss: 21.8384, Time: 86.38s, GPU: 2.28GB\n"
     ]
    },
    {
     "name": "stderr",
     "output_type": "stream",
     "text": [
      "Epoch 29/60: 100%|██████████| 500/500 [01:10<00:00,  7.08it/s, G_loss=19.2056, D_loss=0.3986, L1=0.1773, TV=0.0973]\n"
     ]
    },
    {
     "name": "stdout",
     "output_type": "stream",
     "text": [
      "Epoch 29/60 - G_loss: 17.6891, D_loss: 0.5335, L1: 0.1638, TV: 0.0959, Val_loss: 23.2720, Time: 86.29s, GPU: 2.28GB\n"
     ]
    },
    {
     "name": "stderr",
     "output_type": "stream",
     "text": [
      "Epoch 30/60: 100%|██████████| 500/500 [01:10<00:00,  7.07it/s, G_loss=21.3640, D_loss=0.3824, L1=0.1974, TV=0.1047]\n"
     ]
    },
    {
     "name": "stdout",
     "output_type": "stream",
     "text": [
      "Epoch 30/60 - G_loss: 17.6229, D_loss: 0.5301, L1: 0.1633, TV: 0.0964, Val_loss: 20.5538, Time: 86.47s, GPU: 2.28GB\n",
      "Checkpoint saved: checkpoints/regularized_epoch_30.pth\n"
     ]
    },
    {
     "name": "stderr",
     "output_type": "stream",
     "text": [
      "Epoch 31/60: 100%|██████████| 500/500 [01:10<00:00,  7.08it/s, G_loss=16.4795, D_loss=0.4769, L1=0.1517, TV=0.0859]\n"
     ]
    },
    {
     "name": "stdout",
     "output_type": "stream",
     "text": [
      "Epoch 31/60 - G_loss: 17.3392, D_loss: 0.5315, L1: 0.1604, TV: 0.0954, Val_loss: 19.5958, Time: 86.31s, GPU: 2.28GB\n"
     ]
    },
    {
     "name": "stderr",
     "output_type": "stream",
     "text": [
      "Epoch 32/60: 100%|██████████| 500/500 [01:10<00:00,  7.08it/s, G_loss=17.8921, D_loss=0.4275, L1=0.1658, TV=0.1056]\n"
     ]
    },
    {
     "name": "stdout",
     "output_type": "stream",
     "text": [
      "Epoch 32/60 - G_loss: 17.2448, D_loss: 0.5281, L1: 0.1596, TV: 0.0961, Val_loss: 22.6131, Time: 86.36s, GPU: 2.28GB\n"
     ]
    },
    {
     "name": "stderr",
     "output_type": "stream",
     "text": [
      "Epoch 33/60: 100%|██████████| 500/500 [01:10<00:00,  7.08it/s, G_loss=17.3797, D_loss=0.4184, L1=0.1589, TV=0.0939]\n"
     ]
    },
    {
     "name": "stdout",
     "output_type": "stream",
     "text": [
      "Epoch 33/60 - G_loss: 16.9636, D_loss: 0.5393, L1: 0.1567, TV: 0.0961, Val_loss: 25.7766, Time: 86.37s, GPU: 2.28GB\n"
     ]
    },
    {
     "name": "stderr",
     "output_type": "stream",
     "text": [
      "Epoch 34/60: 100%|██████████| 500/500 [01:10<00:00,  7.08it/s, G_loss=14.8405, D_loss=0.7246, L1=0.1406, TV=0.0958]\n"
     ]
    },
    {
     "name": "stdout",
     "output_type": "stream",
     "text": [
      "Epoch 34/60 - G_loss: 16.8655, D_loss: 0.5327, L1: 0.1557, TV: 0.0962, Val_loss: 22.5292, Time: 86.25s, GPU: 2.28GB\n"
     ]
    },
    {
     "name": "stderr",
     "output_type": "stream",
     "text": [
      "Epoch 35/60: 100%|██████████| 500/500 [01:10<00:00,  7.08it/s, G_loss=18.2883, D_loss=0.8229, L1=0.1702, TV=0.1074]\n"
     ]
    },
    {
     "name": "stdout",
     "output_type": "stream",
     "text": [
      "Epoch 35/60 - G_loss: 16.6860, D_loss: 0.5305, L1: 0.1539, TV: 0.0967, Val_loss: 23.2913, Time: 86.26s, GPU: 2.28GB\n"
     ]
    },
    {
     "name": "stderr",
     "output_type": "stream",
     "text": [
      "Epoch 36/60: 100%|██████████| 500/500 [01:10<00:00,  7.08it/s, G_loss=16.0167, D_loss=0.5837, L1=0.1513, TV=0.0926]\n"
     ]
    },
    {
     "name": "stdout",
     "output_type": "stream",
     "text": [
      "Epoch 36/60 - G_loss: 16.5476, D_loss: 0.5300, L1: 0.1524, TV: 0.0960, Val_loss: 21.7224, Time: 86.39s, GPU: 2.28GB\n"
     ]
    },
    {
     "name": "stderr",
     "output_type": "stream",
     "text": [
      "Epoch 37/60: 100%|██████████| 500/500 [01:10<00:00,  7.09it/s, G_loss=20.7003, D_loss=0.3451, L1=0.1885, TV=0.1049]\n"
     ]
    },
    {
     "name": "stdout",
     "output_type": "stream",
     "text": [
      "Epoch 37/60 - G_loss: 16.4817, D_loss: 0.5330, L1: 0.1516, TV: 0.0962, Val_loss: 21.7174, Time: 86.18s, GPU: 2.28GB\n"
     ]
    },
    {
     "name": "stderr",
     "output_type": "stream",
     "text": [
      "Epoch 38/60: 100%|██████████| 500/500 [01:10<00:00,  7.10it/s, G_loss=17.2062, D_loss=0.2972, L1=0.1528, TV=0.1026]\n"
     ]
    },
    {
     "name": "stdout",
     "output_type": "stream",
     "text": [
      "Epoch 38/60 - G_loss: 16.3178, D_loss: 0.5208, L1: 0.1499, TV: 0.0966, Val_loss: 20.8156, Time: 86.16s, GPU: 2.28GB\n"
     ]
    },
    {
     "name": "stderr",
     "output_type": "stream",
     "text": [
      "Epoch 39/60: 100%|██████████| 500/500 [01:10<00:00,  7.08it/s, G_loss=18.0541, D_loss=0.5855, L1=0.1668, TV=0.0991]\n"
     ]
    },
    {
     "name": "stdout",
     "output_type": "stream",
     "text": [
      "Epoch 39/60 - G_loss: 16.1954, D_loss: 0.5182, L1: 0.1484, TV: 0.0967, Val_loss: 21.9824, Time: 86.37s, GPU: 2.28GB\n"
     ]
    },
    {
     "name": "stderr",
     "output_type": "stream",
     "text": [
      "Epoch 40/60: 100%|██████████| 500/500 [01:10<00:00,  7.07it/s, G_loss=16.6199, D_loss=0.4466, L1=0.1576, TV=0.1031]\n"
     ]
    },
    {
     "name": "stdout",
     "output_type": "stream",
     "text": [
      "Epoch 40/60 - G_loss: 16.1294, D_loss: 0.5102, L1: 0.1476, TV: 0.0969, Val_loss: 22.4340, Time: 86.47s, GPU: 2.28GB\n",
      "Checkpoint saved: checkpoints/regularized_epoch_40.pth\n"
     ]
    },
    {
     "name": "stderr",
     "output_type": "stream",
     "text": [
      "Epoch 41/60: 100%|██████████| 500/500 [01:10<00:00,  7.05it/s, G_loss=14.5486, D_loss=0.5311, L1=0.1294, TV=0.0826]\n"
     ]
    },
    {
     "name": "stdout",
     "output_type": "stream",
     "text": [
      "Epoch 41/60 - G_loss: 16.0881, D_loss: 0.5028, L1: 0.1470, TV: 0.0975, Val_loss: 21.4012, Time: 86.72s, GPU: 2.28GB\n"
     ]
    },
    {
     "name": "stderr",
     "output_type": "stream",
     "text": [
      "Epoch 42/60: 100%|██████████| 500/500 [01:10<00:00,  7.09it/s, G_loss=21.2459, D_loss=0.4718, L1=0.1905, TV=0.1196]\n"
     ]
    },
    {
     "name": "stdout",
     "output_type": "stream",
     "text": [
      "Epoch 42/60 - G_loss: 16.1261, D_loss: 0.4979, L1: 0.1470, TV: 0.0980, Val_loss: 23.1786, Time: 86.24s, GPU: 2.28GB\n"
     ]
    },
    {
     "name": "stderr",
     "output_type": "stream",
     "text": [
      "Epoch 43/60: 100%|██████████| 500/500 [01:10<00:00,  7.06it/s, G_loss=17.5191, D_loss=0.4167, L1=0.1574, TV=0.1039]\n"
     ]
    },
    {
     "name": "stdout",
     "output_type": "stream",
     "text": [
      "Epoch 43/60 - G_loss: 15.8527, D_loss: 0.4930, L1: 0.1441, TV: 0.0983, Val_loss: 20.4616, Time: 86.50s, GPU: 2.28GB\n"
     ]
    },
    {
     "name": "stderr",
     "output_type": "stream",
     "text": [
      "Epoch 44/60: 100%|██████████| 500/500 [01:10<00:00,  7.07it/s, G_loss=16.6155, D_loss=0.3452, L1=0.1479, TV=0.0901]\n"
     ]
    },
    {
     "name": "stdout",
     "output_type": "stream",
     "text": [
      "Epoch 44/60 - G_loss: 15.8683, D_loss: 0.4911, L1: 0.1440, TV: 0.0978, Val_loss: 21.4260, Time: 86.41s, GPU: 2.28GB\n"
     ]
    },
    {
     "name": "stderr",
     "output_type": "stream",
     "text": [
      "Epoch 45/60: 100%|██████████| 500/500 [01:10<00:00,  7.06it/s, G_loss=15.2625, D_loss=0.8292, L1=0.1399, TV=0.0978]\n"
     ]
    },
    {
     "name": "stdout",
     "output_type": "stream",
     "text": [
      "Epoch 45/60 - G_loss: 15.6925, D_loss: 0.4905, L1: 0.1421, TV: 0.0980, Val_loss: 23.2042, Time: 86.59s, GPU: 2.28GB\n"
     ]
    },
    {
     "name": "stderr",
     "output_type": "stream",
     "text": [
      "Epoch 46/60: 100%|██████████| 500/500 [01:10<00:00,  7.09it/s, G_loss=15.1770, D_loss=0.4204, L1=0.1376, TV=0.1031]\n"
     ]
    },
    {
     "name": "stdout",
     "output_type": "stream",
     "text": [
      "Epoch 46/60 - G_loss: 15.6597, D_loss: 0.4716, L1: 0.1414, TV: 0.0980, Val_loss: 23.1689, Time: 86.20s, GPU: 2.28GB\n"
     ]
    },
    {
     "name": "stderr",
     "output_type": "stream",
     "text": [
      "Epoch 47/60: 100%|██████████| 500/500 [01:11<00:00,  7.01it/s, G_loss=13.5387, D_loss=0.8300, L1=0.1316, TV=0.1047]\n"
     ]
    },
    {
     "name": "stdout",
     "output_type": "stream",
     "text": [
      "Epoch 47/60 - G_loss: 15.6778, D_loss: 0.4721, L1: 0.1413, TV: 0.0984, Val_loss: 22.0538, Time: 87.11s, GPU: 2.28GB\n"
     ]
    },
    {
     "name": "stderr",
     "output_type": "stream",
     "text": [
      "Epoch 48/60: 100%|██████████| 500/500 [01:11<00:00,  6.96it/s, G_loss=15.4723, D_loss=0.2526, L1=0.1371, TV=0.0851]\n"
     ]
    },
    {
     "name": "stdout",
     "output_type": "stream",
     "text": [
      "Epoch 48/60 - G_loss: 15.6949, D_loss: 0.4671, L1: 0.1413, TV: 0.0987, Val_loss: 21.3357, Time: 87.56s, GPU: 2.28GB\n"
     ]
    },
    {
     "name": "stderr",
     "output_type": "stream",
     "text": [
      "Epoch 49/60: 100%|██████████| 500/500 [01:11<00:00,  7.00it/s, G_loss=17.5705, D_loss=0.4959, L1=0.1553, TV=0.1237]\n"
     ]
    },
    {
     "name": "stdout",
     "output_type": "stream",
     "text": [
      "Epoch 49/60 - G_loss: 15.6288, D_loss: 0.4633, L1: 0.1404, TV: 0.0985, Val_loss: 23.3627, Time: 87.44s, GPU: 2.28GB\n"
     ]
    },
    {
     "name": "stderr",
     "output_type": "stream",
     "text": [
      "Epoch 50/60: 100%|██████████| 500/500 [01:12<00:00,  6.94it/s, G_loss=16.0785, D_loss=0.2512, L1=0.1427, TV=0.1025]\n"
     ]
    },
    {
     "name": "stdout",
     "output_type": "stream",
     "text": [
      "Epoch 50/60 - G_loss: 15.5293, D_loss: 0.4531, L1: 0.1390, TV: 0.0989, Val_loss: 23.3360, Time: 88.62s, GPU: 2.28GB\n",
      "Checkpoint saved: checkpoints/regularized_epoch_50.pth\n"
     ]
    },
    {
     "name": "stderr",
     "output_type": "stream",
     "text": [
      "Epoch 51/60: 100%|██████████| 500/500 [01:14<00:00,  6.70it/s, G_loss=18.2335, D_loss=0.2569, L1=0.1653, TV=0.0980]\n"
     ]
    },
    {
     "name": "stdout",
     "output_type": "stream",
     "text": [
      "Epoch 51/60 - G_loss: 15.3923, D_loss: 0.4502, L1: 0.1374, TV: 0.0992, Val_loss: 21.8198, Time: 90.43s, GPU: 2.28GB\n"
     ]
    },
    {
     "name": "stderr",
     "output_type": "stream",
     "text": [
      "Epoch 52/60: 100%|██████████| 500/500 [01:11<00:00,  7.02it/s, G_loss=17.1143, D_loss=0.3140, L1=0.1425, TV=0.1031]\n"
     ]
    },
    {
     "name": "stdout",
     "output_type": "stream",
     "text": [
      "Epoch 52/60 - G_loss: 15.3322, D_loss: 0.4516, L1: 0.1367, TV: 0.0993, Val_loss: 21.1805, Time: 86.97s, GPU: 2.28GB\n"
     ]
    },
    {
     "name": "stderr",
     "output_type": "stream",
     "text": [
      "Epoch 53/60: 100%|██████████| 500/500 [01:10<00:00,  7.07it/s, G_loss=15.7555, D_loss=0.4073, L1=0.1388, TV=0.0982]\n"
     ]
    },
    {
     "name": "stdout",
     "output_type": "stream",
     "text": [
      "Epoch 53/60 - G_loss: 15.4326, D_loss: 0.4507, L1: 0.1374, TV: 0.0992, Val_loss: 20.8526, Time: 86.39s, GPU: 2.28GB\n"
     ]
    },
    {
     "name": "stderr",
     "output_type": "stream",
     "text": [
      "Epoch 54/60: 100%|██████████| 500/500 [01:11<00:00,  7.02it/s, G_loss=15.7348, D_loss=0.2891, L1=0.1464, TV=0.1019]\n"
     ]
    },
    {
     "name": "stdout",
     "output_type": "stream",
     "text": [
      "Epoch 54/60 - G_loss: 15.2255, D_loss: 0.5088, L1: 0.1360, TV: 0.0977, Val_loss: 24.5376, Time: 86.95s, GPU: 2.28GB\n"
     ]
    },
    {
     "name": "stderr",
     "output_type": "stream",
     "text": [
      "Epoch 55/60: 100%|██████████| 500/500 [01:11<00:00,  7.00it/s, G_loss=15.0997, D_loss=0.4975, L1=0.1298, TV=0.0920]\n"
     ]
    },
    {
     "name": "stdout",
     "output_type": "stream",
     "text": [
      "Epoch 55/60 - G_loss: 15.3325, D_loss: 0.4423, L1: 0.1362, TV: 0.0994, Val_loss: 23.0766, Time: 87.18s, GPU: 2.28GB\n"
     ]
    },
    {
     "name": "stderr",
     "output_type": "stream",
     "text": [
      "Epoch 56/60: 100%|██████████| 500/500 [01:10<00:00,  7.06it/s, G_loss=14.4005, D_loss=0.4452, L1=0.1309, TV=0.1022]\n"
     ]
    },
    {
     "name": "stdout",
     "output_type": "stream",
     "text": [
      "Epoch 56/60 - G_loss: 15.2317, D_loss: 0.4339, L1: 0.1350, TV: 0.0996, Val_loss: 20.8545, Time: 86.60s, GPU: 2.28GB\n"
     ]
    },
    {
     "name": "stderr",
     "output_type": "stream",
     "text": [
      "Epoch 57/60: 100%|██████████| 500/500 [01:10<00:00,  7.06it/s, G_loss=15.7733, D_loss=0.4554, L1=0.1460, TV=0.0967]\n"
     ]
    },
    {
     "name": "stdout",
     "output_type": "stream",
     "text": [
      "Epoch 57/60 - G_loss: 15.2612, D_loss: 0.4305, L1: 0.1350, TV: 0.0999, Val_loss: 22.9682, Time: 86.60s, GPU: 2.28GB\n"
     ]
    },
    {
     "name": "stderr",
     "output_type": "stream",
     "text": [
      "Epoch 58/60: 100%|██████████| 500/500 [01:11<00:00,  7.04it/s, G_loss=19.9486, D_loss=0.1603, L1=0.1725, TV=0.1109]\n"
     ]
    },
    {
     "name": "stdout",
     "output_type": "stream",
     "text": [
      "Epoch 58/60 - G_loss: 15.2316, D_loss: 0.4199, L1: 0.1343, TV: 0.0997, Val_loss: 21.5998, Time: 86.85s, GPU: 2.28GB\n"
     ]
    },
    {
     "name": "stderr",
     "output_type": "stream",
     "text": [
      "Epoch 59/60: 100%|██████████| 500/500 [01:10<00:00,  7.04it/s, G_loss=18.9973, D_loss=0.2495, L1=0.1604, TV=0.1067]\n"
     ]
    },
    {
     "name": "stdout",
     "output_type": "stream",
     "text": [
      "Epoch 59/60 - G_loss: 15.2173, D_loss: 0.4093, L1: 0.1337, TV: 0.0995, Val_loss: 24.2505, Time: 86.76s, GPU: 2.28GB\n"
     ]
    },
    {
     "name": "stderr",
     "output_type": "stream",
     "text": [
      "Epoch 60/60: 100%|██████████| 500/500 [01:10<00:00,  7.06it/s, G_loss=18.7187, D_loss=0.2220, L1=0.1637, TV=0.1013]\n"
     ]
    },
    {
     "name": "stdout",
     "output_type": "stream",
     "text": [
      "Epoch 60/60 - G_loss: 15.1144, D_loss: 0.4250, L1: 0.1326, TV: 0.1000, Val_loss: 22.7391, Time: 86.60s, GPU: 2.28GB\n",
      "Checkpoint saved: checkpoints/regularized_epoch_60.pth\n",
      "\n",
      "Regularized training completed in 5205.56 seconds\n",
      "Average time per epoch: 86.76 seconds\n",
      "Completed\n"
     ]
    }
   ],
   "source": [
    "regularized_history, regularized_gen, regularized_disc = run_regularized_training()"
   ]
  },
  {
   "cell_type": "code",
   "execution_count": 12,
   "metadata": {},
   "outputs": [
    {
     "name": "stdout",
     "output_type": "stream",
     "text": [
      "Loading models from separate files...\n"
     ]
    },
    {
     "name": "stdout",
     "output_type": "stream",
     "text": [
      "Regularized models loaded successfully\n"
     ]
    }
   ],
   "source": [
    "regularized_history, regularized_gen, regularized_disc = run_regularized_training()"
   ]
  },
  {
   "cell_type": "markdown",
   "metadata": {},
   "source": [
    "## **8. Evaluation Metrics Implementation**"
   ]
  },
  {
   "cell_type": "code",
   "execution_count": 13,
   "metadata": {},
   "outputs": [],
   "source": [
    "from sklearn.metrics import mean_squared_error, mean_absolute_error\n",
    "from scipy import linalg\n",
    "import scipy.stats as stats\n",
    "from skimage.metrics import structural_similarity as ssim\n",
    "from skimage.metrics import peak_signal_noise_ratio as psnr"
   ]
  },
  {
   "cell_type": "code",
   "execution_count": 14,
   "metadata": {},
   "outputs": [
    {
     "name": "stdout",
     "output_type": "stream",
     "text": [
      "Available metrics:\n",
      "- Pixel-level: MSE, MAE, PSNR, SSIM\n",
      "- Perceptual: FID, Inception Score\n",
      "- Discriminator: Classification accuracy\n",
      "- Computational: Inference time, memory usage\n"
     ]
    }
   ],
   "source": [
    "import torch\n",
    "import torch.nn as nn\n",
    "from torchvision import models\n",
    "import numpy as np\n",
    "from sklearn.metrics import mean_squared_error, mean_absolute_error\n",
    "from skimage.metrics import peak_signal_noise_ratio as psnr\n",
    "from skimage.metrics import structural_similarity as ssim\n",
    "from scipy import linalg\n",
    "from tqdm import tqdm\n",
    "import time\n",
    "import os\n",
    "\n",
    "class FIDScore:\n",
    "    \"\"\"Frechet Inception Distance calculator\"\"\"\n",
    "    def __init__(self, device):\n",
    "        self.device = device\n",
    "        self.inception = models.inception_v3(pretrained=True, transform_input=False)\n",
    "        self.inception.fc = nn.Identity()\n",
    "        self.inception.eval()\n",
    "        self.inception.to(device)\n",
    "        \n",
    "        for param in self.inception.parameters():\n",
    "            param.requires_grad = False\n",
    "    \n",
    "    def get_features(self, images):\n",
    "        \"\"\"Extract features from InceptionV3\"\"\"\n",
    "        images = nn.functional.interpolate(images, size=(299, 299), mode='bilinear', align_corners=False)\n",
    "        images = (images + 1) / 2\n",
    "        \n",
    "        if images.shape[1] == 1:\n",
    "            images = images.repeat(1, 3, 1, 1)\n",
    "        \n",
    "        with torch.no_grad():\n",
    "            features = self.inception(images)\n",
    "        \n",
    "        return features.cpu().numpy()\n",
    "    \n",
    "    def calculate_fid(self, real_images, fake_images):\n",
    "        \"\"\"Calculate FID score between real and generated images\"\"\"\n",
    "        real_features = self.get_features(real_images)\n",
    "        fake_features = self.get_features(fake_images)\n",
    "        \n",
    "        mu1, sigma1 = real_features.mean(axis=0), np.cov(real_features, rowvar=False)\n",
    "        mu2, sigma2 = fake_features.mean(axis=0), np.cov(fake_features, rowvar=False)\n",
    "        \n",
    "        ssdiff = np.sum((mu1 - mu2) ** 2.0)\n",
    "        covmean = linalg.sqrtm(sigma1.dot(sigma2))\n",
    "        \n",
    "        if np.iscomplexobj(covmean):\n",
    "            covmean = covmean.real\n",
    "        \n",
    "        fid = ssdiff + np.trace(sigma1 + sigma2 - 2.0 * covmean)\n",
    "        return fid\n",
    "\n",
    "class ISScore:\n",
    "    \"\"\"Inception Score calculator\"\"\"\n",
    "    def __init__(self, device):\n",
    "        self.device = device\n",
    "        self.inception = models.inception_v3(pretrained=True, transform_input=False)\n",
    "        self.inception.eval()\n",
    "        self.inception.to(device)\n",
    "        \n",
    "        for param in self.inception.parameters():\n",
    "            param.requires_grad = False\n",
    "    \n",
    "    def calculate_is(self, images, splits=10):\n",
    "        \"\"\"Calculate Inception Score\"\"\"\n",
    "        images = nn.functional.interpolate(images, size=(299, 299), mode='bilinear', align_corners=False)\n",
    "        images = (images + 1) / 2\n",
    "        \n",
    "        if images.shape[1] == 1:\n",
    "            images = images.repeat(1, 3, 1, 1)\n",
    "        \n",
    "        with torch.no_grad():\n",
    "            preds = nn.functional.softmax(self.inception(images), dim=1)\n",
    "        \n",
    "        preds = preds.cpu().numpy()\n",
    "        \n",
    "        scores = []\n",
    "        for i in range(splits):\n",
    "            part = preds[i * (len(preds) // splits): (i + 1) * (len(preds) // splits)]\n",
    "            py = np.mean(part, axis=0)\n",
    "            scores.append(np.exp(np.mean(np.sum(part * np.log(part + 1e-16) - part * np.log(py + 1e-16), axis=1))))\n",
    "        \n",
    "        return np.mean(scores), np.std(scores)\n",
    "\n",
    "class EvaluationMetrics:\n",
    "    \"\"\"Evaluation metrics for Pix2Pix models\"\"\"\n",
    "    \n",
    "    def __init__(self, device):\n",
    "        self.device = device\n",
    "        self.fid_calculator = FIDScore(device)\n",
    "        self.is_calculator = ISScore(device)\n",
    "    \n",
    "    def calculate_pixel_metrics(self, real_images, fake_images):\n",
    "        \"\"\"Calculate pixel-level metrics (MSE, MAE, PSNR, SSIM)\"\"\"\n",
    "        real_np = ((real_images + 1) / 2).cpu().numpy()\n",
    "        fake_np = ((fake_images + 1) / 2).cpu().numpy()\n",
    "        \n",
    "        metrics = {}\n",
    "        \n",
    "        metrics['mse'] = mean_squared_error(real_np.flatten(), fake_np.flatten())\n",
    "        metrics['mae'] = mean_absolute_error(real_np.flatten(), fake_np.flatten())\n",
    "        \n",
    "        psnr_scores = []\n",
    "        ssim_scores = []\n",
    "        \n",
    "        for i in range(real_np.shape[0]):\n",
    "            real_img = np.transpose(real_np[i], (1, 2, 0))\n",
    "            fake_img = np.transpose(fake_np[i], (1, 2, 0))\n",
    "            \n",
    "            # Handle grayscale images\n",
    "            if real_img.shape[-1] == 1:\n",
    "                real_img = real_img.squeeze(-1)\n",
    "                fake_img = fake_img.squeeze(-1)\n",
    "                multichannel = False\n",
    "            else:\n",
    "                multichannel = True\n",
    "            \n",
    "            # PSNR\n",
    "            psnr_score = psnr(real_img, fake_img, data_range=1.0)\n",
    "            psnr_scores.append(psnr_score)\n",
    "            \n",
    "            # SSIM with dynamic window size\n",
    "            min_dim = min(real_img.shape[:2])\n",
    "            if min_dim < 7:\n",
    "                win_size = min_dim if min_dim % 2 == 1 else min_dim - 1\n",
    "                win_size = max(3, win_size)  # Minimum window size of 3\n",
    "            else:\n",
    "                win_size = 7\n",
    "            \n",
    "            try:\n",
    "                if multichannel:\n",
    "                    ssim_score = ssim(real_img, fake_img, multichannel=True, data_range=1.0, win_size=win_size, channel_axis=2)\n",
    "                else:\n",
    "                    ssim_score = ssim(real_img, fake_img, data_range=1.0, win_size=win_size)\n",
    "                ssim_scores.append(ssim_score)\n",
    "            except Exception as e:\n",
    "                print(f\"SSIM calculation failed for image {i}: {e}\")\n",
    "                ssim_scores.append(0.0)\n",
    "        \n",
    "        metrics['psnr'] = np.mean(psnr_scores)\n",
    "        metrics['ssim'] = np.mean(ssim_scores)\n",
    "        \n",
    "        return metrics\n",
    "    \n",
    "    def calculate_perceptual_metrics(self, real_images, fake_images):\n",
    "        \"\"\"Calculate perceptual metrics (FID, IS)\"\"\"\n",
    "        metrics = {}\n",
    "        \n",
    "        try:\n",
    "            fid_score = self.fid_calculator.calculate_fid(real_images, fake_images)\n",
    "            metrics['fid'] = fid_score\n",
    "        except Exception as e:\n",
    "            print(f\"FID calculation failed: {e}\")\n",
    "            metrics['fid'] = float('inf')\n",
    "        \n",
    "        try:\n",
    "            is_mean, is_std = self.is_calculator.calculate_is(fake_images)\n",
    "            metrics['is_mean'] = is_mean\n",
    "            metrics['is_std'] = is_std\n",
    "        except Exception as e:\n",
    "            print(f\"IS calculation failed: {e}\")\n",
    "            metrics['is_mean'] = 1.0\n",
    "            metrics['is_std'] = 0.0\n",
    "        \n",
    "        return metrics\n",
    "    \n",
    "    def calculate_discriminator_accuracy(self, discriminator, real_images, fake_images, input_images):\n",
    "        \"\"\"Calculate discriminator accuracy on real vs fake classification\"\"\"\n",
    "        discriminator.eval()\n",
    "        \n",
    "        with torch.no_grad():\n",
    "            real_pred = discriminator(input_images, real_images)\n",
    "            real_acc = (torch.sigmoid(real_pred) > 0.5).float().mean().item()\n",
    "            \n",
    "            fake_pred = discriminator(input_images, fake_images)\n",
    "            fake_acc = (torch.sigmoid(fake_pred) < 0.5).float().mean().item()\n",
    "            \n",
    "            overall_acc = (real_acc + fake_acc) / 2\n",
    "        \n",
    "        return {\n",
    "            'real_accuracy': real_acc,\n",
    "            'fake_accuracy': fake_acc,\n",
    "            'overall_accuracy': overall_acc\n",
    "        }\n",
    "\n",
    "def evaluate_model(generator, discriminator, data_loader, device, max_batches=None):\n",
    "    \"\"\"Model evaluation\"\"\"\n",
    "    generator.eval()\n",
    "    discriminator.eval()\n",
    "    \n",
    "    evaluator = EvaluationMetrics(device)\n",
    "    \n",
    "    all_real = []\n",
    "    all_fake = []\n",
    "    all_input = []\n",
    "    \n",
    "    eval_batches = 0\n",
    "    for sketch, real_img in tqdm(data_loader, desc=\"Evaluating\"):\n",
    "        if max_batches and eval_batches >= max_batches:\n",
    "            break\n",
    "            \n",
    "        sketch = sketch.to(device)\n",
    "        real_img = real_img.to(device)\n",
    "        \n",
    "        with torch.no_grad():\n",
    "            fake_img = generator(sketch)\n",
    "        \n",
    "        all_input.append(sketch)\n",
    "        all_real.append(real_img)\n",
    "        all_fake.append(fake_img)\n",
    "        \n",
    "        eval_batches += 1\n",
    "    \n",
    "    all_input = torch.cat(all_input, dim=0)\n",
    "    all_real = torch.cat(all_real, dim=0)\n",
    "    all_fake = torch.cat(all_fake, dim=0)\n",
    "    \n",
    "    print(f\"Evaluating on {all_real.shape[0]} images\")\n",
    "    \n",
    "    results = {}\n",
    "    \n",
    "    print(\"Calculating pixel metrics...\")\n",
    "    pixel_metrics = evaluator.calculate_pixel_metrics(all_real, all_fake)\n",
    "    results.update(pixel_metrics)\n",
    "    \n",
    "    print(\"Calculating perceptual metrics...\")\n",
    "    perceptual_metrics = evaluator.calculate_perceptual_metrics(all_real, all_fake)\n",
    "    results.update(perceptual_metrics)\n",
    "    \n",
    "    print(\"Calculating discriminator accuracy...\")\n",
    "    disc_metrics = evaluator.calculate_discriminator_accuracy(\n",
    "        discriminator, all_real, all_fake, all_input\n",
    "    )\n",
    "    results.update(disc_metrics)\n",
    "    \n",
    "    generator.train()\n",
    "    discriminator.train()\n",
    "    \n",
    "    return results\n",
    "\n",
    "def benchmark_computational_cost(generator, device, input_size=(1, 3, 192, 192), num_runs=100):\n",
    "    \"\"\"Benchmark inference time and memory usage\"\"\"\n",
    "    generator.eval()\n",
    "    \n",
    "    dummy_input = torch.randn(input_size).to(device)\n",
    "    for _ in range(10):\n",
    "        with torch.no_grad():\n",
    "            _ = generator(dummy_input)\n",
    "    \n",
    "    torch.cuda.synchronize() if torch.cuda.is_available() else None\n",
    "    start_time = time.time()\n",
    "    \n",
    "    for _ in range(num_runs):\n",
    "        with torch.no_grad():\n",
    "            _ = generator(dummy_input)\n",
    "    \n",
    "    torch.cuda.synchronize() if torch.cuda.is_available() else None\n",
    "    end_time = time.time()\n",
    "    \n",
    "    avg_inference_time = (end_time - start_time) / num_runs * 1000\n",
    "    \n",
    "    if torch.cuda.is_available():\n",
    "        torch.cuda.reset_peak_memory_stats()\n",
    "        with torch.no_grad():\n",
    "            _ = generator(dummy_input)\n",
    "        peak_memory = torch.cuda.max_memory_allocated() / 1024**2\n",
    "    else:\n",
    "        peak_memory = 0\n",
    "    \n",
    "    generator.train()\n",
    "    \n",
    "    return {\n",
    "        'avg_inference_time_ms': avg_inference_time,\n",
    "        'peak_memory_mb': peak_memory,\n",
    "        'throughput_fps': 1000 / avg_inference_time\n",
    "    }\n",
    "\n",
    "def save_evaluation_results(results, config_name, save_dir):\n",
    "    \"\"\"Save evaluation results to CSV\"\"\"\n",
    "    results_with_config = results.copy()\n",
    "    results_with_config['configuration'] = config_name\n",
    "    results_with_config['timestamp'] = time.strftime(\"%Y-%m-%d %H:%M:%S\")\n",
    "    \n",
    "    csv_path = os.path.join(save_dir, f\"{config_name}_evaluation_results.csv\")\n",
    "    log_metrics(results_with_config, csv_path)\n",
    "    \n",
    "    return csv_path\n",
    "\n",
    "print(\"Available metrics:\")\n",
    "print(\"- Pixel-level: MSE, MAE, PSNR, SSIM\")\n",
    "print(\"- Perceptual: FID, Inception Score\") \n",
    "print(\"- Discriminator: Classification accuracy\")\n",
    "print(\"- Computational: Inference time, memory usage\")"
   ]
  },
  {
   "cell_type": "code",
   "execution_count": 15,
   "metadata": {},
   "outputs": [
    {
     "name": "stderr",
     "output_type": "stream",
     "text": [
      "Evaluating: 100%|██████████| 125/125 [00:19<00:00,  6.44it/s]\n"
     ]
    },
    {
     "name": "stdout",
     "output_type": "stream",
     "text": [
      "Evaluating on 2000 images\n",
      "Calculating pixel metrics...\n",
      "Calculating perceptual metrics...\n",
      "FID calculation failed: CUDA out of memory. Tried to allocate 10.30 GiB. GPU 0 has a total capacity of 21.96 GiB of which 743.06 MiB is free. Process 11704 has 21.23 GiB memory in use. Of the allocated memory 20.86 GiB is allocated by PyTorch, and 159.63 MiB is reserved by PyTorch but unallocated. If reserved but unallocated memory is large try setting PYTORCH_CUDA_ALLOC_CONF=expandable_segments:True to avoid fragmentation.  See documentation for Memory Management  (https://pytorch.org/docs/stable/notes/cuda.html#environment-variables)\n",
      "IS calculation failed: CUDA out of memory. Tried to allocate 5.29 GiB. GPU 0 has a total capacity of 21.96 GiB of which 2.73 GiB is free. Process 11704 has 19.23 GiB memory in use. Of the allocated memory 10.70 GiB is allocated by PyTorch, and 8.32 GiB is reserved by PyTorch but unallocated. If reserved but unallocated memory is large try setting PYTORCH_CUDA_ALLOC_CONF=expandable_segments:True to avoid fragmentation.  See documentation for Memory Management  (https://pytorch.org/docs/stable/notes/cuda.html#environment-variables)\n",
      "Calculating discriminator accuracy...\n"
     ]
    },
    {
     "name": "stderr",
     "output_type": "stream",
     "text": [
      "Evaluating:  13%|█▎        | 16/125 [00:03<00:21,  5.00it/s]\n"
     ]
    },
    {
     "name": "stdout",
     "output_type": "stream",
     "text": [
      "Evaluating on 256 images\n",
      "Calculating pixel metrics...\n",
      "Calculating perceptual metrics...\n",
      "Calculating discriminator accuracy...\n"
     ]
    },
    {
     "name": "stderr",
     "output_type": "stream",
     "text": [
      "Evaluating:  13%|█▎        | 16/125 [00:02<00:19,  5.59it/s]\n"
     ]
    },
    {
     "name": "stdout",
     "output_type": "stream",
     "text": [
      "Evaluating on 256 images\n",
      "Calculating pixel metrics...\n",
      "Calculating perceptual metrics...\n",
      "Calculating discriminator accuracy...\n"
     ]
    }
   ],
   "source": [
    "#std = evaluate_model(standard_history, standard_gen, data_loader, device, max_batches=None)\n",
    "standard_resultss = evaluate_model(standard_gen, standard_disc, val_loader, device, max_batches=None)\n",
    "perceptual_resultss = evaluate_model(perceptual_gen, perceptual_disc, val_loader, device, max_batches=16)\n",
    "regularized_resultss = evaluate_model(regularized_gen, regularized_disc, val_loader, device, max_batches=16)"
   ]
  },
  {
   "cell_type": "markdown",
   "metadata": {},
   "source": [
    "## **9. Quantitative Results Comparison**"
   ]
  },
  {
   "cell_type": "code",
   "execution_count": 16,
   "metadata": {},
   "outputs": [],
   "source": [
    "import pandas as pd\n",
    "import seaborn as sns\n",
    "from matplotlib.patches import Rectangle"
   ]
  },
  {
   "cell_type": "code",
   "execution_count": 17,
   "metadata": {},
   "outputs": [],
   "source": [
    "class QuantitativeAnalysis:\n",
    "    \"\"\"Quantitative analysis and comparison of training configurations\"\"\"\n",
    "    \n",
    "    def __init__(self):\n",
    "        self.configs = ['standard', 'perceptual', 'regularized']\n",
    "        self.results = {}\n",
    "        self.training_histories = {}\n",
    "    \n",
    "    def load_training_histories(self, histories_dict):\n",
    "        self.training_histories = histories_dict\n",
    "        print(\"Training histories loaded for configurations:\", list(histories_dict.keys()))\n",
    "    \n",
    "    def load_evaluation_results(self, results_dict):\n",
    "        self.results = results_dict\n",
    "        print(\"Evaluation results loaded for configurations:\", list(results_dict.keys()))\n",
    "    \n",
    "    def create_comparison_table(self):\n",
    "        if not self.results:\n",
    "            print(\"No evaluation results loaded. Run evaluations first.\")\n",
    "            return None\n",
    "        \n",
    "        # Metrics to compare\n",
    "        metrics = [\n",
    "            'mse', 'mae', 'psnr', 'ssim', 'fid', 'is_mean', \n",
    "            'overall_accuracy', 'avg_inference_time_ms', 'peak_memory_mb'\n",
    "        ]\n",
    "        \n",
    "        # Comparison DataFrame\n",
    "        comparison_data = []\n",
    "        \n",
    "        for config in self.configs:\n",
    "            if config in self.results:\n",
    "                row = {'Configuration': config.capitalize()}\n",
    "                for metric in metrics:\n",
    "                    if metric in self.results[config]:\n",
    "                        row[metric] = self.results[config][metric]\n",
    "                    else:\n",
    "                        row[metric] = 'N/A'\n",
    "                comparison_data.append(row)\n",
    "        \n",
    "        df = pd.DataFrame(comparison_data)\n",
    "        \n",
    "        # Format numerical columns\n",
    "        numeric_cols = ['mse', 'mae', 'psnr', 'ssim', 'fid', 'is_mean', \n",
    "                       'overall_accuracy', 'avg_inference_time_ms', 'peak_memory_mb']\n",
    "        \n",
    "        for col in numeric_cols:\n",
    "            if col in df.columns:\n",
    "                df[col] = pd.to_numeric(df[col], errors='coerce')\n",
    "        \n",
    "        return df\n",
    "    \n",
    "    def plot_training_curves(self, save_path=None):\n",
    "        if not self.training_histories:\n",
    "            print(\"No training histories loaded.\")\n",
    "            return\n",
    "        \n",
    "        fig, axes = plt.subplots(2, 3, figsize=(18, 12))\n",
    "        fig.suptitle('Training Curves Comparison', fontsize=16, fontweight='bold')\n",
    "        \n",
    "        # Generator Loss\n",
    "        ax = axes[0, 0]\n",
    "        for config, history in self.training_histories.items():\n",
    "            if 'gen_loss' in history:\n",
    "                epochs = range(1, len(history['gen_loss']) + 1)\n",
    "                ax.plot(epochs, history['gen_loss'], label=config.capitalize(), linewidth=2)\n",
    "        ax.set_title('Generator Loss')\n",
    "        ax.set_xlabel('Epoch')\n",
    "        ax.set_ylabel('Loss')\n",
    "        ax.legend()\n",
    "        ax.grid(True, alpha=0.3)\n",
    "        \n",
    "        # Discriminator Loss\n",
    "        ax = axes[0, 1]\n",
    "        for config, history in self.training_histories.items():\n",
    "            if 'disc_loss' in history:\n",
    "                epochs = range(1, len(history['disc_loss']) + 1)\n",
    "                ax.plot(epochs, history['disc_loss'], label=config.capitalize(), linewidth=2)\n",
    "        ax.set_title('Discriminator Loss')\n",
    "        ax.set_xlabel('Epoch')\n",
    "        ax.set_ylabel('Loss')\n",
    "        ax.legend()\n",
    "        ax.grid(True, alpha=0.3)\n",
    "        \n",
    "        # L1 Loss\n",
    "        ax = axes[0, 2]\n",
    "        for config, history in self.training_histories.items():\n",
    "            if 'l1_loss' in history:\n",
    "                epochs = range(1, len(history['l1_loss']) + 1)\n",
    "                ax.plot(epochs, history['l1_loss'], label=config.capitalize(), linewidth=2)\n",
    "        ax.set_title('L1 Reconstruction Loss')\n",
    "        ax.set_xlabel('Epoch')\n",
    "        ax.set_ylabel('Loss')\n",
    "        ax.legend()\n",
    "        ax.grid(True, alpha=0.3)\n",
    "        \n",
    "        # Validation Loss\n",
    "        ax = axes[1, 0]\n",
    "        for config, history in self.training_histories.items():\n",
    "            if 'val_gen_loss' in history:\n",
    "                epochs = range(1, len(history['val_gen_loss']) + 1)\n",
    "                ax.plot(epochs, history['val_gen_loss'], label=config.capitalize(), linewidth=2)\n",
    "        ax.set_title('Validation Generator Loss')\n",
    "        ax.set_xlabel('Epoch')\n",
    "        ax.set_ylabel('Loss')\n",
    "        ax.legend()\n",
    "        ax.grid(True, alpha=0.3)\n",
    "        \n",
    "        # Training Time per Epoch\n",
    "        ax = axes[1, 1]\n",
    "        for config, history in self.training_histories.items():\n",
    "            if 'epoch_times' in history:\n",
    "                epochs = range(1, len(history['epoch_times']) + 1)\n",
    "                ax.plot(epochs, history['epoch_times'], label=config.capitalize(), linewidth=2)\n",
    "        ax.set_title('Training Time per Epoch')\n",
    "        ax.set_xlabel('Epoch')\n",
    "        ax.set_ylabel('Time (seconds)')\n",
    "        ax.legend()\n",
    "        ax.grid(True, alpha=0.3)\n",
    "        \n",
    "        # GPU Memory Usage\n",
    "        ax = axes[1, 2]\n",
    "        for config, history in self.training_histories.items():\n",
    "            if 'gpu_memory' in history:\n",
    "                epochs = range(1, len(history['gpu_memory']) + 1)\n",
    "                ax.plot(epochs, history['gpu_memory'], label=config.capitalize(), linewidth=2)\n",
    "        ax.set_title('GPU Memory Usage')\n",
    "        ax.set_xlabel('Epoch')\n",
    "        ax.set_ylabel('Memory (GB)')\n",
    "        ax.legend()\n",
    "        ax.grid(True, alpha=0.3)\n",
    "        \n",
    "        plt.tight_layout()\n",
    "        \n",
    "        if save_path:\n",
    "            plt.savefig(save_path, dpi=300, bbox_inches='tight')\n",
    "            print(f\"Training curves saved to {save_path}\")\n",
    "        \n",
    "        plt.show()\n",
    "    \n",
    "    def plot_metrics_comparison(self, save_path=None):\n",
    "        if not self.results:\n",
    "            print(\"No evaluation results loaded.\")\n",
    "            return\n",
    "        \n",
    "        fig, axes = plt.subplots(2, 4, figsize=(20, 10))\n",
    "        fig.suptitle('Quantitative Metrics Comparison', fontsize=16, fontweight='bold')\n",
    "        \n",
    "        # Metrics to plot\n",
    "        metrics_info = [\n",
    "            ('psnr', 'PSNR (dB)', 'Higher is Better', True),\n",
    "            ('ssim', 'SSIM', 'Higher is Better', True),\n",
    "            ('fid', 'FID Score', 'Lower is Better', False),\n",
    "            ('is_mean', 'Inception Score', 'Higher is Better', True),\n",
    "            ('mse', 'MSE', 'Lower is Better', False),\n",
    "            ('mae', 'MAE', 'Lower is Better', False),\n",
    "            ('overall_accuracy', 'Discriminator Accuracy', 'Balanced is Better', True),\n",
    "            ('avg_inference_time_ms', 'Inference Time (ms)', 'Lower is Better', False)\n",
    "        ]\n",
    "        \n",
    "        colors = ['#3498db', '#e74c3c', '#2ecc71']\n",
    "        \n",
    "        for idx, (metric, title, desc, higher_better) in enumerate(metrics_info):\n",
    "            ax = axes[idx // 4, idx % 4]\n",
    "            \n",
    "            configs = []\n",
    "            values = []\n",
    "            \n",
    "            for config in self.configs:\n",
    "                if config in self.results and metric in self.results[config]:\n",
    "                    configs.append(config.capitalize())\n",
    "                    values.append(self.results[config][metric])\n",
    "            \n",
    "            if values:\n",
    "                bars = ax.bar(configs, values, color=colors[:len(configs)], alpha=0.7, edgecolor='black')\n",
    "                \n",
    "                # Highlight best performer\n",
    "                if higher_better:\n",
    "                    best_idx = np.argmax(values)\n",
    "                else:\n",
    "                    best_idx = np.argmin(values)\n",
    "                \n",
    "                bars[best_idx].set_alpha(1.0)\n",
    "                bars[best_idx].set_edgecolor('gold')\n",
    "                bars[best_idx].set_linewidth(3)\n",
    "                \n",
    "                # Value labels on bars\n",
    "                for bar, value in zip(bars, values):\n",
    "                    height = bar.get_height()\n",
    "                    ax.text(bar.get_x() + bar.get_width()/2., height,\n",
    "                           f'{value:.4f}', ha='center', va='bottom', fontweight='bold')\n",
    "            \n",
    "            ax.set_title(f'{title}\\n({desc})', fontsize=10, fontweight='bold')\n",
    "            ax.set_ylabel(title.split('(')[0].strip())\n",
    "            ax.grid(True, alpha=0.3)\n",
    "        \n",
    "        plt.tight_layout()\n",
    "        \n",
    "        if save_path:\n",
    "            plt.savefig(save_path, dpi=300, bbox_inches='tight')\n",
    "            print(f\"Metrics comparison saved to {save_path}\")\n",
    "        \n",
    "        plt.show()\n",
    "    \n",
    "    def create_performance_summary(self, save_path=None):\n",
    "        \"\"\"Create comprehensive performance summary table\"\"\"\n",
    "        if not self.results:\n",
    "            print(\"No evaluation results loaded.\")\n",
    "            return\n",
    "        \n",
    "        # Performance rankings\n",
    "        rankings = {}\n",
    "        \n",
    "        # Metrics where higher is better\n",
    "        higher_better = ['psnr', 'ssim', 'is_mean']\n",
    "        # Metrics where lower is better  \n",
    "        lower_better = ['mse', 'mae', 'fid', 'avg_inference_time_ms', 'peak_memory_mb']\n",
    "        \n",
    "        for metric in higher_better + lower_better:\n",
    "            metric_values = []\n",
    "            config_names = []\n",
    "            \n",
    "            for config in self.configs:\n",
    "                if config in self.results and metric in self.results[config]:\n",
    "                    metric_values.append(self.results[config][metric])\n",
    "                    config_names.append(config)\n",
    "            \n",
    "            if metric_values:\n",
    "                if metric in higher_better:\n",
    "                    # Rank from highest to lowest (best to worst)\n",
    "                    sorted_indices = np.argsort(metric_values)[::-1]\n",
    "                else:\n",
    "                    # Rank from lowest to highest (best to worst)\n",
    "                    sorted_indices = np.argsort(metric_values)\n",
    "                \n",
    "                rankings[metric] = {config_names[i]: rank + 1 for rank, i in enumerate(sorted_indices)}\n",
    "        \n",
    "        # Summary DataFrame\n",
    "        summary_data = []\n",
    "        \n",
    "        for config in self.configs:\n",
    "            if config not in self.results:\n",
    "                continue\n",
    "                \n",
    "            row = {\n",
    "                'Configuration': config.capitalize(),\n",
    "                'PSNR (↑)': f\"{self.results[config].get('psnr', 0):.2f} (#{rankings.get('psnr', {}).get(config, 'N/A')})\",\n",
    "                'SSIM (↑)': f\"{self.results[config].get('ssim', 0):.3f} (#{rankings.get('ssim', {}).get(config, 'N/A')})\",\n",
    "                'FID (↓)': f\"{self.results[config].get('fid', 0):.1f} (#{rankings.get('fid', {}).get(config, 'N/A')})\",\n",
    "                'IS (↑)': f\"{self.results[config].get('is_mean', 0):.2f} (#{rankings.get('is_mean', {}).get(config, 'N/A')})\",\n",
    "                'MSE (↓)': f\"{self.results[config].get('mse', 0):.4f} (#{rankings.get('mse', {}).get(config, 'N/A')})\",\n",
    "                'Inference (↓)': f\"{self.results[config].get('avg_inference_time_ms', 0):.1f}ms (#{rankings.get('avg_inference_time_ms', {}).get(config, 'N/A')})\",\n",
    "                'Memory (↓)': f\"{self.results[config].get('peak_memory_mb', 0):.0f}MB (#{rankings.get('peak_memory_mb', {}).get(config, 'N/A')})\"\n",
    "            }\n",
    "            \n",
    "            # Overall ranking (simple average)\n",
    "            config_rankings = [rankings.get(metric, {}).get(config, 3) \n",
    "                             for metric in ['psnr', 'ssim', 'fid', 'is_mean', 'mse']]\n",
    "            config_rankings = [r for r in config_rankings if isinstance(r, int)]\n",
    "            \n",
    "            if config_rankings:\n",
    "                avg_rank = np.mean(config_rankings)\n",
    "                row['Overall Rank'] = f\"#{avg_rank:.1f}\"\n",
    "            else:\n",
    "                row['Overall Rank'] = \"N/A\"\n",
    "            \n",
    "            summary_data.append(row)\n",
    "        \n",
    "        summary_df = pd.DataFrame(summary_data)\n",
    "        \n",
    "        if save_path:\n",
    "            summary_df.to_csv(save_path, index=False)\n",
    "            print(f\"Performance summary saved to {save_path}\")\n",
    "        \n",
    "        return summary_df\n",
    "\n",
    "def run_quantitative_analysis(histories, results):\n",
    "    print(\"=\" * 60)\n",
    "    print(\"QUANTITATIVE RESULTS COMPARISON\")\n",
    "    print(\"=\" * 60)\n",
    "    \n",
    "    analyzer = QuantitativeAnalysis()\n",
    "    analyzer.load_training_histories(histories)\n",
    "    analyzer.load_evaluation_results(results)\n",
    "    \n",
    "    # Create comparison table\n",
    "    comparison_df = analyzer.create_comparison_table()\n",
    "    if comparison_df is not None:\n",
    "        print(\"\\nComparison Table:\")\n",
    "        print(comparison_df.to_string(index=False))\n",
    "        \n",
    "        # Save comparison table\n",
    "        table_path = os.path.join(Config.SUMMARY_CSV_DIR, \"metrics_comparison_table.csv\")\n",
    "        comparison_df.to_csv(table_path, index=False)\n",
    "        print(f\"\\nComparison table saved to {table_path}\")\n",
    "    \n",
    "    # Plot training curves\n",
    "    curves_path = os.path.join(Config.SUMMARY_IMG_DIR, \"training_curves_comparison.png\")\n",
    "    analyzer.plot_training_curves(save_path=curves_path)\n",
    "    \n",
    "    # Plot metrics comparison\n",
    "    metrics_path = os.path.join(Config.SUMMARY_IMG_DIR, \"metrics_comparison.png\")\n",
    "    analyzer.plot_metrics_comparison(save_path=metrics_path)\n",
    "    \n",
    "    # Create performance summary\n",
    "    summary_df = analyzer.create_performance_summary(\n",
    "        save_path=os.path.join(Config.SUMMARY_CSV_DIR, \"performance_summary.csv\")\n",
    "    )\n",
    "    \n",
    "    if summary_df is not None:\n",
    "        print(\"\\nPerformance Summary (with rankings):\")\n",
    "        print(summary_df.to_string(index=False))\n",
    "    \n",
    "    print(\"\\nQuantitative analysis completed\")\n",
    "    print(f\"Results saved to {Config.SUMMARY_IMG_DIR} and {Config.SUMMARY_CSV_DIR}\")\n",
    "    \n",
    "    return analyzer"
   ]
  },
  {
   "cell_type": "code",
   "execution_count": 19,
   "metadata": {},
   "outputs": [
    {
     "name": "stdout",
     "output_type": "stream",
     "text": [
      "============================================================\n",
      "QUANTITATIVE RESULTS COMPARISON\n",
      "============================================================\n",
      "Training histories loaded for configurations: ['standard', 'perceptual', 'regularized']\n",
      "Evaluation results loaded for configurations: ['standard', 'perceptual', 'regularized']\n",
      "\n",
      "Comparison Table:\n",
      "Configuration      mse      mae      psnr     ssim        fid  is_mean  overall_accuracy  avg_inference_time_ms  peak_memory_mb\n",
      "     Standard 0.037110 0.106340 14.996679 0.632932        inf 1.000000          0.524881                    NaN             NaN\n",
      "   Perceptual 0.042628 0.102662 14.568606 0.649857 110.946639 3.063466          0.579400                    NaN             NaN\n",
      "  Regularized 0.042019 0.102101 14.608616 0.649463 137.992388 3.197546          0.528215                    NaN             NaN\n",
      "\n",
      "Comparison table saved to results/summary/csv/metrics_comparison_table.csv\n"
     ]
    },
    {
     "ename": "TypeError",
     "evalue": "argument of type 'NoneType' is not iterable",
     "output_type": "error",
     "traceback": [
      "\u001b[0;31m---------------------------------------------------------------------------\u001b[0m",
      "\u001b[0;31mTypeError\u001b[0m                                 Traceback (most recent call last)",
      "Cell \u001b[0;32mIn[19], line 11\u001b[0m\n\u001b[1;32m      1\u001b[0m histories \u001b[38;5;241m=\u001b[39m {\n\u001b[1;32m      2\u001b[0m     \u001b[38;5;124m'\u001b[39m\u001b[38;5;124mstandard\u001b[39m\u001b[38;5;124m'\u001b[39m: standard_history,\n\u001b[1;32m      3\u001b[0m     \u001b[38;5;124m'\u001b[39m\u001b[38;5;124mperceptual\u001b[39m\u001b[38;5;124m'\u001b[39m: perceptual_history, \n\u001b[1;32m      4\u001b[0m     \u001b[38;5;124m'\u001b[39m\u001b[38;5;124mregularized\u001b[39m\u001b[38;5;124m'\u001b[39m: regularized_history\n\u001b[1;32m      5\u001b[0m     }\n\u001b[1;32m      6\u001b[0m results \u001b[38;5;241m=\u001b[39m {\n\u001b[1;32m      7\u001b[0m     \u001b[38;5;124m'\u001b[39m\u001b[38;5;124mstandard\u001b[39m\u001b[38;5;124m'\u001b[39m: standard_resultss,\n\u001b[1;32m      8\u001b[0m     \u001b[38;5;124m'\u001b[39m\u001b[38;5;124mperceptual\u001b[39m\u001b[38;5;124m'\u001b[39m: perceptual_resultss,\n\u001b[1;32m      9\u001b[0m     \u001b[38;5;124m'\u001b[39m\u001b[38;5;124mregularized\u001b[39m\u001b[38;5;124m'\u001b[39m: regularized_resultss  \n\u001b[1;32m     10\u001b[0m     }\n\u001b[0;32m---> 11\u001b[0m analyzerr \u001b[38;5;241m=\u001b[39m \u001b[43mrun_quantitative_analysis\u001b[49m\u001b[43m(\u001b[49m\u001b[43mhistories\u001b[49m\u001b[43m,\u001b[49m\u001b[43m \u001b[49m\u001b[43mresults\u001b[49m\u001b[43m)\u001b[49m\n",
      "Cell \u001b[0;32mIn[17], line 299\u001b[0m, in \u001b[0;36mrun_quantitative_analysis\u001b[0;34m(histories, results)\u001b[0m\n\u001b[1;32m    297\u001b[0m \u001b[38;5;66;03m# Plot training curves\u001b[39;00m\n\u001b[1;32m    298\u001b[0m curves_path \u001b[38;5;241m=\u001b[39m os\u001b[38;5;241m.\u001b[39mpath\u001b[38;5;241m.\u001b[39mjoin(Config\u001b[38;5;241m.\u001b[39mSUMMARY_IMG_DIR, \u001b[38;5;124m\"\u001b[39m\u001b[38;5;124mtraining_curves_comparison.png\u001b[39m\u001b[38;5;124m\"\u001b[39m)\n\u001b[0;32m--> 299\u001b[0m \u001b[43manalyzer\u001b[49m\u001b[38;5;241;43m.\u001b[39;49m\u001b[43mplot_training_curves\u001b[49m\u001b[43m(\u001b[49m\u001b[43msave_path\u001b[49m\u001b[38;5;241;43m=\u001b[39;49m\u001b[43mcurves_path\u001b[49m\u001b[43m)\u001b[49m\n\u001b[1;32m    301\u001b[0m \u001b[38;5;66;03m# Plot metrics comparison\u001b[39;00m\n\u001b[1;32m    302\u001b[0m metrics_path \u001b[38;5;241m=\u001b[39m os\u001b[38;5;241m.\u001b[39mpath\u001b[38;5;241m.\u001b[39mjoin(Config\u001b[38;5;241m.\u001b[39mSUMMARY_IMG_DIR, \u001b[38;5;124m\"\u001b[39m\u001b[38;5;124mmetrics_comparison.png\u001b[39m\u001b[38;5;124m\"\u001b[39m)\n",
      "Cell \u001b[0;32mIn[17], line 64\u001b[0m, in \u001b[0;36mQuantitativeAnalysis.plot_training_curves\u001b[0;34m(self, save_path)\u001b[0m\n\u001b[1;32m     62\u001b[0m ax \u001b[38;5;241m=\u001b[39m axes[\u001b[38;5;241m0\u001b[39m, \u001b[38;5;241m0\u001b[39m]\n\u001b[1;32m     63\u001b[0m \u001b[38;5;28;01mfor\u001b[39;00m config, history \u001b[38;5;129;01min\u001b[39;00m \u001b[38;5;28mself\u001b[39m\u001b[38;5;241m.\u001b[39mtraining_histories\u001b[38;5;241m.\u001b[39mitems():\n\u001b[0;32m---> 64\u001b[0m     \u001b[38;5;28;01mif\u001b[39;00m \u001b[38;5;124;43m'\u001b[39;49m\u001b[38;5;124;43mgen_loss\u001b[39;49m\u001b[38;5;124;43m'\u001b[39;49m\u001b[43m \u001b[49m\u001b[38;5;129;43;01min\u001b[39;49;00m\u001b[43m \u001b[49m\u001b[43mhistory\u001b[49m:\n\u001b[1;32m     65\u001b[0m         epochs \u001b[38;5;241m=\u001b[39m \u001b[38;5;28mrange\u001b[39m(\u001b[38;5;241m1\u001b[39m, \u001b[38;5;28mlen\u001b[39m(history[\u001b[38;5;124m'\u001b[39m\u001b[38;5;124mgen_loss\u001b[39m\u001b[38;5;124m'\u001b[39m]) \u001b[38;5;241m+\u001b[39m \u001b[38;5;241m1\u001b[39m)\n\u001b[1;32m     66\u001b[0m         ax\u001b[38;5;241m.\u001b[39mplot(epochs, history[\u001b[38;5;124m'\u001b[39m\u001b[38;5;124mgen_loss\u001b[39m\u001b[38;5;124m'\u001b[39m], label\u001b[38;5;241m=\u001b[39mconfig\u001b[38;5;241m.\u001b[39mcapitalize(), linewidth\u001b[38;5;241m=\u001b[39m\u001b[38;5;241m2\u001b[39m)\n",
      "\u001b[0;31mTypeError\u001b[0m: argument of type 'NoneType' is not iterable"
     ]
    },
    {
     "data": {
      "image/png": "[encoded data removed]",
      "text/plain": [
       "<Figure size 1800x1200 with 6 Axes>"
      ]
     },
     "metadata": {},
     "output_type": "display_data"
    }
   ],
   "source": [
    "histories = {\n",
    "    'standard': standard_history,\n",
    "    'perceptual': perceptual_history, \n",
    "    'regularized': regularized_history\n",
    "    }\n",
    "results = {\n",
    "    'standard': standard_resultss,\n",
    "    'perceptual': perceptual_resultss,\n",
    "    'regularized': regularized_resultss  \n",
    "    }\n",
    "analyzer = run_quantitative_analysis(histories, results)"
   ]
  },
  {
   "cell_type": "markdown",
   "metadata": {},
   "source": [
    "## **10. Qualitative Visual Analysis**"
   ]
  },
  {
   "cell_type": "code",
   "execution_count": null,
   "metadata": {},
   "outputs": [],
   "source": [
    "from PIL import Image, ImageDraw, ImageFont\n",
    "import matplotlib.patches as mpatches\n",
    "\n",
    "class QualitativeAnalysis:    \n",
    "    def __init__(self, device):\n",
    "        self.device = device\n",
    "        self.configs = ['standard', 'perceptual', 'regularized']\n",
    "        self.generators = {}\n",
    "    \n",
    "    def load_generators(self, generators_dict):\n",
    "        self.generators = generators_dict\n",
    "        print(f\"Loaded generators for configurations: {list(generators_dict.keys())}\")\n",
    "    \n",
    "    def generate_comparison_samples(self, data_loader, num_samples=8, save_path=None):\n",
    "        if not self.generators:\n",
    "            print(\"No generators loaded. Load generators first.\")\n",
    "            return\n",
    "        \n",
    "        # Set all generators to eval mode\n",
    "        for gen in self.generators.values():\n",
    "            gen.eval()\n",
    "        \n",
    "        # Get sample data\n",
    "        sample_sketches = []\n",
    "        sample_targets = []\n",
    "        \n",
    "        for i, (sketch, target) in enumerate(data_loader):\n",
    "            if i >= num_samples:\n",
    "                break\n",
    "            sample_sketches.append(sketch[0:1]) \n",
    "            sample_targets.append(target[0:1])\n",
    "        \n",
    "        if len(sample_sketches) < num_samples:\n",
    "            num_samples = len(sample_sketches)\n",
    "            print(f\"Only {num_samples} samples available\")\n",
    "        \n",
    "        # Generate images from each configuration\n",
    "        generated_images = {config: [] for config in self.generators.keys()}\n",
    "        \n",
    "        with torch.no_grad():\n",
    "            for i in range(num_samples):\n",
    "                sketch = sample_sketches[i].to(self.device)\n",
    "                \n",
    "                for config, generator in self.generators.items():\n",
    "                    fake_img = generator(sketch)\n",
    "                    generated_images[config].append(fake_img)\n",
    "        \n",
    "        # Create comparison grid\n",
    "        fig_width = (len(self.generators) + 2) * 4 \n",
    "        fig_height = num_samples * 3\n",
    "        \n",
    "        fig, axes = plt.subplots(num_samples, len(self.generators) + 2, \n",
    "                                figsize=(fig_width, fig_height))\n",
    "        \n",
    "        if num_samples == 1:\n",
    "            axes = axes.reshape(1, -1)\n",
    "        \n",
    "        # Column headers\n",
    "        col_headers = ['Sketch', 'Target'] + [config.capitalize() for config in self.generators.keys()]\n",
    "        \n",
    "        for sample_idx in range(num_samples):\n",
    "            # Sketch\n",
    "            sketch_img = denormalize(sample_sketches[sample_idx][0]).cpu()\n",
    "            axes[sample_idx, 0].imshow(sketch_img.permute(1, 2, 0))\n",
    "            axes[sample_idx, 0].axis('off')\n",
    "            if sample_idx == 0:\n",
    "                axes[sample_idx, 0].set_title('Sketch', fontsize=14, fontweight='bold')\n",
    "            \n",
    "            # Target\n",
    "            target_img = denormalize(sample_targets[sample_idx][0]).cpu()\n",
    "            axes[sample_idx, 1].imshow(target_img.permute(1, 2, 0))\n",
    "            axes[sample_idx, 1].axis('off')\n",
    "            if sample_idx == 0:\n",
    "                axes[sample_idx, 1].set_title('Target', fontsize=14, fontweight='bold')\n",
    "            \n",
    "            # Generated images\n",
    "            for config_idx, config in enumerate(self.generators.keys()):\n",
    "                gen_img = denormalize(generated_images[config][sample_idx][0]).cpu()\n",
    "                axes[sample_idx, config_idx + 2].imshow(gen_img.permute(1, 2, 0))\n",
    "                axes[sample_idx, config_idx + 2].axis('off')\n",
    "                if sample_idx == 0:\n",
    "                    axes[sample_idx, config_idx + 2].set_title(config.capitalize(), \n",
    "                                                             fontsize=14, fontweight='bold')\n",
    "        \n",
    "        plt.suptitle('Qualitative Comparison: Sketch Colorization Results', \n",
    "                     fontsize=16, fontweight='bold', y=0.98)\n",
    "        plt.tight_layout()\n",
    "        \n",
    "        if save_path:\n",
    "            plt.savefig(save_path, dpi=300, bbox_inches='tight')\n",
    "            print(f\"Comparison samples saved to {save_path}\")\n",
    "        \n",
    "        plt.show()\n",
    "        \n",
    "        # Reset generators to train mode\n",
    "        for gen in self.generators.values():\n",
    "            gen.train()\n",
    "    \n",
    "    def analyze_visual_quality_aspects(self, data_loader, num_samples=4, save_path=None):\n",
    "        \"\"\"Detailed analysis of specific visual quality aspects\"\"\"\n",
    "        if not self.generators:\n",
    "            print(\"No generators loaded.\")\n",
    "            return\n",
    "        \n",
    "        # Set generators to eval mode\n",
    "        for gen in self.generators.values():\n",
    "            gen.eval()\n",
    "        \n",
    "        # Get samples with different characteristics\n",
    "        sample_data = []\n",
    "        sample_count = 0\n",
    "        \n",
    "        for sketch, target in data_loader:\n",
    "            if sample_count >= num_samples:\n",
    "                break\n",
    "            sample_data.append((sketch[0:1].to(self.device), target[0:1].to(self.device)))\n",
    "            sample_count += 1\n",
    "        \n",
    "        # Analyze different aspects\n",
    "        aspects = ['Color Accuracy', 'Texture Detail', 'Edge Sharpness', 'Overall Coherence']\n",
    "        \n",
    "        fig, axes = plt.subplots(len(aspects), len(self.generators) + 2, \n",
    "                                figsize=(16, len(aspects) * 4))\n",
    "        \n",
    "        for aspect_idx, aspect in enumerate(aspects):\n",
    "            sample_idx = aspect_idx % len(sample_data) \n",
    "            sketch, target = sample_data[sample_idx]\n",
    "            \n",
    "            # Sketch\n",
    "            sketch_img = denormalize(sketch[0]).cpu()\n",
    "            axes[aspect_idx, 0].imshow(sketch_img.permute(1, 2, 0))\n",
    "            axes[aspect_idx, 0].axis('off')\n",
    "            axes[aspect_idx, 0].set_title('Sketch', fontweight='bold')\n",
    "            \n",
    "            # Target\n",
    "            target_img = denormalize(target[0]).cpu()\n",
    "            axes[aspect_idx, 1].imshow(target_img.permute(1, 2, 0))\n",
    "            axes[aspect_idx, 1].axis('off')\n",
    "            axes[aspect_idx, 1].set_title('Target', fontweight='bold')\n",
    "            \n",
    "            # Generated images with aspect focus\n",
    "            with torch.no_grad():\n",
    "                for config_idx, (config, generator) in enumerate(self.generators.items()):\n",
    "                    fake_img = generator(sketch)\n",
    "                    gen_img = denormalize(fake_img[0]).cpu()\n",
    "                    \n",
    "                    axes[aspect_idx, config_idx + 2].imshow(gen_img.permute(1, 2, 0))\n",
    "                    axes[aspect_idx, config_idx + 2].axis('off')\n",
    "                    axes[aspect_idx, config_idx + 2].set_title(f'{config.capitalize()}\\n({aspect})', \n",
    "                                                             fontweight='bold')\n",
    "        \n",
    "        plt.suptitle('Visual Quality Aspects Analysis', fontsize=16, fontweight='bold')\n",
    "        plt.tight_layout()\n",
    "        \n",
    "        if save_path:\n",
    "            plt.savefig(save_path, dpi=300, bbox_inches='tight')\n",
    "            print(f\"Visual quality analysis saved to {save_path}\")\n",
    "        \n",
    "        plt.show()\n",
    "        \n",
    "        # Reset generators\n",
    "        for gen in self.generators.values():\n",
    "            gen.train()\n",
    "    \n",
    "    def create_failure_case_analysis(self, data_loader, save_path=None):\n",
    "        if not self.generators:\n",
    "            print(\"No generators loaded.\")\n",
    "            return\n",
    "        \n",
    "        for gen in self.generators.values():\n",
    "            gen.eval()\n",
    "        \n",
    "        challenging_samples = []\n",
    "        sample_count = 0\n",
    "        \n",
    "        # Look for samples with high complexity (many details, complex poses, etc)\n",
    "        for sketch, target in data_loader:\n",
    "            if sample_count >= 6:  # Get 6 challenging samples\n",
    "                break\n",
    "            challenging_samples.append((sketch[0:1].to(self.device), target[0:1].to(self.device)))\n",
    "            sample_count += 1\n",
    "        \n",
    "        fig, axes = plt.subplots(len(challenging_samples), len(self.generators) + 2, \n",
    "                                figsize=(16, len(challenging_samples) * 3))\n",
    "        \n",
    "        failure_analysis = {config: [] for config in self.generators.keys()}\n",
    "        \n",
    "        for sample_idx, (sketch, target) in enumerate(challenging_samples):\n",
    "            # Sketch\n",
    "            sketch_img = denormalize(sketch[0]).cpu()\n",
    "            axes[sample_idx, 0].imshow(sketch_img.permute(1, 2, 0))\n",
    "            axes[sample_idx, 0].axis('off')\n",
    "            if sample_idx == 0:\n",
    "                axes[sample_idx, 0].set_title('Challenging\\nSketch', fontweight='bold')\n",
    "            \n",
    "            # Target\n",
    "            target_img = denormalize(target[0]).cpu()\n",
    "            axes[sample_idx, 1].imshow(target_img.permute(1, 2, 0))\n",
    "            axes[sample_idx, 1].axis('off')\n",
    "            if sample_idx == 0:\n",
    "                axes[sample_idx, 1].set_title('Ground Truth\\nTarget', fontweight='bold')\n",
    "            \n",
    "            # Generated images\n",
    "            with torch.no_grad():\n",
    "                for config_idx, (config, generator) in enumerate(self.generators.items()):\n",
    "                    fake_img = generator(sketch)\n",
    "                    gen_img = denormalize(fake_img[0]).cpu()\n",
    "                    \n",
    "                    axes[sample_idx, config_idx + 2].imshow(gen_img.permute(1, 2, 0))\n",
    "                    axes[sample_idx, config_idx + 2].axis('off')\n",
    "                    if sample_idx == 0:\n",
    "                        axes[sample_idx, config_idx + 2].set_title(f'{config.capitalize()}\\nResult', \n",
    "                                                                 fontweight='bold')\n",
    "                    \n",
    "                    # Calculate L1 distance as a proxy for quality\n",
    "                    l1_dist = torch.mean(torch.abs(fake_img - target)).item()\n",
    "                    failure_analysis[config].append(l1_dist)\n",
    "        \n",
    "        plt.suptitle('Failure Case Analysis: Challenging Scenarios', \n",
    "                     fontsize=16, fontweight='bold')\n",
    "        plt.tight_layout()\n",
    "        \n",
    "        if save_path:\n",
    "            plt.savefig(save_path, dpi=300, bbox_inches='tight')\n",
    "            print(f\"Failure case analysis saved to {save_path}\")\n",
    "        \n",
    "        plt.show()\n",
    "        \n",
    "        print(\"\\nFailure Case Analysis Summary:\")\n",
    "        print(\"Average L1 distance on challenging samples:\")\n",
    "        for config, distances in failure_analysis.items():\n",
    "            avg_dist = np.mean(distances)\n",
    "            print(f\"  {config.capitalize()}: {avg_dist:.4f}\")\n",
    "        \n",
    "        # Reset generators\n",
    "        for gen in self.generators.values():\n",
    "            gen.train()\n",
    "        \n",
    "        return failure_analysis\n",
    "    \n",
    "    def create_best_results_showcase(self, data_loader, num_showcase=6, save_path=None):\n",
    "        if not self.generators:\n",
    "            print(\"No generators loaded.\")\n",
    "            return\n",
    "        \n",
    "        for gen in self.generators.values():\n",
    "            gen.eval()\n",
    "        \n",
    "        # Generate multiple samples and select\n",
    "        showcase_samples = []\n",
    "        sample_count = 0\n",
    "        \n",
    "        for sketch, target in data_loader:\n",
    "            if sample_count >= num_showcase:\n",
    "                break\n",
    "            showcase_samples.append((sketch[0:1].to(self.device), target[0:1].to(self.device)))\n",
    "            sample_count += 1\n",
    "        \n",
    "        # Create showcase grid\n",
    "        fig, axes = plt.subplots(len(self.generators), num_showcase, \n",
    "                                figsize=(num_showcase * 3, len(self.generators) * 3))\n",
    "        \n",
    "        if len(self.generators) == 1:\n",
    "            axes = axes.reshape(1, -1)\n",
    "        \n",
    "        with torch.no_grad():\n",
    "            for config_idx, (config, generator) in enumerate(self.generators.items()):\n",
    "                for sample_idx, (sketch, target) in enumerate(showcase_samples):\n",
    "                    fake_img = generator(sketch)\n",
    "                    gen_img = denormalize(fake_img[0]).cpu()\n",
    "                    \n",
    "                    axes[config_idx, sample_idx].imshow(gen_img.permute(1, 2, 0))\n",
    "                    axes[config_idx, sample_idx].axis('off')\n",
    "                    \n",
    "                    if sample_idx == 0:\n",
    "                        axes[config_idx, sample_idx].set_ylabel(f'{config.capitalize()}\\nBest Results', \n",
    "                                                               fontsize=12, fontweight='bold')\n",
    "        \n",
    "        plt.suptitle('Best Results Showcase', fontsize=16, fontweight='bold')\n",
    "        plt.tight_layout()\n",
    "        \n",
    "        if save_path:\n",
    "            plt.savefig(save_path, dpi=300, bbox_inches='tight')\n",
    "            print(f\"Best results showcase saved to {save_path}\")\n",
    "        \n",
    "        plt.show()\n",
    "        \n",
    "        # Reset generators\n",
    "        for gen in self.generators.values():\n",
    "            gen.train()\n",
    "\n",
    "def run_qualitative_analysis(generators_dict, val_loader):\n",
    "    print(\"=\" * 60)\n",
    "    print(\"QUALITATIVE VISUAL ANALYSIS\")\n",
    "    print(\"=\" * 60)\n",
    "    \n",
    "    analyzer = QualitativeAnalysis(Config.DEVICE)\n",
    "    analyzer.load_generators(generators_dict)\n",
    "    \n",
    "    # Generate comparison samples\n",
    "    comparison_path = os.path.join(Config.SUMMARY_IMG_DIR, \"qualitative_comparison.png\")\n",
    "    analyzer.generate_comparison_samples(val_loader, num_samples=8, save_path=comparison_path)\n",
    "    \n",
    "    # Analyze visual quality aspects\n",
    "    aspects_path = os.path.join(Config.SUMMARY_IMG_DIR, \"visual_quality_aspects.png\")\n",
    "    analyzer.analyze_visual_quality_aspects(val_loader, num_samples=4, save_path=aspects_path)\n",
    "    \n",
    "    # Failure case analysis\n",
    "    failure_path = os.path.join(Config.SUMMARY_IMG_DIR, \"failure_case_analysis.png\")\n",
    "    failure_analysis = analyzer.create_failure_case_analysis(val_loader, save_path=failure_path)\n",
    "    \n",
    "    # Best results showcase\n",
    "    showcase_path = os.path.join(Config.SUMMARY_IMG_DIR, \"best_results_showcase.png\")\n",
    "    analyzer.create_best_results_showcase(val_loader, num_showcase=6, save_path=showcase_path)\n",
    "    \n",
    "    print(\"\\nQualitative analysis completed\")\n",
    "    print(f\"Visual analysis results saved to {Config.SUMMARY_IMG_DIR}\")\n",
    "    \n",
    "    return analyzer, failure_analysis"
   ]
  },
  {
   "cell_type": "code",
   "execution_count": null,
   "metadata": {},
   "outputs": [],
   "source": [
    "generators_dict = {\n",
    "    'standard': standard_gen,     \n",
    "    'perceptual': perceptual_gen,  \n",
    "    'regularized': regularized_gen\n",
    "}\n",
    "\n",
    "qualitative_analyzer, failure_analysis = run_qualitative_analysis(generators_dict, val_loader)"
   ]
  },
  {
   "cell_type": "markdown",
   "metadata": {},
   "source": [
    "## **11. Training Stability Analysis**"
   ]
  },
  {
   "cell_type": "code",
   "execution_count": null,
   "metadata": {},
   "outputs": [],
   "source": [
    "from scipy.signal import savgol_filter\n",
    "from sklearn.linear_model import LinearRegression\n",
    "\n",
    "class TrainingStabilityAnalyzer:    \n",
    "    def __init__(self):\n",
    "        self.histories = {}\n",
    "        self.stability_metrics = {}\n",
    "    \n",
    "    def load_training_histories(self, histories_dict):\n",
    "        self.histories = histories_dict\n",
    "        print(f\"Loaded training histories for: {list(histories_dict.keys())}\")\n",
    "    \n",
    "    def calculate_loss_variance(self, loss_values, window_size=10):\n",
    "        if len(loss_values) < window_size:\n",
    "            return np.var(loss_values)\n",
    "        \n",
    "        variances = []\n",
    "        for i in range(len(loss_values) - window_size + 1):\n",
    "            window = loss_values[i:i + window_size]\n",
    "            variances.append(np.var(window))\n",
    "        \n",
    "        return np.mean(variances)\n",
    "    \n",
    "    def calculate_convergence_rate(self, loss_values):\n",
    "        if len(loss_values) < 10:\n",
    "            return 0.0\n",
    "        \n",
    "        # Smooth the losses to reduce noise\n",
    "        smoothed = savgol_filter(loss_values, min(21, len(loss_values)//2*2+1), 3)\n",
    "        \n",
    "        # Fit linear regression\n",
    "        epochs = np.arange(len(smoothed)).reshape(-1, 1)\n",
    "        reg = LinearRegression().fit(epochs, smoothed)\n",
    "        \n",
    "        return abs(reg.coef_[0])\n",
    "    \n",
    "    def detect_mode_collapse(self, gen_losses, disc_losses, threshold=0.1):\n",
    "        if len(gen_losses) < 20:\n",
    "            return False, 0.0\n",
    "        \n",
    "        gen_smooth = savgol_filter(gen_losses, min(11, len(gen_losses)//2*2+1), 3)\n",
    "        disc_smooth = savgol_filter(disc_losses, min(11, len(disc_losses)//2*2+1), 3)\n",
    "        \n",
    "        # Calculate derivatives\n",
    "        gen_diff = np.diff(gen_smooth)\n",
    "        disc_diff = np.diff(disc_smooth)\n",
    "        \n",
    "        # Count periods where gen increases and disc decreases simultaneously\n",
    "        collapse_periods = np.sum((gen_diff > threshold) & (disc_diff < -threshold))\n",
    "        collapse_ratio = collapse_periods / len(gen_diff)\n",
    "        \n",
    "        return collapse_ratio > 0.1, collapse_ratio\n",
    "    \n",
    "    def calculate_training_oscillations(self, loss_values):\n",
    "        if len(loss_values) < 50:\n",
    "            return 0.0\n",
    "        \n",
    "        # Remove trend\n",
    "        detrended = loss_values - savgol_filter(loss_values, min(21, len(loss_values)//2*2+1), 3)\n",
    "        \n",
    "        # Calculate standard deviation of detrended signal\n",
    "        oscillation_magnitude = np.std(detrended)\n",
    "        \n",
    "        return oscillation_magnitude\n",
    "    \n",
    "    def analyze_stability_metrics(self):\n",
    "        self.stability_metrics = {}\n",
    "        \n",
    "        for config, history in self.histories.items():\n",
    "            metrics = {}\n",
    "            \n",
    "            # Extract loss histories\n",
    "            gen_losses = history.get('gen_loss', [])\n",
    "            disc_losses = history.get('disc_loss', [])\n",
    "            val_losses = history.get('val_gen_loss', [])\n",
    "            \n",
    "            if not gen_losses or not disc_losses:\n",
    "                print(f\"Warning: Missing loss data for {config}\")\n",
    "                continue\n",
    "            \n",
    "            # Loss variance (stability)\n",
    "            metrics['gen_loss_variance'] = self.calculate_loss_variance(gen_losses)\n",
    "            metrics['disc_loss_variance'] = self.calculate_loss_variance(disc_losses)\n",
    "            \n",
    "            # Convergence rates\n",
    "            metrics['gen_convergence_rate'] = self.calculate_convergence_rate(gen_losses)\n",
    "            metrics['disc_convergence_rate'] = self.calculate_convergence_rate(disc_losses)\n",
    "            \n",
    "            # Mode collapse detection\n",
    "            collapse_detected, collapse_ratio = self.detect_mode_collapse(gen_losses, disc_losses)\n",
    "            metrics['mode_collapse_detected'] = collapse_detected\n",
    "            metrics['mode_collapse_ratio'] = collapse_ratio\n",
    "            \n",
    "            # Training oscillations\n",
    "            metrics['gen_oscillations'] = self.calculate_training_oscillations(gen_losses)\n",
    "            metrics['disc_oscillations'] = self.calculate_training_oscillations(disc_losses)\n",
    "            \n",
    "            # Validation stability\n",
    "            if val_losses:\n",
    "                metrics['val_loss_variance'] = self.calculate_loss_variance(val_losses)\n",
    "                \n",
    "                # Overfitting detection (validation loss trend vs training loss trend)\n",
    "                train_trend = self.calculate_convergence_rate(gen_losses[-len(val_losses):])\n",
    "                val_trend = -self.calculate_convergence_rate(val_losses)  # Negative because we want decreasing\n",
    "                metrics['overfitting_indicator'] = val_trend - train_trend\n",
    "            \n",
    "            # Final loss values\n",
    "            metrics['final_gen_loss'] = gen_losses[-1] if gen_losses else 0\n",
    "            metrics['final_disc_loss'] = disc_losses[-1] if disc_losses else 0\n",
    "            metrics['final_val_loss'] = val_losses[-1] if val_losses else 0\n",
    "            \n",
    "            # Loss improvement (first 10% vs last 10% of training)\n",
    "            early_period = max(1, len(gen_losses) // 10)\n",
    "            early_gen_loss = np.mean(gen_losses[:early_period])\n",
    "            late_gen_loss = np.mean(gen_losses[-early_period:])\n",
    "            metrics['gen_loss_improvement'] = early_gen_loss - late_gen_loss\n",
    "            \n",
    "            self.stability_metrics[config] = metrics\n",
    "        \n",
    "        print(\"Stability metrics calculated for all configurations\")\n",
    "    \n",
    "    def plot_stability_analysis(self, save_path=None):\n",
    "        if not self.histories:\n",
    "            print(\"No training histories loaded\")\n",
    "            return\n",
    "        \n",
    "        fig, axes = plt.subplots(3, 3, figsize=(20, 15))\n",
    "        fig.suptitle('Training Stability Analysis', fontsize=16, fontweight='bold')\n",
    "        \n",
    "        colors = ['#3498db', '#e74c3c', '#2ecc71']\n",
    "        \n",
    "        # Plot 1: Loss trajectories with smoothing\n",
    "        ax = axes[0, 0]\n",
    "        for i, (config, history) in enumerate(self.histories.items()):\n",
    "            if 'gen_loss' in history:\n",
    "                epochs = range(1, len(history['gen_loss']) + 1)\n",
    "                ax.plot(epochs, history['gen_loss'], alpha=0.3, color=colors[i % len(colors)])\n",
    "                \n",
    "                # Add smoothed version\n",
    "                if len(history['gen_loss']) > 10:\n",
    "                    smoothed = savgol_filter(history['gen_loss'], \n",
    "                                           min(11, len(history['gen_loss'])//2*2+1), 3)\n",
    "                    ax.plot(epochs, smoothed, label=f'{config.capitalize()}', \n",
    "                           color=colors[i % len(colors)], linewidth=2)\n",
    "        \n",
    "        ax.set_title('Generator Loss Trajectories (Smoothed)')\n",
    "        ax.set_xlabel('Epoch')\n",
    "        ax.set_ylabel('Loss')\n",
    "        ax.legend()\n",
    "        ax.grid(True, alpha=0.3)\n",
    "        \n",
    "        # Plot 2: Loss variance over time\n",
    "        ax = axes[0, 1]\n",
    "        for i, (config, history) in enumerate(self.histories.items()):\n",
    "            if 'gen_loss' in history:\n",
    "                # Calculate rolling variance\n",
    "                window_size = max(5, len(history['gen_loss']) // 20)\n",
    "                rolling_var = []\n",
    "                epochs = []\n",
    "                \n",
    "                for j in range(window_size, len(history['gen_loss'])):\n",
    "                    window = history['gen_loss'][j-window_size:j]\n",
    "                    rolling_var.append(np.var(window))\n",
    "                    epochs.append(j+1)\n",
    "                \n",
    "                ax.plot(epochs, rolling_var, label=f'{config.capitalize()}', \n",
    "                       color=colors[i % len(colors)], linewidth=2)\n",
    "        \n",
    "        ax.set_title('Generator Loss Variance (Rolling Window)')\n",
    "        ax.set_xlabel('Epoch')\n",
    "        ax.set_ylabel('Variance')\n",
    "        ax.legend()\n",
    "        ax.grid(True, alpha=0.3)\n",
    "        \n",
    "        # Plot 3: Discriminator vs Generator Loss Balance\n",
    "        ax = axes[0, 2]\n",
    "        for i, (config, history) in enumerate(self.histories.items()):\n",
    "            if 'gen_loss' in history and 'disc_loss' in history:\n",
    "                # Calculate loss ratio over time\n",
    "                gen_smooth = savgol_filter(history['gen_loss'], \n",
    "                                         min(11, len(history['gen_loss'])//2*2+1), 3)\n",
    "                disc_smooth = savgol_filter(history['disc_loss'], \n",
    "                                          min(11, len(history['disc_loss'])//2*2+1), 3)\n",
    "                \n",
    "                ratio = gen_smooth / (disc_smooth + 1e-8)  # Avoid division by zero\n",
    "                epochs = range(1, len(ratio) + 1)\n",
    "                \n",
    "                ax.plot(epochs, ratio, label=f'{config.capitalize()}', \n",
    "                       color=colors[i % len(colors)], linewidth=2)\n",
    "        \n",
    "        ax.axhline(y=1.0, color='black', linestyle='--', alpha=0.5, label='Perfect Balance')\n",
    "        ax.set_title('Generator/Discriminator Loss Ratio')\n",
    "        ax.set_xlabel('Epoch')\n",
    "        ax.set_ylabel('Gen Loss / Disc Loss')\n",
    "        ax.legend()\n",
    "        ax.grid(True, alpha=0.3)\n",
    "        \n",
    "        # Plot 4: Convergence analysis\n",
    "        ax = axes[1, 0]\n",
    "        configs = list(self.stability_metrics.keys())\n",
    "        gen_convergence = [self.stability_metrics[config]['gen_convergence_rate'] for config in configs]\n",
    "        disc_convergence = [self.stability_metrics[config]['disc_convergence_rate'] for config in configs]\n",
    "        \n",
    "        x = np.arange(len(configs))\n",
    "        width = 0.35\n",
    "        \n",
    "        ax.bar(x - width/2, gen_convergence, width, label='Generator', alpha=0.7, color=colors[0])\n",
    "        ax.bar(x + width/2, disc_convergence, width, label='Discriminator', alpha=0.7, color=colors[1])\n",
    "        \n",
    "        ax.set_title('Convergence Rates')\n",
    "        ax.set_xlabel('Configuration')\n",
    "        ax.set_ylabel('Convergence Rate')\n",
    "        ax.set_xticks(x)\n",
    "        ax.set_xticklabels([c.capitalize() for c in configs])\n",
    "        ax.legend()\n",
    "        ax.grid(True, alpha=0.3)\n",
    "        \n",
    "        # Plot 5: Mode collapse indicators\n",
    "        ax = axes[1, 1]\n",
    "        collapse_ratios = [self.stability_metrics[config]['mode_collapse_ratio'] for config in configs]\n",
    "        \n",
    "        bars = ax.bar(configs, collapse_ratios, color=colors[:len(configs)], alpha=0.7)\n",
    "        ax.axhline(y=0.1, color='red', linestyle='--', alpha=0.7, label='Collapse Threshold')\n",
    "        \n",
    "        # Highlight problematic configurations\n",
    "        for i, (bar, ratio) in enumerate(zip(bars, collapse_ratios)):\n",
    "            if ratio > 0.1:\n",
    "                bar.set_color('red')\n",
    "                bar.set_alpha(0.8)\n",
    "        \n",
    "        ax.set_title('Mode Collapse Indicators')\n",
    "        ax.set_xlabel('Configuration')\n",
    "        ax.set_ylabel('Collapse Ratio')\n",
    "        ax.set_xticklabels([c.capitalize() for c in configs])\n",
    "        ax.legend()\n",
    "        ax.grid(True, alpha=0.3)\n",
    "        \n",
    "        # Plot 6: Training oscillations\n",
    "        ax = axes[1, 2]\n",
    "        gen_osc = [self.stability_metrics[config]['gen_oscillations'] for config in configs]\n",
    "        disc_osc = [self.stability_metrics[config]['disc_oscillations'] for config in configs]\n",
    "        \n",
    "        x = np.arange(len(configs))\n",
    "        ax.bar(x - width/2, gen_osc, width, label='Generator', alpha=0.7, color=colors[0])\n",
    "        ax.bar(x + width/2, disc_osc, width, label='Discriminator', alpha=0.7, color=colors[1])\n",
    "        \n",
    "        ax.set_title('Training Oscillations')\n",
    "        ax.set_xlabel('Configuration')\n",
    "        ax.set_ylabel('Oscillation Magnitude')\n",
    "        ax.set_xticks(x)\n",
    "        ax.set_xticklabels([c.capitalize() for c in configs])\n",
    "        ax.legend()\n",
    "        ax.grid(True, alpha=0.3)\n",
    "        \n",
    "        # Plot 7: Validation stability\n",
    "        ax = axes[2, 0]\n",
    "        for i, (config, history) in enumerate(self.histories.items()):\n",
    "            if 'val_gen_loss' in history:\n",
    "                epochs = range(1, len(history['val_gen_loss']) + 1)\n",
    "                ax.plot(epochs, history['val_gen_loss'], \n",
    "                       label=f'{config.capitalize()}', \n",
    "                       color=colors[i % len(colors)], linewidth=2, marker='o', markersize=3)\n",
    "        \n",
    "        ax.set_title('Validation Loss Stability')\n",
    "        ax.set_xlabel('Epoch')\n",
    "        ax.set_ylabel('Validation Loss')\n",
    "        ax.legend()\n",
    "        ax.grid(True, alpha=0.3)\n",
    "        \n",
    "        # Plot 8: Loss improvement comparison\n",
    "        ax = axes[2, 1]\n",
    "        improvements = [self.stability_metrics[config]['gen_loss_improvement'] for config in configs]\n",
    "        \n",
    "        bars = ax.bar(configs, improvements, color=colors[:len(configs)], alpha=0.7)\n",
    "        \n",
    "        # Color bars based on improvement (green for good, red for poor)\n",
    "        for bar, improvement in zip(bars, improvements):\n",
    "            if improvement > 0:\n",
    "                bar.set_color('green')\n",
    "            else:\n",
    "                bar.set_color('red')\n",
    "        \n",
    "        ax.set_title('Loss Improvement (Early vs Late Training)')\n",
    "        ax.set_xlabel('Configuration')\n",
    "        ax.set_ylabel('Loss Improvement')\n",
    "        ax.set_xticklabels([c.capitalize() for c in configs])\n",
    "        ax.axhline(y=0, color='black', linestyle='-', alpha=0.3)\n",
    "        ax.grid(True, alpha=0.3)\n",
    "        \n",
    "        # Plot 9: Overall stability score\n",
    "        ax = axes[2, 2]\n",
    "        \n",
    "        # Calculate overall stability score (lower is better)\n",
    "        stability_scores = []\n",
    "        for config in configs:\n",
    "            metrics = self.stability_metrics[config]\n",
    "            \n",
    "            score = (\n",
    "                metrics['gen_loss_variance'] * 0.2 +\n",
    "                metrics['disc_loss_variance'] * 0.2 +\n",
    "                metrics['mode_collapse_ratio'] * 0.3 +\n",
    "                metrics['gen_oscillations'] * 0.15 +\n",
    "                metrics['disc_oscillations'] * 0.15\n",
    "            )\n",
    "            stability_scores.append(score)\n",
    "        \n",
    "        bars = ax.bar(configs, stability_scores, color=colors[:len(configs)], alpha=0.7)\n",
    "        \n",
    "        # Highlight best performing configuration\n",
    "        best_idx = np.argmin(stability_scores)\n",
    "        bars[best_idx].set_color('gold')\n",
    "        bars[best_idx].set_edgecolor('black')\n",
    "        bars[best_idx].set_linewidth(2)\n",
    "        \n",
    "        ax.set_title('Overall Stability Score (Lower is Better)')\n",
    "        ax.set_xlabel('Configuration')\n",
    "        ax.set_ylabel('Stability Score')\n",
    "        ax.set_xticklabels([c.capitalize() for c in configs])\n",
    "        ax.grid(True, alpha=0.3)\n",
    "        \n",
    "        plt.tight_layout()\n",
    "        \n",
    "        if save_path:\n",
    "            plt.savefig(save_path, dpi=300, bbox_inches='tight')\n",
    "            print(f\"Stability analysis plots saved to {save_path}\")\n",
    "        \n",
    "        plt.show()\n",
    "    \n",
    "    def create_stability_report(self, save_path=None):\n",
    "        if not self.stability_metrics:\n",
    "            print(\"No stability metrics calculated. Run analyze_stability_metrics() first.\")\n",
    "            return\n",
    "        \n",
    "        report_data = []\n",
    "        \n",
    "        for config, metrics in self.stability_metrics.items():\n",
    "            report_data.append({\n",
    "                'Configuration': config.capitalize(),\n",
    "                'Gen Loss Variance': f\"{metrics['gen_loss_variance']:.6f}\",\n",
    "                'Disc Loss Variance': f\"{metrics['disc_loss_variance']:.6f}\",\n",
    "                'Gen Convergence Rate': f\"{metrics['gen_convergence_rate']:.6f}\",\n",
    "                'Mode Collapse Risk': 'High' if metrics['mode_collapse_detected'] else 'Low',\n",
    "                'Collapse Ratio': f\"{metrics['mode_collapse_ratio']:.3f}\",\n",
    "                'Gen Oscillations': f\"{metrics['gen_oscillations']:.4f}\",\n",
    "                'Loss Improvement': f\"{metrics['gen_loss_improvement']:.4f}\",\n",
    "                'Final Gen Loss': f\"{metrics['final_gen_loss']:.4f}\",\n",
    "                'Final Val Loss': f\"{metrics['final_val_loss']:.4f}\"\n",
    "            })\n",
    "        \n",
    "        stability_df = pd.DataFrame(report_data)\n",
    "        \n",
    "        if save_path:\n",
    "            stability_df.to_csv(save_path, index=False)\n",
    "            print(f\"Stability report saved to {save_path}\")\n",
    "        \n",
    "        return stability_df\n",
    "\n",
    "def run_stability_analysis(training_histories):\n",
    "    print(\"=\" * 60)\n",
    "    print(\"TRAINING STABILITY ANALYSIS\")\n",
    "    print(\"=\" * 60)\n",
    "    \n",
    "    analyzer = TrainingStabilityAnalyzer()\n",
    "    analyzer.load_training_histories(training_histories)\n",
    "    \n",
    "    # Calculate stability metrics\n",
    "    analyzer.analyze_stability_metrics()\n",
    "    \n",
    "    # Create stability plots\n",
    "    plots_path = os.path.join(Config.SUMMARY_IMG_DIR, \"training_stability_analysis.png\")\n",
    "    analyzer.plot_stability_analysis(save_path=plots_path)\n",
    "    \n",
    "    # Generate stability report\n",
    "    report_path = os.path.join(Config.SUMMARY_CSV_DIR, \"training_stability_report.csv\")\n",
    "    stability_df = analyzer.create_stability_report(save_path=report_path)\n",
    "    \n",
    "    if stability_df is not None:\n",
    "        print(\"\\nTraining Stability Report:\")\n",
    "        print(stability_df.to_string(index=False))\n",
    "    \n",
    "    # Print key findings\n",
    "    print(\"\\nKey Stability Findings:\")\n",
    "    for config, metrics in analyzer.stability_metrics.items():\n",
    "        print(f\"\\n{config.capitalize()}:\")\n",
    "        print(f\"  - Loss Variance: {metrics['gen_loss_variance']:.6f}\")\n",
    "        print(f\"  - Convergence Rate: {metrics['gen_convergence_rate']:.6f}\")\n",
    "        print(f\"  - Mode Collapse Risk: {'High' if metrics['mode_collapse_detected'] else 'Low'}\")\n",
    "        print(f\"  - Training Oscillations: {metrics['gen_oscillations']:.4f}\")\n",
    "    \n",
    "    print(\"\\nTraining stability analysis completed\")\n",
    "    return analyzer\n"
   ]
  },
  {
   "cell_type": "code",
   "execution_count": null,
   "metadata": {},
   "outputs": [],
   "source": [
    "stability_analyzer = run_stability_analysis(training_histories)\n",
    "\n",
    "stability_results = stability_analyzer.stability_metrics"
   ]
  },
  {
   "cell_type": "markdown",
   "metadata": {},
   "source": [
    "## **12. Discussion and Conclusions**"
   ]
  },
  {
   "cell_type": "code",
   "execution_count": null,
   "metadata": {},
   "outputs": [],
   "source": [
    "def analyze_best_configuration(eval_results, stability_results, comp_results):\n",
    "    \"\"\"Determine best configuration across all metrics\"\"\"\n",
    "    configs = list(eval_results.keys())\n",
    "    scores = {}\n",
    "    \n",
    "    for config in configs:\n",
    "        # Quality score (PSNR + SSIM, normalized)\n",
    "        quality = (eval_results[config].get('psnr', 0) / 30 + \n",
    "                  eval_results[config].get('ssim', 0)) / 2\n",
    "        \n",
    "        # Stability score (lower variance = better)\n",
    "        stability = 1 / (1 + stability_results.get(config, {}).get('gen_loss_variance', 1))\n",
    "        \n",
    "        # Efficiency score (lower time = better)\n",
    "        efficiency = 100 / comp_results.get(config, {}).get('avg_inference_time_ms', 100)\n",
    "        \n",
    "        # Weighted overall score\n",
    "        scores[config] = quality * 0.5 + stability * 0.3 + efficiency * 0.2\n",
    "    \n",
    "    return max(scores, key=scores.get), scores\n",
    "\n",
    "def print_final_summary(eval_results, best_config, scores):\n",
    "    print(\"=\" * 60)\n",
    "    print(\"FINAL RESULTS SUMMARY\")\n",
    "    print(\"=\" * 60)\n",
    "    \n",
    "    print(f\"\\nBEST OVERALL: {best_config.upper()}\")\n",
    "    print(f\"Overall Score: {scores[best_config]:.3f}\")\n",
    "    \n",
    "    print(f\"\\nKEY METRICS COMPARISON:\")\n",
    "    for config in eval_results.keys():\n",
    "        metrics = eval_results[config]\n",
    "        print(f\"{config.capitalize():>12}: PSNR={metrics.get('psnr', 0):.2f}, \"\n",
    "              f\"SSIM={metrics.get('ssim', 0):.3f}, FID={metrics.get('fid', 0):.1f}\")\n",
    "    \n",
    "    print(f\"\\nRECOMMENDATIONS:\")\n",
    "    print(f\"• General use: {best_config.capitalize()} configuration\")\n",
    "    print(f\"• High quality: Perceptual (if available)\")\n",
    "    print(f\"• Fast inference: Standard configuration\") \n",
    "    print(f\"• Stable training: Regularized configuration\")\n",
    "\n",
    "# Get computational metrics\n",
    "comp_results = {}\n",
    "for config, gen in generators_dict.items():\n",
    "    comp_metrics = benchmark_computational_cost(gen, Config.DEVICE, num_runs=10)\n",
    "    comp_results[config] = comp_metrics\n",
    "\n",
    "# Determine best configuration\n",
    "best_config, all_scores = analyze_best_configuration(\n",
    "    evaluation_results, \n",
    "    stability_results, \n",
    "    comp_results\n",
    ")\n",
    "\n",
    "print_final_summary(evaluation_results, best_config, all_scores)\n",
    "\n",
    "# key results\n",
    "final_results = {\n",
    "    'best_configuration': best_config,\n",
    "    'configuration_scores': all_scores,\n",
    "    'evaluation_metrics': evaluation_results,\n",
    "    'computational_metrics': comp_results\n",
    "}\n",
    "\n",
    "import json\n",
    "with open(os.path.join(Config.SUMMARY_CSV_DIR, \"final_results.json\"), 'w') as f:\n",
    "    json.dump(final_results, f, indent=2, default=str)\n",
    "\n",
    "print(f\"\\nResults saved to {Config.SUMMARY_CSV_DIR}/final_results.json\")\n",
    "print(\"ANALYSIS COMPLETE\")\n",
    "print(\"=\" * 60)"
   ]
  }
 ],
 "metadata": {
  "language_info": {
   "name": "python"
  }
 },
 "nbformat": 4,
 "nbformat_minor": 2
}
